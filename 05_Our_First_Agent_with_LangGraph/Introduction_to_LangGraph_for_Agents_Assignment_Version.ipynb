{
  "nbformat": 4,
  "nbformat_minor": 0,
  "metadata": {
    "colab": {
      "provenance": []
    },
    "kernelspec": {
      "name": "python3",
      "display_name": "Python 3"
    },
    "language_info": {
      "name": "python"
    },
    "widgets": {
      "application/vnd.jupyter.widget-state+json": {
        "efcf57067cf743d8b4ce059a61cbe02e": {
          "model_module": "@jupyter-widgets/controls",
          "model_name": "HBoxModel",
          "model_module_version": "1.5.0",
          "state": {
            "_dom_classes": [],
            "_model_module": "@jupyter-widgets/controls",
            "_model_module_version": "1.5.0",
            "_model_name": "HBoxModel",
            "_view_count": null,
            "_view_module": "@jupyter-widgets/controls",
            "_view_module_version": "1.5.0",
            "_view_name": "HBoxView",
            "box_style": "",
            "children": [
              "IPY_MODEL_53e33aae3b97490c82aec7bbb0d6ebba",
              "IPY_MODEL_ad84e0e971d3455db2efe7dd0d1f803e",
              "IPY_MODEL_72adef9b70dd48198b7322b6c5b113cf"
            ],
            "layout": "IPY_MODEL_8a61d045ffd44ac58f3f13eb10044836"
          }
        },
        "53e33aae3b97490c82aec7bbb0d6ebba": {
          "model_module": "@jupyter-widgets/controls",
          "model_name": "HTMLModel",
          "model_module_version": "1.5.0",
          "state": {
            "_dom_classes": [],
            "_model_module": "@jupyter-widgets/controls",
            "_model_module_version": "1.5.0",
            "_model_name": "HTMLModel",
            "_view_count": null,
            "_view_module": "@jupyter-widgets/controls",
            "_view_module_version": "1.5.0",
            "_view_name": "HTMLView",
            "description": "",
            "description_tooltip": null,
            "layout": "IPY_MODEL_041e22a9b5514e36bd4d1dac01d5d398",
            "placeholder": "​",
            "style": "IPY_MODEL_886d762f2a7c421382efb5502c6d42a1",
            "value": ""
          }
        },
        "ad84e0e971d3455db2efe7dd0d1f803e": {
          "model_module": "@jupyter-widgets/controls",
          "model_name": "FloatProgressModel",
          "model_module_version": "1.5.0",
          "state": {
            "_dom_classes": [],
            "_model_module": "@jupyter-widgets/controls",
            "_model_module_version": "1.5.0",
            "_model_name": "FloatProgressModel",
            "_view_count": null,
            "_view_module": "@jupyter-widgets/controls",
            "_view_module_version": "1.5.0",
            "_view_name": "ProgressView",
            "bar_style": "success",
            "description": "",
            "description_tooltip": null,
            "layout": "IPY_MODEL_ab91fd625bbd43afbf8c6398193a88d0",
            "max": 1,
            "min": 0,
            "orientation": "horizontal",
            "style": "IPY_MODEL_716557ad09874dcb989d75f7c74424cd",
            "value": 1
          }
        },
        "72adef9b70dd48198b7322b6c5b113cf": {
          "model_module": "@jupyter-widgets/controls",
          "model_name": "HTMLModel",
          "model_module_version": "1.5.0",
          "state": {
            "_dom_classes": [],
            "_model_module": "@jupyter-widgets/controls",
            "_model_module_version": "1.5.0",
            "_model_name": "HTMLModel",
            "_view_count": null,
            "_view_module": "@jupyter-widgets/controls",
            "_view_module_version": "1.5.0",
            "_view_name": "HTMLView",
            "description": "",
            "description_tooltip": null,
            "layout": "IPY_MODEL_77d4c0ebaae045b58efc4f789c9a2360",
            "placeholder": "​",
            "style": "IPY_MODEL_0d622ccc56264fac8fd7508dbdbe6e29",
            "value": " 6/? [00:36&lt;00:00,  5.78s/it]"
          }
        },
        "8a61d045ffd44ac58f3f13eb10044836": {
          "model_module": "@jupyter-widgets/base",
          "model_name": "LayoutModel",
          "model_module_version": "1.2.0",
          "state": {
            "_model_module": "@jupyter-widgets/base",
            "_model_module_version": "1.2.0",
            "_model_name": "LayoutModel",
            "_view_count": null,
            "_view_module": "@jupyter-widgets/base",
            "_view_module_version": "1.2.0",
            "_view_name": "LayoutView",
            "align_content": null,
            "align_items": null,
            "align_self": null,
            "border": null,
            "bottom": null,
            "display": null,
            "flex": null,
            "flex_flow": null,
            "grid_area": null,
            "grid_auto_columns": null,
            "grid_auto_flow": null,
            "grid_auto_rows": null,
            "grid_column": null,
            "grid_gap": null,
            "grid_row": null,
            "grid_template_areas": null,
            "grid_template_columns": null,
            "grid_template_rows": null,
            "height": null,
            "justify_content": null,
            "justify_items": null,
            "left": null,
            "margin": null,
            "max_height": null,
            "max_width": null,
            "min_height": null,
            "min_width": null,
            "object_fit": null,
            "object_position": null,
            "order": null,
            "overflow": null,
            "overflow_x": null,
            "overflow_y": null,
            "padding": null,
            "right": null,
            "top": null,
            "visibility": null,
            "width": null
          }
        },
        "041e22a9b5514e36bd4d1dac01d5d398": {
          "model_module": "@jupyter-widgets/base",
          "model_name": "LayoutModel",
          "model_module_version": "1.2.0",
          "state": {
            "_model_module": "@jupyter-widgets/base",
            "_model_module_version": "1.2.0",
            "_model_name": "LayoutModel",
            "_view_count": null,
            "_view_module": "@jupyter-widgets/base",
            "_view_module_version": "1.2.0",
            "_view_name": "LayoutView",
            "align_content": null,
            "align_items": null,
            "align_self": null,
            "border": null,
            "bottom": null,
            "display": null,
            "flex": null,
            "flex_flow": null,
            "grid_area": null,
            "grid_auto_columns": null,
            "grid_auto_flow": null,
            "grid_auto_rows": null,
            "grid_column": null,
            "grid_gap": null,
            "grid_row": null,
            "grid_template_areas": null,
            "grid_template_columns": null,
            "grid_template_rows": null,
            "height": null,
            "justify_content": null,
            "justify_items": null,
            "left": null,
            "margin": null,
            "max_height": null,
            "max_width": null,
            "min_height": null,
            "min_width": null,
            "object_fit": null,
            "object_position": null,
            "order": null,
            "overflow": null,
            "overflow_x": null,
            "overflow_y": null,
            "padding": null,
            "right": null,
            "top": null,
            "visibility": null,
            "width": null
          }
        },
        "886d762f2a7c421382efb5502c6d42a1": {
          "model_module": "@jupyter-widgets/controls",
          "model_name": "DescriptionStyleModel",
          "model_module_version": "1.5.0",
          "state": {
            "_model_module": "@jupyter-widgets/controls",
            "_model_module_version": "1.5.0",
            "_model_name": "DescriptionStyleModel",
            "_view_count": null,
            "_view_module": "@jupyter-widgets/base",
            "_view_module_version": "1.2.0",
            "_view_name": "StyleView",
            "description_width": ""
          }
        },
        "ab91fd625bbd43afbf8c6398193a88d0": {
          "model_module": "@jupyter-widgets/base",
          "model_name": "LayoutModel",
          "model_module_version": "1.2.0",
          "state": {
            "_model_module": "@jupyter-widgets/base",
            "_model_module_version": "1.2.0",
            "_model_name": "LayoutModel",
            "_view_count": null,
            "_view_module": "@jupyter-widgets/base",
            "_view_module_version": "1.2.0",
            "_view_name": "LayoutView",
            "align_content": null,
            "align_items": null,
            "align_self": null,
            "border": null,
            "bottom": null,
            "display": null,
            "flex": null,
            "flex_flow": null,
            "grid_area": null,
            "grid_auto_columns": null,
            "grid_auto_flow": null,
            "grid_auto_rows": null,
            "grid_column": null,
            "grid_gap": null,
            "grid_row": null,
            "grid_template_areas": null,
            "grid_template_columns": null,
            "grid_template_rows": null,
            "height": null,
            "justify_content": null,
            "justify_items": null,
            "left": null,
            "margin": null,
            "max_height": null,
            "max_width": null,
            "min_height": null,
            "min_width": null,
            "object_fit": null,
            "object_position": null,
            "order": null,
            "overflow": null,
            "overflow_x": null,
            "overflow_y": null,
            "padding": null,
            "right": null,
            "top": null,
            "visibility": null,
            "width": "20px"
          }
        },
        "716557ad09874dcb989d75f7c74424cd": {
          "model_module": "@jupyter-widgets/controls",
          "model_name": "ProgressStyleModel",
          "model_module_version": "1.5.0",
          "state": {
            "_model_module": "@jupyter-widgets/controls",
            "_model_module_version": "1.5.0",
            "_model_name": "ProgressStyleModel",
            "_view_count": null,
            "_view_module": "@jupyter-widgets/base",
            "_view_module_version": "1.2.0",
            "_view_name": "StyleView",
            "bar_color": null,
            "description_width": ""
          }
        },
        "77d4c0ebaae045b58efc4f789c9a2360": {
          "model_module": "@jupyter-widgets/base",
          "model_name": "LayoutModel",
          "model_module_version": "1.2.0",
          "state": {
            "_model_module": "@jupyter-widgets/base",
            "_model_module_version": "1.2.0",
            "_model_name": "LayoutModel",
            "_view_count": null,
            "_view_module": "@jupyter-widgets/base",
            "_view_module_version": "1.2.0",
            "_view_name": "LayoutView",
            "align_content": null,
            "align_items": null,
            "align_self": null,
            "border": null,
            "bottom": null,
            "display": null,
            "flex": null,
            "flex_flow": null,
            "grid_area": null,
            "grid_auto_columns": null,
            "grid_auto_flow": null,
            "grid_auto_rows": null,
            "grid_column": null,
            "grid_gap": null,
            "grid_row": null,
            "grid_template_areas": null,
            "grid_template_columns": null,
            "grid_template_rows": null,
            "height": null,
            "justify_content": null,
            "justify_items": null,
            "left": null,
            "margin": null,
            "max_height": null,
            "max_width": null,
            "min_height": null,
            "min_width": null,
            "object_fit": null,
            "object_position": null,
            "order": null,
            "overflow": null,
            "overflow_x": null,
            "overflow_y": null,
            "padding": null,
            "right": null,
            "top": null,
            "visibility": null,
            "width": null
          }
        },
        "0d622ccc56264fac8fd7508dbdbe6e29": {
          "model_module": "@jupyter-widgets/controls",
          "model_name": "DescriptionStyleModel",
          "model_module_version": "1.5.0",
          "state": {
            "_model_module": "@jupyter-widgets/controls",
            "_model_module_version": "1.5.0",
            "_model_name": "DescriptionStyleModel",
            "_view_count": null,
            "_view_module": "@jupyter-widgets/base",
            "_view_module_version": "1.2.0",
            "_view_name": "StyleView",
            "description_width": ""
          }
        }
      }
    }
  },
  "cells": [
    {
      "cell_type": "markdown",
      "source": [
        "# LangGraph and LangSmith - Agentic RAG Powered by LangChain\n",
        "\n",
        "In the following notebook we'll complete the following tasks:\n",
        "\n",
        "- 🤝 Breakout Room #1:\n",
        "  1. Install required libraries\n",
        "  2. Set Environment Variables\n",
        "  3. Creating our Tool Belt\n",
        "  4. Creating Our State\n",
        "  5. Creating and Compiling A Graph!\n",
        "\n",
        "  - 🤝 Breakout Room #2:\n",
        "  1. Evaluating the LangGraph Application with LangSmith\n",
        "  2. Adding Helpfulness Check and \"Loop\" Limits\n",
        "  3. LangGraph for the \"Patterns\" of GenAI"
      ],
      "metadata": {
        "id": "gJXW_DgiSebM"
      }
    },
    {
      "cell_type": "markdown",
      "source": [
        "# 🤝 Breakout Room #1"
      ],
      "metadata": {
        "id": "djQ3nRAgoF67"
      }
    },
    {
      "cell_type": "markdown",
      "source": [
        "## Part 1: LangGraph - Building Cyclic Applications with LangChain\n",
        "\n",
        "LangGraph is a tool that leverages LangChain Expression Language to build coordinated multi-actor and stateful applications that includes cyclic behaviour.\n",
        "\n",
        "### Why Cycles?\n",
        "\n",
        "In essence, we can think of a cycle in our graph as a more robust and customizable loop. It allows us to keep our application agent-forward while still giving the powerful functionality of traditional loops.\n",
        "\n",
        "Due to the inclusion of cycles over loops, we can also compose rather complex flows through our graph in a much more readable and natural fashion. Effectively allowing us to recreate application flowcharts in code in an almost 1-to-1 fashion.\n",
        "\n",
        "### Why LangGraph?\n",
        "\n",
        "Beyond the agent-forward approach - we can easily compose and combine traditional \"DAG\" (directed acyclic graph) chains with powerful cyclic behaviour due to the tight integration with LCEL. This means it's a natural extension to LangChain's core offerings!"
      ],
      "metadata": {
        "id": "e7pQDUhUnIo8"
      }
    },
    {
      "cell_type": "markdown",
      "source": [
        "## Task 1:  Dependencies\n",
        "\n",
        "We'll first install all our required libraries.\n",
        "\n",
        "> NOTE: If you're running this locally - please skip this step."
      ],
      "metadata": {
        "id": "3_fLDElOVoop"
      }
    },
    {
      "cell_type": "code",
      "execution_count": 1,
      "metadata": {
        "id": "KaVwN269EttM",
        "colab": {
          "base_uri": "https://localhost:8080/"
        },
        "outputId": "ba50f775-3957-4d88-9a88-43acc6966dda"
      },
      "outputs": [
        {
          "output_type": "stream",
          "name": "stdout",
          "text": [
            "  Preparing metadata (setup.py) ... \u001b[?25l\u001b[?25hdone\n",
            "\u001b[2K   \u001b[90m━━━━━━━━━━━━━━━━━━━━━━━━━━━━━━━━━━━━━━━━\u001b[0m \u001b[32m1.0/1.0 MB\u001b[0m \u001b[31m12.9 MB/s\u001b[0m eta \u001b[36m0:00:00\u001b[0m\n",
            "\u001b[2K   \u001b[90m━━━━━━━━━━━━━━━━━━━━━━━━━━━━━━━━━━━━━━━━\u001b[0m \u001b[32m54.4/54.4 kB\u001b[0m \u001b[31m3.4 MB/s\u001b[0m eta \u001b[36m0:00:00\u001b[0m\n",
            "\u001b[2K   \u001b[90m━━━━━━━━━━━━━━━━━━━━━━━━━━━━━━━━━━━━━━━━\u001b[0m \u001b[32m2.5/2.5 MB\u001b[0m \u001b[31m47.3 MB/s\u001b[0m eta \u001b[36m0:00:00\u001b[0m\n",
            "\u001b[2K   \u001b[90m━━━━━━━━━━━━━━━━━━━━━━━━━━━━━━━━━━━━━━━━\u001b[0m \u001b[32m145.8/145.8 kB\u001b[0m \u001b[31m9.1 MB/s\u001b[0m eta \u001b[36m0:00:00\u001b[0m\n",
            "\u001b[2K   \u001b[90m━━━━━━━━━━━━━━━━━━━━━━━━━━━━━━━━━━━━━━━━\u001b[0m \u001b[32m81.3/81.3 kB\u001b[0m \u001b[31m3.3 MB/s\u001b[0m eta \u001b[36m0:00:00\u001b[0m\n",
            "\u001b[2K   \u001b[90m━━━━━━━━━━━━━━━━━━━━━━━━━━━━━━━━━━━━━━━━\u001b[0m \u001b[32m412.4/412.4 kB\u001b[0m \u001b[31m12.1 MB/s\u001b[0m eta \u001b[36m0:00:00\u001b[0m\n",
            "\u001b[2K   \u001b[90m━━━━━━━━━━━━━━━━━━━━━━━━━━━━━━━━━━━━━━━━\u001b[0m \u001b[32m44.7/44.7 kB\u001b[0m \u001b[31m2.7 MB/s\u001b[0m eta \u001b[36m0:00:00\u001b[0m\n",
            "\u001b[2K   \u001b[90m━━━━━━━━━━━━━━━━━━━━━━━━━━━━━━━━━━━━━━━━\u001b[0m \u001b[32m1.2/1.2 MB\u001b[0m \u001b[31m19.5 MB/s\u001b[0m eta \u001b[36m0:00:00\u001b[0m\n",
            "\u001b[2K   \u001b[90m━━━━━━━━━━━━━━━━━━━━━━━━━━━━━━━━━━━━━━━━\u001b[0m \u001b[32m50.8/50.8 kB\u001b[0m \u001b[31m3.1 MB/s\u001b[0m eta \u001b[36m0:00:00\u001b[0m\n",
            "\u001b[?25h  Building wheel for sgmllib3k (setup.py) ... \u001b[?25l\u001b[?25hdone\n"
          ]
        }
      ],
      "source": [
        "!pip install -qU langchain langchain_openai langchain-community langgraph arxiv"
      ]
    },
    {
      "cell_type": "markdown",
      "source": [
        "## Task 2: Environment Variables\n",
        "\n",
        "We'll want to set both our OpenAI API key and our LangSmith environment variables."
      ],
      "metadata": {
        "id": "wujPjGJuoPwg"
      }
    },
    {
      "cell_type": "code",
      "source": [
        "import os\n",
        "import getpass\n",
        "\n",
        "os.environ[\"OPENAI_API_KEY\"] = getpass.getpass(\"OpenAI API Key:\")"
      ],
      "metadata": {
        "colab": {
          "base_uri": "https://localhost:8080/"
        },
        "id": "Jdh8CoVWHRvs",
        "outputId": "3fa78560-393c-4ee5-b871-9886bf0d70f4"
      },
      "execution_count": 2,
      "outputs": [
        {
          "name": "stdout",
          "output_type": "stream",
          "text": [
            "OpenAI API Key:··········\n"
          ]
        }
      ]
    },
    {
      "cell_type": "markdown",
      "source": [],
      "metadata": {
        "id": "BLmneW40276B"
      }
    },
    {
      "cell_type": "code",
      "source": [
        "os.environ[\"TAVILY_API_KEY\"] = getpass.getpass(\"TAVILY_API_KEY\")"
      ],
      "metadata": {
        "colab": {
          "base_uri": "https://localhost:8080/"
        },
        "id": "Jkla2fpx28QK",
        "outputId": "52d7ad22-fcb1-4abe-853b-216c55a12650"
      },
      "execution_count": 3,
      "outputs": [
        {
          "name": "stdout",
          "output_type": "stream",
          "text": [
            "TAVILY_API_KEY··········\n"
          ]
        }
      ]
    },
    {
      "cell_type": "code",
      "source": [
        "from uuid import uuid4\n",
        "\n",
        "os.environ[\"LANGCHAIN_TRACING_V2\"] = \"true\"\n",
        "os.environ[\"LANGCHAIN_PROJECT\"] = f\"AIE5 - LangGraph - {uuid4().hex[0:8]}\"\n",
        "os.environ[\"LANGCHAIN_API_KEY\"] = getpass.getpass(\"LangSmith API Key: \")"
      ],
      "metadata": {
        "colab": {
          "base_uri": "https://localhost:8080/"
        },
        "id": "Nv0glIDyHmRt",
        "outputId": "b69df90a-b4e1-4ddb-9de0-882d98b68ab2"
      },
      "execution_count": 4,
      "outputs": [
        {
          "name": "stdout",
          "output_type": "stream",
          "text": [
            "LangSmith API Key: ··········\n"
          ]
        }
      ]
    },
    {
      "cell_type": "markdown",
      "source": [
        "## Task 3: Creating our Tool Belt\n",
        "\n",
        "As is usually the case, we'll want to equip our agent with a toolbelt to help answer questions and add external knowledge.\n",
        "\n",
        "There's a tonne of tools in the [LangChain Community Repo](https://github.com/langchain-ai/langchain/tree/master/libs/community/langchain_community/tools) but we'll stick to a couple just so we can observe the cyclic nature of LangGraph in action!\n",
        "\n",
        "We'll leverage:\n",
        "\n",
        "- [Tavily Search Results](https://github.com/langchain-ai/langchain/blob/master/libs/community/langchain_community/tools/tavily_search/tool.py)\n",
        "- [Arxiv](https://github.com/langchain-ai/langchain/tree/master/libs/community/langchain_community/tools/arxiv)"
      ],
      "metadata": {
        "id": "sBRyQmEAVzua"
      }
    },
    {
      "cell_type": "markdown",
      "source": [
        "####🏗️ Activity #1:\n",
        "\n",
        "Please add the tools to use into our toolbelt.\n",
        "\n",
        "> NOTE: Each tool in our toolbelt should be a method."
      ],
      "metadata": {
        "id": "2k6n_Dob2F46"
      }
    },
    {
      "cell_type": "code",
      "source": [
        "from langchain_community.tools.tavily_search import TavilySearchResults\n",
        "from langchain_community.tools.arxiv.tool import ArxivQueryRun\n",
        "\n",
        "tavily_tool = TavilySearchResults(max_results=5)\n",
        "\n",
        "tool_belt = [\n",
        "    tavily_tool,\n",
        "    ArxivQueryRun(),\n",
        "]"
      ],
      "metadata": {
        "id": "lAxaSvlfIeOg"
      },
      "execution_count": 5,
      "outputs": []
    },
    {
      "cell_type": "markdown",
      "source": [
        "### Model\n",
        "\n",
        "Now we can set-up our model! We'll leverage the familiar OpenAI model suite for this example - but it's not *necessary* to use with LangGraph. LangGraph supports all models - though you might not find success with smaller models - as such, they recommend you stick with:\n",
        "\n",
        "- OpenAI's GPT-3.5 and GPT-4\n",
        "- Anthropic's Claude\n",
        "- Google's Gemini\n",
        "\n",
        "> NOTE: Because we're leveraging the OpenAI function calling API - we'll need to use OpenAI *for this specific example* (or any other service that exposes an OpenAI-style function calling API."
      ],
      "metadata": {
        "id": "VI-C669ZYVI5"
      }
    },
    {
      "cell_type": "code",
      "source": [
        "from langchain_openai import ChatOpenAI\n",
        "\n",
        "model = ChatOpenAI(model=\"gpt-4o\", temperature=0)"
      ],
      "metadata": {
        "id": "QkNS8rNZJs4z"
      },
      "execution_count": 6,
      "outputs": []
    },
    {
      "cell_type": "markdown",
      "source": [
        "Now that we have our model set-up, let's \"put on the tool belt\", which is to say: We'll bind our LangChain formatted tools to the model in an OpenAI function calling format."
      ],
      "metadata": {
        "id": "Ugkj3GzuZpQv"
      }
    },
    {
      "cell_type": "code",
      "source": [
        "model = model.bind_tools(tool_belt)"
      ],
      "metadata": {
        "id": "4OdMqFafZ_0V"
      },
      "execution_count": 7,
      "outputs": []
    },
    {
      "cell_type": "markdown",
      "source": [
        "#### ❓ Question #1:\n",
        "\n",
        "How does the model determine which tool to use?"
      ],
      "metadata": {
        "id": "ERzuGo6W18Lr"
      }
    },
    {
      "cell_type": "markdown",
      "source": [
        "## Task 4: Putting the State in Stateful\n",
        "\n",
        "Earlier we used this phrasing:\n",
        "\n",
        "`coordinated multi-actor and stateful applications`\n",
        "\n",
        "So what does that \"stateful\" mean?\n",
        "\n",
        "To put it simply - we want to have some kind of object which we can pass around our application that holds information about what the current situation (state) is. Since our system will be constructed of many parts moving in a coordinated fashion - we want to be able to ensure we have some commonly understood idea of that state.\n",
        "\n",
        "LangGraph leverages a `StatefulGraph` which uses an `AgentState` object to pass information between the various nodes of the graph.\n",
        "\n",
        "There are more options than what we'll see below - but this `AgentState` object is one that is stored in a `TypedDict` with the key `messages` and the value is a `Sequence` of `BaseMessages` that will be appended to whenever the state changes.\n",
        "\n",
        "Let's think about a simple example to help understand exactly what this means (we'll simplify a great deal to try and clearly communicate what state is doing):\n",
        "\n",
        "1. We initialize our state object:\n",
        "  - `{\"messages\" : []}`\n",
        "2. Our user submits a query to our application.\n",
        "  - New State: `HumanMessage(#1)`\n",
        "  - `{\"messages\" : [HumanMessage(#1)}`\n",
        "3. We pass our state object to an Agent node which is able to read the current state. It will use the last `HumanMessage` as input. It gets some kind of output which it will add to the state.\n",
        "  - New State: `AgentMessage(#1, additional_kwargs {\"function_call\" : \"WebSearchTool\"})`\n",
        "  - `{\"messages\" : [HumanMessage(#1), AgentMessage(#1, ...)]}`\n",
        "4. We pass our state object to a \"conditional node\" (more on this later) which reads the last state to determine if we need to use a tool - which it can determine properly because of our provided object!"
      ],
      "metadata": {
        "id": "_296Ub96Z_H8"
      }
    },
    {
      "cell_type": "code",
      "source": [
        "from typing import TypedDict, Annotated\n",
        "from langgraph.graph.message import add_messages\n",
        "import operator\n",
        "from langchain_core.messages import BaseMessage\n",
        "\n",
        "class AgentState(TypedDict):\n",
        "  messages: Annotated[list, add_messages]"
      ],
      "metadata": {
        "id": "mxL9b_NZKUdL"
      },
      "execution_count": 8,
      "outputs": []
    },
    {
      "cell_type": "markdown",
      "source": [
        "## Task 5: It's Graphing Time!\n",
        "\n",
        "Now that we have state, and we have tools, and we have an LLM - we can finally start making our graph!\n",
        "\n",
        "Let's take a second to refresh ourselves about what a graph is in this context.\n",
        "\n",
        "Graphs, also called networks in some circles, are a collection of connected objects.\n",
        "\n",
        "The objects in question are typically called nodes, or vertices, and the connections are called edges.\n",
        "\n",
        "Let's look at a simple graph.\n",
        "\n",
        "![image](https://i.imgur.com/2NFLnIc.png)\n",
        "\n",
        "Here, we're using the coloured circles to represent the nodes and the yellow lines to represent the edges. In this case, we're looking at a fully connected graph - where each node is connected by an edge to each other node.\n",
        "\n",
        "If we were to think about nodes in the context of LangGraph - we would think of a function, or an LCEL runnable.\n",
        "\n",
        "If we were to think about edges in the context of LangGraph - we might think of them as \"paths to take\" or \"where to pass our state object next\".\n",
        "\n",
        "Let's create some nodes and expand on our diagram.\n",
        "\n",
        "> NOTE: Due to the tight integration with LCEL - we can comfortably create our nodes in an async fashion!"
      ],
      "metadata": {
        "id": "vWsMhfO9grLu"
      }
    },
    {
      "cell_type": "code",
      "source": [
        "from langgraph.prebuilt import ToolNode\n",
        "\n",
        "def call_model(state):\n",
        "  messages = state[\"messages\"]\n",
        "  response = model.invoke(messages)\n",
        "  return {\"messages\" : [response]}\n",
        "\n",
        "tool_node = ToolNode(tool_belt)"
      ],
      "metadata": {
        "id": "91flJWtZLUrl"
      },
      "execution_count": 9,
      "outputs": []
    },
    {
      "cell_type": "markdown",
      "source": [
        "Now we have two total nodes. We have:\n",
        "\n",
        "- `call_model` is a node that will...well...call the model\n",
        "- `tool_node` is a node which can call a tool\n",
        "\n",
        "Let's start adding nodes! We'll update our diagram along the way to keep track of what this looks like!\n"
      ],
      "metadata": {
        "id": "2bwR7MgWj3Wg"
      }
    },
    {
      "cell_type": "code",
      "source": [
        "from langgraph.graph import StateGraph, END\n",
        "\n",
        "uncompiled_graph = StateGraph(AgentState)\n",
        "\n",
        "uncompiled_graph.add_node(\"agent\", call_model)\n",
        "uncompiled_graph.add_node(\"action\", tool_node)"
      ],
      "metadata": {
        "id": "_vF4_lgtmQNo",
        "colab": {
          "base_uri": "https://localhost:8080/"
        },
        "outputId": "a4384377-8f7a-415f-be1b-fee6169cb101"
      },
      "execution_count": 10,
      "outputs": [
        {
          "output_type": "execute_result",
          "data": {
            "text/plain": [
              "<langgraph.graph.state.StateGraph at 0x7cff8d3ecb50>"
            ]
          },
          "metadata": {},
          "execution_count": 10
        }
      ]
    },
    {
      "cell_type": "markdown",
      "source": [
        "Let's look at what we have so far:\n",
        "\n",
        "![image](https://i.imgur.com/md7inqG.png)"
      ],
      "metadata": {
        "id": "b8CjRlbVmRpW"
      }
    },
    {
      "cell_type": "markdown",
      "source": [
        "Next, we'll add our entrypoint. All our entrypoint does is indicate which node is called first."
      ],
      "metadata": {
        "id": "uaXHpPeSnOWC"
      }
    },
    {
      "cell_type": "code",
      "source": [
        "uncompiled_graph.set_entry_point(\"agent\")"
      ],
      "metadata": {
        "id": "YGCbaYqRnmiw",
        "colab": {
          "base_uri": "https://localhost:8080/"
        },
        "outputId": "5351807c-2ac7-4316-a3a3-878abeacd114"
      },
      "execution_count": 11,
      "outputs": [
        {
          "output_type": "execute_result",
          "data": {
            "text/plain": [
              "<langgraph.graph.state.StateGraph at 0x7cff8d3ecb50>"
            ]
          },
          "metadata": {},
          "execution_count": 11
        }
      ]
    },
    {
      "cell_type": "markdown",
      "source": [
        "![image](https://i.imgur.com/wNixpJe.png)"
      ],
      "metadata": {
        "id": "BUsfGoSpoF9U"
      }
    },
    {
      "cell_type": "markdown",
      "source": [
        "Now we want to build a \"conditional edge\" which will use the output state of a node to determine which path to follow.\n",
        "\n",
        "We can help conceptualize this by thinking of our conditional edge as a conditional in a flowchart!\n",
        "\n",
        "Notice how our function simply checks if there is a \"function_call\" kwarg present.\n",
        "\n",
        "Then we create an edge where the origin node is our agent node and our destination node is *either* the action node or the END (finish the graph).\n",
        "\n",
        "It's important to highlight that the dictionary passed in as the third parameter (the mapping) should be created with the possible outputs of our conditional function in mind. In this case `should_continue` outputs either `\"end\"` or `\"continue\"` which are subsequently mapped to the action node or the END node."
      ],
      "metadata": {
        "id": "0Q_pQgHmoW0M"
      }
    },
    {
      "cell_type": "code",
      "source": [
        "def should_continue(state):\n",
        "  last_message = state[\"messages\"][-1]\n",
        "\n",
        "  if last_message.tool_calls:\n",
        "    return \"action\"\n",
        "\n",
        "  return END\n",
        "\n",
        "uncompiled_graph.add_conditional_edges(\n",
        "    \"agent\",\n",
        "    should_continue\n",
        ")"
      ],
      "metadata": {
        "id": "1BZgb81VQf9o",
        "colab": {
          "base_uri": "https://localhost:8080/"
        },
        "outputId": "73a07c15-5f0b-40f2-b033-38b57d056dd8"
      },
      "execution_count": 12,
      "outputs": [
        {
          "output_type": "execute_result",
          "data": {
            "text/plain": [
              "<langgraph.graph.state.StateGraph at 0x7cff8d3ecb50>"
            ]
          },
          "metadata": {},
          "execution_count": 12
        }
      ]
    },
    {
      "cell_type": "markdown",
      "source": [
        "Let's visualize what this looks like.\n",
        "\n",
        "![image](https://i.imgur.com/8ZNwKI5.png)"
      ],
      "metadata": {
        "id": "-Cvhcf4jp0Ce"
      }
    },
    {
      "cell_type": "markdown",
      "source": [
        "Finally, we can add our last edge which will connect our action node to our agent node. This is because we *always* want our action node (which is used to call our tools) to return its output to our agent!"
      ],
      "metadata": {
        "id": "yKCjWJCkrJb9"
      }
    },
    {
      "cell_type": "code",
      "source": [
        "uncompiled_graph.add_edge(\"action\", \"agent\")"
      ],
      "metadata": {
        "id": "UvcgbHf1rIXZ",
        "colab": {
          "base_uri": "https://localhost:8080/"
        },
        "outputId": "45d4bdd6-d6bb-4a1d-bb79-cad43c130bf2"
      },
      "execution_count": 13,
      "outputs": [
        {
          "output_type": "execute_result",
          "data": {
            "text/plain": [
              "<langgraph.graph.state.StateGraph at 0x7cff8d3ecb50>"
            ]
          },
          "metadata": {},
          "execution_count": 13
        }
      ]
    },
    {
      "cell_type": "markdown",
      "source": [
        "Let's look at the final visualization.\n",
        "\n",
        "![image](https://i.imgur.com/NWO7usO.png)"
      ],
      "metadata": {
        "id": "EiWDwBQtrw7Z"
      }
    },
    {
      "cell_type": "markdown",
      "source": [
        "All that's left to do now is to compile our workflow - and we're off!"
      ],
      "metadata": {
        "id": "KYqDpErlsCsu"
      }
    },
    {
      "cell_type": "code",
      "source": [
        "compiled_graph = uncompiled_graph.compile()"
      ],
      "metadata": {
        "id": "zt9-KS8DpzNx"
      },
      "execution_count": 14,
      "outputs": []
    },
    {
      "cell_type": "markdown",
      "source": [
        "#### ❓ Question #2:\n",
        "\n",
        "Is there any specific limit to how many times we can cycle?\n",
        "\n",
        "If not, how could we impose a limit to the number of cycles?"
      ],
      "metadata": {
        "id": "xhNWIwBL1W4Q"
      }
    },
    {
      "cell_type": "markdown",
      "source": [
        "## Using Our Graph\n",
        "\n",
        "Now that we've created and compiled our graph - we can call it *just as we'd call any other* `Runnable`!\n",
        "\n",
        "Let's try out a few examples to see how it fairs:"
      ],
      "metadata": {
        "id": "VEYcTShCsPaa"
      }
    },
    {
      "cell_type": "code",
      "source": [
        "from langchain_core.messages import HumanMessage\n",
        "\n",
        "inputs = {\"messages\" : [HumanMessage(content=\"Who is the current captain of the Winnipeg Jets?\")]}\n",
        "\n",
        "async for chunk in compiled_graph.astream(inputs, stream_mode=\"updates\"):\n",
        "    for node, values in chunk.items():\n",
        "        print(f\"Receiving update from node: '{node}'\")\n",
        "        print(values[\"messages\"])\n",
        "        print(\"\\n\\n\")"
      ],
      "metadata": {
        "colab": {
          "base_uri": "https://localhost:8080/"
        },
        "id": "Qn4n37PQRPII",
        "outputId": "5eeedfae-089d-496e-e71f-071939fa5832"
      },
      "execution_count": 15,
      "outputs": [
        {
          "output_type": "stream",
          "name": "stdout",
          "text": [
            "Receiving update from node: 'agent'\n",
            "[AIMessage(content='', additional_kwargs={'tool_calls': [{'id': 'call_GTx9br1H4vQFpr8Th9QTTfMf', 'function': {'arguments': '{\"query\":\"current captain of the Winnipeg Jets 2023\"}', 'name': 'tavily_search_results_json'}, 'type': 'function'}], 'refusal': None}, response_metadata={'token_usage': {'completion_tokens': 27, 'prompt_tokens': 162, 'total_tokens': 189, 'completion_tokens_details': {'accepted_prediction_tokens': 0, 'audio_tokens': 0, 'reasoning_tokens': 0, 'rejected_prediction_tokens': 0}, 'prompt_tokens_details': {'audio_tokens': 0, 'cached_tokens': 0}}, 'model_name': 'gpt-4o-2024-08-06', 'system_fingerprint': 'fp_50cad350e4', 'finish_reason': 'tool_calls', 'logprobs': None}, id='run-c2ddb570-a972-4966-bbde-2e7f694d1b50-0', tool_calls=[{'name': 'tavily_search_results_json', 'args': {'query': 'current captain of the Winnipeg Jets 2023'}, 'id': 'call_GTx9br1H4vQFpr8Th9QTTfMf', 'type': 'tool_call'}], usage_metadata={'input_tokens': 162, 'output_tokens': 27, 'total_tokens': 189, 'input_token_details': {'audio': 0, 'cache_read': 0}, 'output_token_details': {'audio': 0, 'reasoning': 0}})]\n",
            "\n",
            "\n",
            "\n",
            "Receiving update from node: 'action'\n",
            "[ToolMessage(content='[{\"url\": \"https://thehockeynews.com/nhl/winnipeg-jets/news/jets-name-adam-lowry-as-team-captain\", \"content\": \"Jets Name Adam Lowry as Team Captain - The Hockey News Winnipeg Jets News, Analysis and More My Account Subscriptions Jets Name Adam Lowry as Team Captain The Winnipeg Jets will have a captain for the 2023-24 season. After going captain-less in 2022-23, the Winnipeg Jets unveiled Adam Lowry as the club\\'s new captain on Tuesday morning. Having stripped Wheeler of the \\'C\\' upon joining the Jets last season, head coach Rick Bowness rolled with three alternates in 2022-23, as Lowry, Josh Morrissey and Mark Scheifele each served in leadership roles with the club. Although it will be his first time serving as a team captain since his final year with the Swift Current Broncos in 2012-13, Lowry won\\'t need to look far for leadership examples.\"}, {\"url\": \"https://www.nytimes.com/athletic/4855976/2023/09/12/adam-lowry-jets-captain/\", \"content\": \"Jets name Adam Lowry as captain ahead of 2023-24 season: Why Winnipeg chose him - The Athletic Jets name Adam Lowry as captain ahead of 2023-24 season: Why Winnipeg chose him The team gave forward Adam Lowry the honor Tuesday, making him the third captain in franchise history since the Jets moved from Atlanta. Lowry did exactly that, stitched an “A” on his sweater for the first time in 2022-23, and is now captain of the Winnipeg Jets. Morrissey would have been a worthy choice as captain and is more of an impact player at his position than Lowry is. Lowry served as an assistant captain for the first time last season with Morrissey and Scheifele.\"}, {\"url\": \"https://www.tsn.ca/nhl/winnipeg-jets-name-adam-lowry-captain-1.2006649\", \"content\": \"Winnipeg Jets name Adam Lowry captain | TSN TSN+ TSN+ TSN+ What is TSN+ Jets name Lowry captain ahead of his 10th season with team ![Image 70: Adam Lowry Winnipeg Jets](https://www.tsn.ca/content/dam/tsn/en/home/images/2023/4/22/adam-lowry-1-1950014-1682371533274.jpeg)Adam Lowry - Getty Images WINNIPEG — The pride in Adam Lowry\\'s voice was evident after being named captain of the Winnipeg Jets on Tuesday. “Now the organization is being led by someone that was a true Winnipeg Jet from day one,” said Jets general manager Kevin Cheveldayoff, who drafted the forward in 2011. \\\\\"We believe the time is right for Adam Lowry to assume this role and set the standard for the way the Winnipeg Jets will move forward with new leadership and new purpose.”\"}, {\"url\": \"https://globalnews.ca/news/9954570/winnipeg-jets-adam-lowry-captain/\", \"content\": \"Lowry, 30, becomes the third captain in Jets 2.0 history, following in the footsteps of Andrew Ladd, who announced his retirement from hockey on Sunday, and Blake Wheeler.\"}, {\"url\": \"https://winnipeg.citynews.ca/2023/09/12/winnipeg-jets-adam-lowry-captain/\", \"content\": \"Winnipeg Jets name Adam Lowry captain | CityNews Winnipeg Jets make Adam Lowry new captain, third to wear ‘C’ in Winnipeg history Winnipeg Jets centre Adam Lowry. Centre Adam Lowry was named the Winnipeg Jets new captain on Tuesday. Lowry is the third Jets captain since the team moved from Atlanta to Winnipeg in 2011. Watch CityNews Winnipeg, and get up-to-the-minute breaking-news alerts, traffic, weather and video from CityNews anywhere you are – across all Android and iOS devices. These cookies and data are essential for browsing our website and allowing services. These cookies and data enable the website to provide enhanced functionality and personalized content. These cookies may track data across websites for marketing and interest-based advertising to provide personalized content, offers, and advertisements.\"}]', name='tavily_search_results_json', id='e1ca9e71-b384-4c58-bd3e-8727bbaa5107', tool_call_id='call_GTx9br1H4vQFpr8Th9QTTfMf', artifact={'query': 'current captain of the Winnipeg Jets 2023', 'follow_up_questions': None, 'answer': None, 'images': [], 'results': [{'title': 'Jets Name Adam Lowry as Team Captain - The Hockey News', 'url': 'https://thehockeynews.com/nhl/winnipeg-jets/news/jets-name-adam-lowry-as-team-captain', 'content': \"Jets Name Adam Lowry as Team Captain - The Hockey News Winnipeg Jets News, Analysis and More My Account Subscriptions Jets Name Adam Lowry as Team Captain The Winnipeg Jets will have a captain for the 2023-24 season. After going captain-less in 2022-23, the Winnipeg Jets unveiled Adam Lowry as the club's new captain on Tuesday morning. Having stripped Wheeler of the 'C' upon joining the Jets last season, head coach Rick Bowness rolled with three alternates in 2022-23, as Lowry, Josh Morrissey and Mark Scheifele each served in leadership roles with the club. Although it will be his first time serving as a team captain since his final year with the Swift Current Broncos in 2012-13, Lowry won't need to look far for leadership examples.\", 'score': 0.9227683, 'raw_content': None}, {'title': 'Jets name Adam Lowry as captain ahead of 2023-24 season: Why Winnipeg ...', 'url': 'https://www.nytimes.com/athletic/4855976/2023/09/12/adam-lowry-jets-captain/', 'content': 'Jets name Adam Lowry as captain ahead of 2023-24 season: Why Winnipeg chose him - The Athletic Jets name Adam Lowry as captain ahead of 2023-24 season: Why Winnipeg chose him The team gave forward Adam Lowry the honor Tuesday, making him the third captain in franchise history since the Jets moved from Atlanta. Lowry did exactly that, stitched an “A” on his sweater for the first time in 2022-23, and is now captain of the Winnipeg Jets. Morrissey would have been a worthy choice as captain and is more of an impact player at his position than Lowry is. Lowry served as an assistant captain for the first time last season with Morrissey and Scheifele.', 'score': 0.8991304, 'raw_content': None}, {'title': 'Winnipeg Jets name Adam Lowry captain | TSN', 'url': 'https://www.tsn.ca/nhl/winnipeg-jets-name-adam-lowry-captain-1.2006649', 'content': 'Winnipeg Jets name Adam Lowry captain | TSN TSN+ TSN+ TSN+ What is TSN+ Jets name Lowry captain ahead of his 10th season with team ![Image 70: Adam Lowry Winnipeg Jets](https://www.tsn.ca/content/dam/tsn/en/home/images/2023/4/22/adam-lowry-1-1950014-1682371533274.jpeg)Adam Lowry - Getty Images WINNIPEG — The pride in Adam Lowry\\'s voice was evident after being named captain of the Winnipeg Jets on Tuesday. “Now the organization is being led by someone that was a true Winnipeg Jet from day one,” said Jets general manager Kevin Cheveldayoff, who drafted the forward in 2011. \"We believe the time is right for Adam Lowry to assume this role and set the standard for the way the Winnipeg Jets will move forward with new leadership and new purpose.”', 'score': 0.8682137, 'raw_content': None}, {'title': 'Winnipeg Jets announce Adam Lowry as new captain', 'url': 'https://globalnews.ca/news/9954570/winnipeg-jets-adam-lowry-captain/', 'content': 'Lowry, 30, becomes the third captain in Jets 2.0 history, following in the footsteps of Andrew Ladd, who announced his retirement from hockey on Sunday, and Blake Wheeler.', 'score': 0.7769112, 'raw_content': None}, {'title': 'Winnipeg Jets name Adam Lowry captain | CityNews Winnipeg', 'url': 'https://winnipeg.citynews.ca/2023/09/12/winnipeg-jets-adam-lowry-captain/', 'content': 'Winnipeg Jets name Adam Lowry captain | CityNews Winnipeg Jets make Adam Lowry new captain, third to wear ‘C’ in Winnipeg history Winnipeg Jets centre Adam Lowry. Centre Adam Lowry was named the Winnipeg Jets new captain on Tuesday. Lowry is the third Jets captain since the team moved from Atlanta to Winnipeg in 2011. Watch CityNews Winnipeg, and get up-to-the-minute breaking-news alerts, traffic, weather and video from CityNews anywhere you are – across all Android and iOS devices. These cookies and data are essential for browsing our website and allowing services. These cookies and data enable the website to provide enhanced functionality and personalized content. These cookies may track data across websites for marketing and interest-based advertising to provide personalized content, offers, and advertisements.', 'score': 0.75723875, 'raw_content': None}], 'response_time': 1.75})]\n",
            "\n",
            "\n",
            "\n",
            "Receiving update from node: 'agent'\n",
            "[AIMessage(content='The current captain of the Winnipeg Jets is Adam Lowry.', additional_kwargs={'refusal': None}, response_metadata={'token_usage': {'completion_tokens': 14, 'prompt_tokens': 1097, 'total_tokens': 1111, 'completion_tokens_details': {'accepted_prediction_tokens': 0, 'audio_tokens': 0, 'reasoning_tokens': 0, 'rejected_prediction_tokens': 0}, 'prompt_tokens_details': {'audio_tokens': 0, 'cached_tokens': 0}}, 'model_name': 'gpt-4o-2024-08-06', 'system_fingerprint': 'fp_50cad350e4', 'finish_reason': 'stop', 'logprobs': None}, id='run-8a41a5fc-fe35-42e1-9cd9-4a498f0ae6bb-0', usage_metadata={'input_tokens': 1097, 'output_tokens': 14, 'total_tokens': 1111, 'input_token_details': {'audio': 0, 'cache_read': 0}, 'output_token_details': {'audio': 0, 'reasoning': 0}})]\n",
            "\n",
            "\n",
            "\n"
          ]
        }
      ]
    },
    {
      "cell_type": "markdown",
      "source": [
        "Let's look at what happened:\n",
        "\n",
        "1. Our state object was populated with our request\n",
        "2. The state object was passed into our entry point (agent node) and the agent node added an `AIMessage` to the state object and passed it along the conditional edge\n",
        "3. The conditional edge received the state object, found the \"tool_calls\" `additional_kwarg`, and sent the state object to the action node\n",
        "4. The action node added the response from the OpenAI function calling endpoint to the state object and passed it along the edge to the agent node\n",
        "5. The agent node added a response to the state object and passed it along the conditional edge\n",
        "6. The conditional edge received the state object, could not find the \"tool_calls\" `additional_kwarg` and passed the state object to END where we see it output in the cell above!\n",
        "\n",
        "Now let's look at an example that shows a multiple tool usage - all with the same flow!"
      ],
      "metadata": {
        "id": "DBHnUtLSscRr"
      }
    },
    {
      "cell_type": "code",
      "source": [
        "inputs = {\"messages\" : [HumanMessage(content=\"Search Arxiv for the QLoRA paper, then search each of the authors to find out their latest Tweet using Tavily!\")]}\n",
        "\n",
        "async for chunk in compiled_graph.astream(inputs, stream_mode=\"updates\"):\n",
        "    for node, values in chunk.items():\n",
        "        print(f\"Receiving update from node: '{node}'\")\n",
        "        if node == \"action\":\n",
        "          print(f\"Tool Used: {values['messages'][0].name}\")\n",
        "        print(values[\"messages\"])\n",
        "\n",
        "        print(\"\\n\\n\")"
      ],
      "metadata": {
        "colab": {
          "base_uri": "https://localhost:8080/"
        },
        "id": "afv2BuEsV5JG",
        "outputId": "ff009536-d281-4a56-c126-9cd245352bfe"
      },
      "execution_count": 16,
      "outputs": [
        {
          "output_type": "stream",
          "name": "stdout",
          "text": [
            "Receiving update from node: 'agent'\n",
            "[AIMessage(content='', additional_kwargs={'tool_calls': [{'id': 'call_imT1YzDUor9QhOKD4Ul3JbES', 'function': {'arguments': '{\"query\":\"QLoRA\"}', 'name': 'arxiv'}, 'type': 'function'}], 'refusal': None}, response_metadata={'token_usage': {'completion_tokens': 17, 'prompt_tokens': 178, 'total_tokens': 195, 'completion_tokens_details': {'accepted_prediction_tokens': 0, 'audio_tokens': 0, 'reasoning_tokens': 0, 'rejected_prediction_tokens': 0}, 'prompt_tokens_details': {'audio_tokens': 0, 'cached_tokens': 0}}, 'model_name': 'gpt-4o-2024-08-06', 'system_fingerprint': 'fp_50cad350e4', 'finish_reason': 'tool_calls', 'logprobs': None}, id='run-8b6c33ff-bcc4-4446-a36d-10db35411f27-0', tool_calls=[{'name': 'arxiv', 'args': {'query': 'QLoRA'}, 'id': 'call_imT1YzDUor9QhOKD4Ul3JbES', 'type': 'tool_call'}], usage_metadata={'input_tokens': 178, 'output_tokens': 17, 'total_tokens': 195, 'input_token_details': {'audio': 0, 'cache_read': 0}, 'output_token_details': {'audio': 0, 'reasoning': 0}})]\n",
            "\n",
            "\n",
            "\n",
            "Receiving update from node: 'action'\n",
            "Tool Used: arxiv\n",
            "[ToolMessage(content='Published: 2023-05-23\\nTitle: QLoRA: Efficient Finetuning of Quantized LLMs\\nAuthors: Tim Dettmers, Artidoro Pagnoni, Ari Holtzman, Luke Zettlemoyer\\nSummary: We present QLoRA, an efficient finetuning approach that reduces memory usage\\nenough to finetune a 65B parameter model on a single 48GB GPU while preserving\\nfull 16-bit finetuning task performance. QLoRA backpropagates gradients through\\na frozen, 4-bit quantized pretrained language model into Low Rank\\nAdapters~(LoRA). Our best model family, which we name Guanaco, outperforms all\\nprevious openly released models on the Vicuna benchmark, reaching 99.3% of the\\nperformance level of ChatGPT while only requiring 24 hours of finetuning on a\\nsingle GPU. QLoRA introduces a number of innovations to save memory without\\nsacrificing performance: (a) 4-bit NormalFloat (NF4), a new data type that is\\ninformation theoretically optimal for normally distributed weights (b) double\\nquantization to reduce the average memory footprint by quantizing the\\nquantization constants, and (c) paged optimziers to manage memory spikes. We\\nuse QLoRA to finetune more than 1,000 models, providing a detailed analysis of\\ninstruction following and chatbot performance across 8 instruction datasets,\\nmultiple model types (LLaMA, T5), and model scales that would be infeasible to\\nrun with regular finetuning (e.g. 33B and 65B parameter models). Our results\\nshow that QLoRA finetuning on a small high-quality dataset leads to\\nstate-of-the-art results, even when using smaller models than the previous\\nSoTA. We provide a detailed analysis of chatbot performance based on both human\\nand GPT-4 evaluations showing that GPT-4 evaluations are a cheap and reasonable\\nalternative to human evaluation. Furthermore, we find that current chatbot\\nbenchmarks are not trustworthy to accurately evaluate the performance levels of\\nchatbots. A lemon-picked analysis demonstrates where Guanaco fails compared to\\nChatGPT. We release all of our models and code, including CUDA kernels for\\n4-bit training.\\n\\nPublished: 2024-05-27\\nTitle: Accurate LoRA-Finetuning Quantization of LLMs via Information Retention\\nAuthors: Haotong Qin, Xudong Ma, Xingyu Zheng, Xiaoyang Li, Yang Zhang, Shouda Liu, Jie Luo, Xianglong Liu, Michele Magno\\nSummary: The LoRA-finetuning quantization of LLMs has been extensively studied to\\nobtain accurate yet compact LLMs for deployment on resource-constrained\\nhardware. However, existing methods cause the quantized LLM to severely degrade\\nand even fail to benefit from the finetuning of LoRA. This paper proposes a\\nnovel IR-QLoRA for pushing quantized LLMs with LoRA to be highly accurate\\nthrough information retention. The proposed IR-QLoRA mainly relies on two\\ntechnologies derived from the perspective of unified information: (1)\\nstatistics-based Information Calibration Quantization allows the quantized\\nparameters of LLM to retain original information accurately; (2)\\nfinetuning-based Information Elastic Connection makes LoRA utilizes elastic\\nrepresentation transformation with diverse information. Comprehensive\\nexperiments show that IR-QLoRA can significantly improve accuracy across LLaMA\\nand LLaMA2 families under 2-4 bit-widths, e.g., 4- bit LLaMA-7B achieves 1.4%\\nimprovement on MMLU compared with the state-of-the-art methods. The significant\\nperformance gain requires only a tiny 0.31% additional time consumption,\\nrevealing the satisfactory efficiency of our IR-QLoRA. We highlight that\\nIR-QLoRA enjoys excellent versatility, compatible with various frameworks\\n(e.g., NormalFloat and Integer quantization) and brings general accuracy gains.\\nThe code is available at https://github.com/htqin/ir-qlora.\\n\\nPublished: 2024-06-12\\nTitle: Exploring Fact Memorization and Style Imitation in LLMs Using QLoRA: An Experimental Study and Quality Assessment Methods\\nAuthors: Eugene Vyborov, Oleksiy Osypenko, Serge Sotnyk\\nSummary: There are various methods for adapting LLMs to different domains. The most\\ncommon methods are prompting, finetuning, and RAG. In this w', name='arxiv', id='5557c42d-34fa-4531-b88b-4779d3031ffb', tool_call_id='call_imT1YzDUor9QhOKD4Ul3JbES')]\n",
            "\n",
            "\n",
            "\n",
            "Receiving update from node: 'agent'\n",
            "[AIMessage(content='', additional_kwargs={'tool_calls': [{'id': 'call_yfD0DWQl59mpqOYn7lYQdS3X', 'function': {'arguments': '{\"query\": \"Tim Dettmers latest tweet\"}', 'name': 'tavily_search_results_json'}, 'type': 'function'}, {'id': 'call_fSVDN4W49ik7toB9R74xeMd9', 'function': {'arguments': '{\"query\": \"Artidoro Pagnoni latest tweet\"}', 'name': 'tavily_search_results_json'}, 'type': 'function'}, {'id': 'call_go96zufqGI87ceK65THR5o5B', 'function': {'arguments': '{\"query\": \"Ari Holtzman latest tweet\"}', 'name': 'tavily_search_results_json'}, 'type': 'function'}, {'id': 'call_JVQ23J0xSa4TjPumCGd08kaI', 'function': {'arguments': '{\"query\": \"Luke Zettlemoyer latest tweet\"}', 'name': 'tavily_search_results_json'}, 'type': 'function'}], 'refusal': None}, response_metadata={'token_usage': {'completion_tokens': 113, 'prompt_tokens': 1157, 'total_tokens': 1270, 'completion_tokens_details': {'accepted_prediction_tokens': 0, 'audio_tokens': 0, 'reasoning_tokens': 0, 'rejected_prediction_tokens': 0}, 'prompt_tokens_details': {'audio_tokens': 0, 'cached_tokens': 1024}}, 'model_name': 'gpt-4o-2024-08-06', 'system_fingerprint': 'fp_50cad350e4', 'finish_reason': 'tool_calls', 'logprobs': None}, id='run-8e574da0-30b0-465b-b70d-d531f4884e94-0', tool_calls=[{'name': 'tavily_search_results_json', 'args': {'query': 'Tim Dettmers latest tweet'}, 'id': 'call_yfD0DWQl59mpqOYn7lYQdS3X', 'type': 'tool_call'}, {'name': 'tavily_search_results_json', 'args': {'query': 'Artidoro Pagnoni latest tweet'}, 'id': 'call_fSVDN4W49ik7toB9R74xeMd9', 'type': 'tool_call'}, {'name': 'tavily_search_results_json', 'args': {'query': 'Ari Holtzman latest tweet'}, 'id': 'call_go96zufqGI87ceK65THR5o5B', 'type': 'tool_call'}, {'name': 'tavily_search_results_json', 'args': {'query': 'Luke Zettlemoyer latest tweet'}, 'id': 'call_JVQ23J0xSa4TjPumCGd08kaI', 'type': 'tool_call'}], usage_metadata={'input_tokens': 1157, 'output_tokens': 113, 'total_tokens': 1270, 'input_token_details': {'audio': 0, 'cache_read': 1024}, 'output_token_details': {'audio': 0, 'reasoning': 0}})]\n",
            "\n",
            "\n",
            "\n",
            "Receiving update from node: 'action'\n",
            "Tool Used: tavily_search_results_json\n",
            "[ToolMessage(content='[{\"url\": \"https://twitter.com/Tim_Dettmers/status/1683118705956491264\", \"content\": \"See new Tweets. Conversation. Tim Dettmers @ ICML23 @Tim_Dettmers. ... @Tim_Dettmers. The latest release of bitsandbytes has an improved CUDA setup and A100 4-bit inference. I thought that A40 and A100 GPUs were close enough, and optimized for A40s, but they are very different. A100 performance is now 40% faster with a small hit for other GPUs.\"}, {\"url\": \"https://timdettmers.com/about/twitter_400x400/\", \"content\": \"twitter_400x400 — Tim Dettmers Skip links Skip to primary navigation Skip to content Skip to primary sidebar Tim Dettmers Making deep learning accessible. Header Right Blog Posts Topics Academia (4) PhD Life (3) Deep Learning (7) Hardware (8) Science (4) Main navigation Blog Deep Learning Hardware twitter_400x400 2021-11-28 by Tim Dettmers Leave a Comment Primary Sidebar Recent Posts Which GPU(s) to Get for Deep Learning: My Experience and Advice for Using GPUs in Deep Learning 2023-01-30 On Creativity in Academia 2019-09-03 A Full Hardware Guide to Deep Learning 2018-12-16 Machine Learning PhD Applications — Everything You Need to Know 2018-11-26 TPUs vs GPUs for Transformers (BERT) 2018-10-17 Deep Learning Hardware Limbo 2017-12-21 Credit Assignment in Deep Learning 2017-09-16 Secondary Sidebar\"}, {\"url\": \"https://twitter.com/Tim_Dettmers/status/1654917326381228033\", \"content\": \"See new Tweets. Conversation. Andrej Karpathy ... Tim Dettmers @Tim_Dettmers. Super excited to push this even further: - Next week: bitsandbytes 4-bit closed beta that allows you to finetune 30B/65B LLaMA models on a single 24/48 GB GPU (no degradation vs full fine-tuning in 16-bit) - Two weeks: Full release of code, paper, and a collection of\"}, {\"url\": \"https://twitter.com/Tim_Dettmers/status/1678760495262879755\", \"content\": \"\\\\\"The result of long days of CUDA optimizations: the new bitsandbytes release includes 4-bit inference, which is up to 4.2x faster than 16-bit inference (bsz=1). Full HF integration for all models. No code change needed. Bnb is growing rapidly, just shy of 1M installs/month🧵\\\\\"\"}, {\"url\": \"https://twitter.com/Tim_Dettmers/status/1559892907816939520\", \"content\": \"\\\\\"In terms of software, LLM.int8() means that you can reduce the memory footprint of a large model by 2x. There are now some models that can now be used on Google\"}]', name='tavily_search_results_json', id='482dfb21-d738-45f0-bd78-64ed05ee8371', tool_call_id='call_yfD0DWQl59mpqOYn7lYQdS3X', artifact={'query': 'Tim Dettmers latest tweet', 'follow_up_questions': None, 'answer': None, 'images': [], 'results': [{'title': 'Tim Dettmers @ ICML23 on Twitter: \"The latest release of bitsandbytes ...', 'url': 'https://twitter.com/Tim_Dettmers/status/1683118705956491264', 'content': 'See new Tweets. Conversation. Tim Dettmers @ ICML23 @Tim_Dettmers. ... @Tim_Dettmers. The latest release of bitsandbytes has an improved CUDA setup and A100 4-bit inference. I thought that A40 and A100 GPUs were close enough, and optimized for A40s, but they are very different. A100 performance is now 40% faster with a small hit for other GPUs.', 'score': 0.85157084, 'raw_content': None}, {'title': 'twitter_400x400 — Tim Dettmers', 'url': 'https://timdettmers.com/about/twitter_400x400/', 'content': 'twitter_400x400 — Tim Dettmers Skip links Skip to primary navigation Skip to content Skip to primary sidebar Tim Dettmers Making deep learning accessible. Header Right Blog Posts Topics Academia (4) PhD Life (3) Deep Learning (7) Hardware (8) Science (4) Main navigation Blog Deep Learning Hardware twitter_400x400 2021-11-28 by Tim Dettmers Leave a Comment Primary Sidebar Recent Posts Which GPU(s) to Get for Deep Learning: My Experience and Advice for Using GPUs in Deep Learning 2023-01-30 On Creativity in Academia 2019-09-03 A Full Hardware Guide to Deep Learning 2018-12-16 Machine Learning PhD Applications — Everything You Need to Know 2018-11-26 TPUs vs GPUs for Transformers (BERT) 2018-10-17 Deep Learning Hardware Limbo 2017-12-21 Credit Assignment in Deep Learning 2017-09-16 Secondary Sidebar', 'score': 0.78552294, 'raw_content': None}, {'title': 'Tim Dettmers on Twitter', 'url': 'https://twitter.com/Tim_Dettmers/status/1654917326381228033', 'content': 'See new Tweets. Conversation. Andrej Karpathy ... Tim Dettmers @Tim_Dettmers. Super excited to push this even further: - Next week: bitsandbytes 4-bit closed beta that allows you to finetune 30B/65B LLaMA models on a single 24/48 GB GPU (no degradation vs full fine-tuning in 16-bit) - Two weeks: Full release of code, paper, and a collection of', 'score': 0.7327644, 'raw_content': None}, {'title': 'Tim Dettmers on Twitter', 'url': 'https://twitter.com/Tim_Dettmers/status/1678760495262879755', 'content': '\"The result of long days of CUDA optimizations: the new bitsandbytes release includes 4-bit inference, which is up to 4.2x faster than 16-bit inference (bsz=1). Full HF integration for all models. No code change needed. Bnb is growing rapidly, just shy of 1M installs/month🧵\"', 'score': 0.70750624, 'raw_content': None}, {'title': 'Tim Dettmers on Twitter', 'url': 'https://twitter.com/Tim_Dettmers/status/1559892907816939520', 'content': '\"In terms of software, LLM.int8() means that you can reduce the memory footprint of a large model by 2x. There are now some models that can now be used on Google', 'score': 0.57723385, 'raw_content': None}], 'response_time': 1.67}), ToolMessage(content='[{\"url\": \"https://twitter.com/ArtidoroPagnoni/status/1661438274894966784\", \"content\": \"Thank you to @Tim_Dettmers @universeinanegg @LukeZettlemoyer and the many people who made this project possible! In particular, @younesbelkada and the @huggingface team.\"}, {\"url\": \"https://twitter.com/ArtidoroPagnoni/status/1657036977814794242\", \"content\": \"We are excited to announce QLoRA, a new method for LLM fine-tuning that uses only a fraction of the memory footprint. Please consider joining our private beta to gain early access to QLoRA!\"}, {\"url\": \"https://artidoro.github.io/\", \"content\": \"Ciao! I am a second-year PhD student in Computer Science at the University of Washington. I am advised by Luke Zettlemoyer and work on various topics in NLP. Before UW, I was a master student at the Language and Technologies Institute (LTI) at CMU with Yulia Tsvetkov.In 2018, I worked at Microsoft AI Frameworks for a year.\"}, {\"url\": \"https://twitter.com/ArtidoroPagnoni/status/1661438253113942016\", \"content\": \"QLoRA uses a frozen 4-bit base model with adapters. We backpropagate through the 4-bit weights into the adapters. QLoRA incorporates the NF4 datatype, double-quantization, and paged optimizers.\"}, {\"url\": \"https://www.linkedin.com/in/artidoro-pagnoni\", \"content\": \"Artidoro Pagnoni\\\\nUW NLP PhD, FAIR Visiting Researcher\\\\nSeattle, United States of America\\\\n500 connections, 1066 followers\\\\n\\\\n\\\\nAbout:\\\\nPhD student in NLP at UW with Luke Zettlemoyer. MS at CMU. Software Engineer at Microsoft AI Frameworks. Harvard BA/MS in Physics and Computer Science.\\\\n\\\\n\\\\nExperience:\\\\nVisiting Researcher at Meta (https://www.linkedin.com/company/meta/)\\\\nSep 2023 - Present\\\\nSeattle, Washington, United States\\\\n\\\\n\\\\nEducation:\\\\nUniversity of Washington\\\\nDoctor of Philosophy - PhD, Computer Science\\\\nSep 2021 - Aug 2025\\\\nGrade: N/A\\\\nActivities and societies: N/A\"}]', name='tavily_search_results_json', id='21781990-44cf-4bfd-ba85-0d53cc792fab', tool_call_id='call_fSVDN4W49ik7toB9R74xeMd9', artifact={'query': 'Artidoro Pagnoni latest tweet', 'follow_up_questions': None, 'answer': None, 'images': [], 'results': [{'title': 'Artidoro Pagnoni on Twitter: \"Thank you to @Tim_Dettmers ...', 'url': 'https://twitter.com/ArtidoroPagnoni/status/1661438274894966784', 'content': 'Thank you to @Tim_Dettmers @universeinanegg @LukeZettlemoyer and the many people who made this project possible! In particular, @younesbelkada and the @huggingface team.', 'score': 0.7715858, 'raw_content': None}, {'title': 'Artidoro Pagnoni on Twitter: \"We are excited to announce QLoRA, a new ...', 'url': 'https://twitter.com/ArtidoroPagnoni/status/1657036977814794242', 'content': 'We are excited to announce QLoRA, a new method for LLM fine-tuning that uses only a fraction of the memory footprint. Please consider joining our private beta to gain early access to QLoRA!', 'score': 0.75268626, 'raw_content': None}, {'title': 'Ciao! - Artidoro Pagnoni', 'url': 'https://artidoro.github.io/', 'content': 'Ciao! I am a second-year PhD student in Computer Science at the University of Washington. I am advised by Luke Zettlemoyer and work on various topics in NLP. Before UW, I was a master student at the Language and Technologies Institute (LTI) at CMU with Yulia Tsvetkov.In 2018, I worked at Microsoft AI Frameworks for a year.', 'score': 0.7413937, 'raw_content': None}, {'title': 'Artidoro Pagnoni on Twitter: \"QLoRA uses a frozen 4-bit base model with ...', 'url': 'https://twitter.com/ArtidoroPagnoni/status/1661438253113942016', 'content': 'QLoRA uses a frozen 4-bit base model with adapters. We backpropagate through the 4-bit weights into the adapters. QLoRA incorporates the NF4 datatype, double-quantization, and paged optimizers.', 'score': 0.68090034, 'raw_content': None}, {'title': 'Artidoro Pagnoni - Meta | LinkedIn', 'url': 'https://www.linkedin.com/in/artidoro-pagnoni', 'content': 'Artidoro Pagnoni\\nUW NLP PhD, FAIR Visiting Researcher\\nSeattle, United States of America\\n500 connections, 1066 followers\\n\\n\\nAbout:\\nPhD student in NLP at UW with Luke Zettlemoyer. MS at CMU. Software Engineer at Microsoft AI Frameworks. Harvard BA/MS in Physics and Computer Science.\\n\\n\\nExperience:\\nVisiting Researcher at Meta (https://www.linkedin.com/company/meta/)\\nSep 2023 - Present\\nSeattle, Washington, United States\\n\\n\\nEducation:\\nUniversity of Washington\\nDoctor of Philosophy - PhD, Computer Science\\nSep 2021 - Aug 2025\\nGrade: N/A\\nActivities and societies: N/A', 'score': 0.5815176, 'raw_content': None}], 'response_time': 1.7}), ToolMessage(content='[{\"url\": \"https://twitter.com/universeinanegg/status/1557439705284653056\", \"content\": \"Ari Holtzman on X: \\\\\"I think the most important thing for figuring out the right hypotheses to explain LM behavior is just giving people access to these models, so they can poke at them on their own, for free. What will we find?\\\\\" / X People on X are the first to know. Sign up I think the most important thing for figuring out the right hypotheses to explain LM behavior is just giving people access to these models, so they can poke at them on their own, for free. Aug 10, 2022 You can try it here: https://docs.google.com/document/d/1JxSo4lQgMDBdnd19VBEoaG-mMfQupQ3XvOrgmRAVtpU/edit?usp=sharing… 1/n New to X? Sign up now to get your own personalized timeline! Sign up with Apple Try reloading.\"}, {\"url\": \"https://twitter.com/universeinanegg/status/1678462929669062656\", \"content\": \"\\\\\"I\\'m around today and talking to folks about what the future of studying generative models might look like, how to meaningfully decompose language model behavior into useful categories, and how to do science as generalization becomes difficult to assess! If you see me say hello!\\\\\"\"}, {\"url\": \"https://twitter.com/universeinanegg/status/1678412348892094467\", \"content\": \"\\\\\"Hinton\\'s talk reminded me that powerpoints are dominated by provocative examples that feel important but systems are justified by ways you can use them.\\\\\"\"}, {\"url\": \"https://twitter.com/universeinanegg/status/1383128271651446787\", \"content\": \"\\\\\"Co-authored with the awesome, brilliant, and kind @VeredShwartz, @YejinChoinka, and @LukeZettlemoyer!\\\\\"\"}, {\"url\": \"https://www.linkedin.com/in/ari-holtzman-1b620a149\", \"content\": \"Incoming Assistant Professor of Computer Science (2024) · Incoming Assistant Professor@UChicago CS & @DSI UChicago (2024) Post-doc @MetaFocused on generative models, behavioral\"}]', name='tavily_search_results_json', id='216858d2-7835-4c5a-8244-7f70e2eabafa', tool_call_id='call_go96zufqGI87ceK65THR5o5B', artifact={'query': 'Ari Holtzman latest tweet', 'follow_up_questions': None, 'answer': None, 'images': [], 'results': [{'title': 'Ari Holtzman on Twitter', 'url': 'https://twitter.com/universeinanegg/status/1557439705284653056', 'content': 'Ari Holtzman on X: \"I think the most important thing for figuring out the right hypotheses to explain LM behavior is just giving people access to these models, so they can poke at them on their own, for free. What will we find?\" / X People on X are the first to know. Sign up I think the most important thing for figuring out the right hypotheses to explain LM behavior is just giving people access to these models, so they can poke at them on their own, for free. Aug 10, 2022 You can try it here: https://docs.google.com/document/d/1JxSo4lQgMDBdnd19VBEoaG-mMfQupQ3XvOrgmRAVtpU/edit?usp=sharing… 1/n New to X? Sign up now to get your own personalized timeline! Sign up with Apple Try reloading.', 'score': 0.767847, 'raw_content': None}, {'title': 'Ari Holtzman @ ACL on Twitter', 'url': 'https://twitter.com/universeinanegg/status/1678462929669062656', 'content': '\"I\\'m around today and talking to folks about what the future of studying generative models might look like, how to meaningfully decompose language model behavior into useful categories, and how to do science as generalization becomes difficult to assess! If you see me say hello!\"', 'score': 0.741169, 'raw_content': None}, {'title': 'Ari Holtzman @ ACL on Twitter: \"Hinton\\'s talk reminded me that ...', 'url': 'https://twitter.com/universeinanegg/status/1678412348892094467', 'content': '\"Hinton\\'s talk reminded me that powerpoints are dominated by provocative examples that feel important but systems are justified by ways you can use them.\"', 'score': 0.6954834, 'raw_content': None}, {'title': 'Ari Holtzman on Twitter', 'url': 'https://twitter.com/universeinanegg/status/1383128271651446787', 'content': '\"Co-authored with the awesome, brilliant, and kind @VeredShwartz, @YejinChoinka, and @LukeZettlemoyer!\"', 'score': 0.61668247, 'raw_content': None}, {'title': 'Ari Holtzman - Postdoctoral Researcher - Meta | LinkedIn', 'url': 'https://www.linkedin.com/in/ari-holtzman-1b620a149', 'content': 'Incoming Assistant Professor of Computer Science (2024) · Incoming Assistant Professor@UChicago CS & @DSI UChicago (2024) Post-doc @MetaFocused on generative models, behavioral', 'score': 0.52042377, 'raw_content': None}], 'response_time': 1.59}), ToolMessage(content='[{\"url\": \"https://twitter.com/LukeZettlemoyer/status/1580346811155648512\", \"content\": \"RT @hllo_wrld: Our latest reading to learn paper Language Dynamics Distillation will appear at #NeurIPS2022! In LDD, we pretrain the agent to read to model env dynamics.\"}, {\"url\": \"https://twitter.com/LukeZettlemoyer/status/1679870456608985088\", \"content\": \"RT @ArmenAgha: I\\'m excited to release our most recent work setting a new SOTA FID of 4.88 on text-to-image generation we call CM3Leon (pronounced chameleon)! https\"}, {\"url\": \"https://twitter.com/LukeZettlemoyer/status/1679513235010252800\", \"content\": \"RT @MetaAI: We\\'re honored to share that Meta AI researchers received four different publication awards at ACL this week — including three outstanding paper recognitions! 4️⃣ more, award-winning papers to read from Meta AI at #ACL2023NLP 🧵\"}, {\"url\": \"https://twitter.com/lukezettlemoyer\", \"content\": \"The latest posts from @lukezettlemoyer\"}, {\"url\": \"https://ai.meta.com/people/luke-zettlemoyer/\", \"content\": \"Luke Zettlemoyer - AI at Meta Luke Zettlemoyer is a research manager and site lead for FAIR Seattle. His research is in empirical computational semantics, where the goal is to build models that recover representations of the meaning of natural language text. Recent work has focused on language modeling pretraining, multi-lingual NLP, semantic parsing, question answering, and information extraction. Text Quality-Based Pruning for Efficient Training of Language Models Retrieval-Augmented Multimodal Language Modeling Scaling Autoregressive Multi-Modal Models: Pretraining and Instruction Tuning Memorization Without Overfitting: Analyzing the Training Dynamics of Large Language Models Quantifying Adaptability in Pre-trained Language Models with 500 Tasks Emerging Cross-lingual Structure in Pretrained Language Models Generalization through Memorization: Nearest Neighbor Language Models Mask-Predict: Parallel Decoding of Conditional Masked Language Models\"}]', name='tavily_search_results_json', id='45ef714f-0df5-4c52-bc5b-d97f635a6e2a', tool_call_id='call_JVQ23J0xSa4TjPumCGd08kaI', artifact={'query': 'Luke Zettlemoyer latest tweet', 'follow_up_questions': None, 'answer': None, 'images': [], 'results': [{'title': 'Luke Zettlemoyer on Twitter: \"RT @hllo_wrld: Our latest reading to ...', 'url': 'https://twitter.com/LukeZettlemoyer/status/1580346811155648512', 'content': 'RT @hllo_wrld: Our latest reading to learn paper Language Dynamics Distillation will appear at #NeurIPS2022! In LDD, we pretrain the agent to read to model env dynamics.', 'score': 0.79939574, 'raw_content': None}, {'title': 'Luke Zettlemoyer on Twitter: \"RT @ArmenAgha: I\\'m excited to release our ...', 'url': 'https://twitter.com/LukeZettlemoyer/status/1679870456608985088', 'content': \"RT @ArmenAgha: I'm excited to release our most recent work setting a new SOTA FID of 4.88 on text-to-image generation we call CM3Leon (pronounced chameleon)! https\", 'score': 0.7672197, 'raw_content': None}, {'title': 'Luke Zettlemoyer on Twitter: \"RT @MetaAI: We\\'re honored to share that ...', 'url': 'https://twitter.com/LukeZettlemoyer/status/1679513235010252800', 'content': \"RT @MetaAI: We're honored to share that Meta AI researchers received four different publication awards at ACL this week — including three outstanding paper recognitions! 4️⃣ more, award-winning papers to read from Meta AI at #ACL2023NLP 🧵\", 'score': 0.7520312, 'raw_content': None}, {'title': '@lukezettlemoyer | X', 'url': 'https://twitter.com/lukezettlemoyer', 'content': 'The latest posts from @lukezettlemoyer', 'score': 0.5614318, 'raw_content': None}, {'title': 'Luke Zettlemoyer - AI at Meta', 'url': 'https://ai.meta.com/people/luke-zettlemoyer/', 'content': 'Luke Zettlemoyer - AI at Meta Luke Zettlemoyer is a research manager and site lead for FAIR Seattle. His research is in empirical computational semantics, where the goal is to build models that recover representations of the meaning of natural language text. Recent work has focused on language modeling pretraining, multi-lingual NLP, semantic parsing, question answering, and information extraction. Text Quality-Based Pruning for Efficient Training of Language Models Retrieval-Augmented Multimodal Language Modeling Scaling Autoregressive Multi-Modal Models: Pretraining and Instruction Tuning Memorization Without Overfitting: Analyzing the Training Dynamics of Large Language Models Quantifying Adaptability in Pre-trained Language Models with 500 Tasks Emerging Cross-lingual Structure in Pretrained Language Models Generalization through Memorization: Nearest Neighbor Language Models Mask-Predict: Parallel Decoding of Conditional Masked Language Models', 'score': 0.39068562, 'raw_content': None}], 'response_time': 2.63})]\n",
            "\n",
            "\n",
            "\n",
            "Receiving update from node: 'agent'\n",
            "[AIMessage(content='Here are the latest tweets from the authors of the QLoRA paper:\\n\\n1. **Tim Dettmers**:\\n   - [Tweet](https://twitter.com/Tim_Dettmers/status/1683118705956491264): \"The latest release of bitsandbytes has an improved CUDA setup and A100 4-bit inference. I thought that A40 and A100 GPUs were close enough, and optimized for A40s, but they are very different. A100 performance is now 40% faster with a small hit for other GPUs.\"\\n\\n2. **Artidoro Pagnoni**:\\n   - [Tweet](https://twitter.com/ArtidoroPagnoni/status/1661438274894966784): \"Thank you to @Tim_Dettmers @universeinanegg @LukeZettlemoyer and the many people who made this project possible! In particular, @younesbelkada and the @huggingface team.\"\\n\\n3. **Ari Holtzman**:\\n   - [Tweet](https://twitter.com/universeinanegg/status/1678462929669062656): \"I\\'m around today and talking to folks about what the future of studying generative models might look like, how to meaningfully decompose language model behavior into useful categories, and how to do science as generalization becomes difficult to assess! If you see me say hello!\"\\n\\n4. **Luke Zettlemoyer**:\\n   - [Tweet](https://twitter.com/LukeZettlemoyer/status/1679870456608985088): \"RT @ArmenAgha: I\\'m excited to release our most recent work setting a new SOTA FID of 4.88 on text-to-image generation we call CM3Leon (pronounced chameleon)!\"', additional_kwargs={'refusal': None}, response_metadata={'token_usage': {'completion_tokens': 366, 'prompt_tokens': 3380, 'total_tokens': 3746, 'completion_tokens_details': {'accepted_prediction_tokens': 0, 'audio_tokens': 0, 'reasoning_tokens': 0, 'rejected_prediction_tokens': 0}, 'prompt_tokens_details': {'audio_tokens': 0, 'cached_tokens': 1152}}, 'model_name': 'gpt-4o-2024-08-06', 'system_fingerprint': 'fp_50cad350e4', 'finish_reason': 'stop', 'logprobs': None}, id='run-ef6479df-6091-4482-91d2-955cfca1e622-0', usage_metadata={'input_tokens': 3380, 'output_tokens': 366, 'total_tokens': 3746, 'input_token_details': {'audio': 0, 'cache_read': 1152}, 'output_token_details': {'audio': 0, 'reasoning': 0}})]\n",
            "\n",
            "\n",
            "\n"
          ]
        }
      ]
    },
    {
      "cell_type": "markdown",
      "source": [
        "####🏗️ Activity #2:\n",
        "\n",
        "Please write out the steps the agent took to arrive at the correct answer."
      ],
      "metadata": {
        "id": "CXzDlZVz1Hnf"
      }
    },
    {
      "cell_type": "markdown",
      "source": [
        "## Part 1: LangSmith Evaluator"
      ],
      "metadata": {
        "id": "v7c8-Uyarh1v"
      }
    },
    {
      "cell_type": "markdown",
      "source": [
        "### Pre-processing for LangSmith"
      ],
      "metadata": {
        "id": "pV3XeFOT1Sar"
      }
    },
    {
      "cell_type": "markdown",
      "source": [
        "To do a little bit more preprocessing, let's wrap our LangGraph agent in a simple chain."
      ],
      "metadata": {
        "id": "wruQCuzewUuO"
      }
    },
    {
      "cell_type": "code",
      "source": [
        "def convert_inputs(input_object):\n",
        "  return {\"messages\" : [HumanMessage(content=input_object[\"question\"])]}\n",
        "\n",
        "def parse_output(input_state):\n",
        "  return input_state[\"messages\"][-1].content\n",
        "\n",
        "agent_chain = convert_inputs | compiled_graph | parse_output"
      ],
      "metadata": {
        "id": "oeXdQgbxwhTv"
      },
      "execution_count": 17,
      "outputs": []
    },
    {
      "cell_type": "code",
      "source": [
        "agent_chain.invoke({\"question\" : \"What is RAG?\"})"
      ],
      "metadata": {
        "colab": {
          "base_uri": "https://localhost:8080/",
          "height": 105
        },
        "id": "orYxBZXSxJjZ",
        "outputId": "76be837b-6424-4516-8f63-07fbd8c25bf5"
      },
      "execution_count": 18,
      "outputs": [
        {
          "output_type": "execute_result",
          "data": {
            "text/plain": [
              "\"RAG stands for Retrieval-Augmented Generation. It is a technique used in natural language processing (NLP) that combines retrieval-based methods with generative models to improve the quality and accuracy of generated text. Here's a brief overview of how it works:\\n\\n1. **Retrieval**: In the first step, relevant documents or pieces of information are retrieved from a large corpus or database. This is typically done using a retrieval model that identifies the most relevant documents based on the input query or context.\\n\\n2. **Augmentation**: The retrieved documents are then used to augment the input to a generative model. This means that the generative model has access to additional context or information that can help it produce more accurate and contextually relevant responses.\\n\\n3. **Generation**: Finally, a generative model, such as a transformer-based language model, uses the augmented input to generate a response or piece of text. The additional context provided by the retrieved documents helps the model generate more informed and accurate outputs.\\n\\nRAG is particularly useful in scenarios where the model needs to generate text based on specific, up-to-date, or detailed information that may not be fully captured in the model's pre-trained parameters. It is commonly used in applications like question answering, conversational agents, and other NLP tasks that require a combination of retrieval and generation capabilities.\""
            ],
            "application/vnd.google.colaboratory.intrinsic+json": {
              "type": "string"
            }
          },
          "metadata": {},
          "execution_count": 18
        }
      ]
    },
    {
      "cell_type": "markdown",
      "source": [
        "### Task 1: Creating An Evaluation Dataset\n",
        "\n",
        "Just as we saw last week, we'll want to create a dataset to test our Agent's ability to answer questions.\n",
        "\n",
        "In order to do this - we'll want to provide some questions and some answers. Let's look at how we can create such a dataset below.\n",
        "\n",
        "```python\n",
        "questions = [\n",
        "    \"What optimizer is used in QLoRA?\",\n",
        "    \"What data type was created in the QLoRA paper?\",\n",
        "    \"What is a Retrieval Augmented Generation system?\",\n",
        "    \"Who authored the QLoRA paper?\",\n",
        "    \"What is the most popular deep learning framework?\",\n",
        "    \"What significant improvements does the LoRA system make?\"\n",
        "]\n",
        "\n",
        "answers = [\n",
        "    {\"must_mention\" : [\"paged\", \"optimizer\"]},\n",
        "    {\"must_mention\" : [\"NF4\", \"NormalFloat\"]},\n",
        "    {\"must_mention\" : [\"ground\", \"context\"]},\n",
        "    {\"must_mention\" : [\"Tim\", \"Dettmers\"]},\n",
        "    {\"must_mention\" : [\"PyTorch\", \"TensorFlow\"]},\n",
        "    {\"must_mention\" : [\"reduce\", \"parameters\"]},\n",
        "]\n",
        "```"
      ],
      "metadata": {
        "id": "f9UkCIqkpyZu"
      }
    },
    {
      "cell_type": "markdown",
      "source": [
        "####🏗️ Activity #3:\n",
        "\n",
        "Please create a dataset in the above format with at least 5 questions."
      ],
      "metadata": {
        "id": "VfMXF2KAsQxs"
      }
    },
    {
      "cell_type": "code",
      "source": [
        "questions = [\n",
        "    ### YOUR CODE HERE\n",
        "]\n",
        "\n",
        "answers = [\n",
        "    ### YOUR CODE HERE\n",
        "]"
      ],
      "metadata": {
        "id": "CbagRuJop83E"
      },
      "execution_count": 20,
      "outputs": []
    },
    {
      "cell_type": "markdown",
      "source": [
        "Now we can add our dataset to our LangSmith project using the following code which we saw last Thursday!"
      ],
      "metadata": {
        "id": "z7QVFuAmsh7L"
      }
    },
    {
      "cell_type": "code",
      "source": [
        "from langsmith import Client\n",
        "\n",
        "client = Client()\n",
        "\n",
        "dataset_name = f\"Retrieval Augmented Generation - Evaluation Dataset - {uuid4().hex[0:8]}\"\n",
        "\n",
        "dataset = client.create_dataset(\n",
        "    dataset_name=dataset_name,\n",
        "    description=\"Questions about the QLoRA Paper to Evaluate RAG over the same paper.\"\n",
        ")\n",
        "\n",
        "client.create_examples(\n",
        "    inputs=[{\"question\" : q} for q in questions],\n",
        "    outputs=answers,\n",
        "    dataset_id=dataset.id,\n",
        ")"
      ],
      "metadata": {
        "id": "RLfrZrgSsn85"
      },
      "execution_count": 21,
      "outputs": []
    },
    {
      "cell_type": "markdown",
      "source": [
        "#### ❓ Question #3:\n",
        "\n",
        "How are the correct answers associated with the questions?\n",
        "\n",
        "> NOTE: Feel free to indicate if this is problematic or not"
      ],
      "metadata": {
        "id": "ciV73F9Q04w0"
      }
    },
    {
      "cell_type": "markdown",
      "source": [
        "### Task 2: Adding Evaluators\n",
        "\n",
        "Now we can add a custom evaluator to see if our responses contain the expected information.\n",
        "\n",
        "We'll be using a fairly naive exact-match process to determine if our response contains specific strings."
      ],
      "metadata": {
        "id": "-lRTXUrTtP9Y"
      }
    },
    {
      "cell_type": "code",
      "source": [
        "from langsmith.evaluation import EvaluationResult, run_evaluator\n",
        "\n",
        "@run_evaluator\n",
        "def must_mention(run, example) -> EvaluationResult:\n",
        "    prediction = run.outputs.get(\"output\") or \"\"\n",
        "    required = example.outputs.get(\"must_mention\") or []\n",
        "    score = all(phrase in prediction for phrase in required)\n",
        "    return EvaluationResult(key=\"must_mention\", score=score)"
      ],
      "metadata": {
        "id": "QrAUXMFftlAY"
      },
      "execution_count": 22,
      "outputs": []
    },
    {
      "cell_type": "markdown",
      "source": [
        "#### ❓ Question #4:\n",
        "\n",
        "What are some ways you could improve this metric as-is?\n",
        "\n",
        "> NOTE: Alternatively you can suggest where gaps exist in this method."
      ],
      "metadata": {
        "id": "PNtHORUh0jZY"
      }
    },
    {
      "cell_type": "markdown",
      "source": [
        "Task 3: Evaluating\n",
        "\n",
        "All that is left to do is evaluate our agent's response!"
      ],
      "metadata": {
        "id": "r1RJr349zhv7"
      }
    },
    {
      "cell_type": "code",
      "source": [
        "experiment_results = client.evaluate(\n",
        "    agent_chain,\n",
        "    data=dataset_name,\n",
        "    evaluators=[must_mention],\n",
        "    experiment_prefix=f\"RAG Pipeline - Evaluation - {uuid4().hex[0:4]}\",\n",
        "    metadata={\"version\": \"1.0.0\"},\n",
        ")"
      ],
      "metadata": {
        "colab": {
          "base_uri": "https://localhost:8080/",
          "height": 118,
          "referenced_widgets": [
            "efcf57067cf743d8b4ce059a61cbe02e",
            "53e33aae3b97490c82aec7bbb0d6ebba",
            "ad84e0e971d3455db2efe7dd0d1f803e",
            "72adef9b70dd48198b7322b6c5b113cf",
            "8a61d045ffd44ac58f3f13eb10044836",
            "041e22a9b5514e36bd4d1dac01d5d398",
            "886d762f2a7c421382efb5502c6d42a1",
            "ab91fd625bbd43afbf8c6398193a88d0",
            "716557ad09874dcb989d75f7c74424cd",
            "77d4c0ebaae045b58efc4f789c9a2360",
            "0d622ccc56264fac8fd7508dbdbe6e29"
          ]
        },
        "id": "p5TeCUUkuGld",
        "outputId": "2f7d62a2-e78d-447a-d07b-f9e4d500fb79"
      },
      "execution_count": 23,
      "outputs": [
        {
          "output_type": "stream",
          "name": "stdout",
          "text": [
            "View the evaluation results for experiment: 'RAG Pipeline - Evaluation - 1da2-0787318b' at:\n",
            "https://smith.langchain.com/o/117cfda3-8a09-4ba4-9922-07b45fd73803/datasets/dd6288a8-c169-4e13-9060-da725bdba9db/compare?selectedSessions=6bc9839d-36f3-421c-806e-2cb25eb552c5\n",
            "\n",
            "\n"
          ]
        },
        {
          "output_type": "display_data",
          "data": {
            "text/plain": [
              "0it [00:00, ?it/s]"
            ],
            "application/vnd.jupyter.widget-view+json": {
              "version_major": 2,
              "version_minor": 0,
              "model_id": "efcf57067cf743d8b4ce059a61cbe02e"
            }
          },
          "metadata": {}
        }
      ]
    },
    {
      "cell_type": "code",
      "source": [
        "experiment_results"
      ],
      "metadata": {
        "colab": {
          "base_uri": "https://localhost:8080/",
          "height": 342
        },
        "id": "eeEqU7s05Byu",
        "outputId": "78395075-a05d-4ebd-c798-ed968b935318"
      },
      "execution_count": 24,
      "outputs": [
        {
          "output_type": "execute_result",
          "data": {
            "text/plain": [
              "<ExperimentResults RAG Pipeline - Evaluation - 1da2-0787318b>"
            ],
            "text/html": [
              "<div>\n",
              "<style scoped>\n",
              "    .dataframe tbody tr th:only-of-type {\n",
              "        vertical-align: middle;\n",
              "    }\n",
              "\n",
              "    .dataframe tbody tr th {\n",
              "        vertical-align: top;\n",
              "    }\n",
              "\n",
              "    .dataframe thead th {\n",
              "        text-align: right;\n",
              "    }\n",
              "</style>\n",
              "<table border=\"1\" class=\"dataframe\">\n",
              "  <thead>\n",
              "    <tr style=\"text-align: right;\">\n",
              "      <th></th>\n",
              "      <th>inputs.question</th>\n",
              "      <th>outputs.output</th>\n",
              "      <th>error</th>\n",
              "      <th>reference.must_mention</th>\n",
              "      <th>feedback.must_mention</th>\n",
              "      <th>execution_time</th>\n",
              "      <th>example_id</th>\n",
              "      <th>id</th>\n",
              "    </tr>\n",
              "  </thead>\n",
              "  <tbody>\n",
              "    <tr>\n",
              "      <th>0</th>\n",
              "      <td>What significant improvements does the LoRA sy...</td>\n",
              "      <td>The LoRA (Low-Rank Adaptation) system has made...</td>\n",
              "      <td>None</td>\n",
              "      <td>[reduce, parameters]</td>\n",
              "      <td>False</td>\n",
              "      <td>10.351338</td>\n",
              "      <td>57157f9e-abf5-4b41-9109-319c533545f2</td>\n",
              "      <td>5c1f65e2-d06a-407b-bbc1-ba10ef613ee0</td>\n",
              "    </tr>\n",
              "    <tr>\n",
              "      <th>1</th>\n",
              "      <td>What is the most popular deep learning framework?</td>\n",
              "      <td>The most popular deep learning framework in 20...</td>\n",
              "      <td>None</td>\n",
              "      <td>[PyTorch, TensorFlow]</td>\n",
              "      <td>False</td>\n",
              "      <td>4.420087</td>\n",
              "      <td>129c278c-c295-4801-9c07-8fb71a12856d</td>\n",
              "      <td>d2638945-8c63-4c20-a7b0-ff14ed21af85</td>\n",
              "    </tr>\n",
              "    <tr>\n",
              "      <th>2</th>\n",
              "      <td>Who authored the QLoRA paper?</td>\n",
              "      <td>The QLoRA paper titled \"Accurate LoRA-Finetuni...</td>\n",
              "      <td>None</td>\n",
              "      <td>[Tim, Dettmers]</td>\n",
              "      <td>False</td>\n",
              "      <td>4.345255</td>\n",
              "      <td>0a888859-b404-4cdd-91bd-2037aa802711</td>\n",
              "      <td>fed88a30-0d8f-47a3-8cb1-4d0f0547d76c</td>\n",
              "    </tr>\n",
              "    <tr>\n",
              "      <th>3</th>\n",
              "      <td>What is a Retrieval Augmented Generation system?</td>\n",
              "      <td>A Retrieval Augmented Generation (RAG) system ...</td>\n",
              "      <td>None</td>\n",
              "      <td>[ground, context]</td>\n",
              "      <td>False</td>\n",
              "      <td>6.487132</td>\n",
              "      <td>5e58dfe6-8722-4466-b819-adc52904644d</td>\n",
              "      <td>8526f737-4e13-48f0-8785-77e5ed5c236a</td>\n",
              "    </tr>\n",
              "    <tr>\n",
              "      <th>4</th>\n",
              "      <td>What data type was created in the QLoRA paper?</td>\n",
              "      <td>In the QLoRA paper, a new data type called \"4-...</td>\n",
              "      <td>None</td>\n",
              "      <td>[NF4, NormalFloat]</td>\n",
              "      <td>True</td>\n",
              "      <td>4.288050</td>\n",
              "      <td>0be0e226-1730-4e52-a4dc-0691ad798afb</td>\n",
              "      <td>d218bcc7-8952-4799-963c-a5a9264a6916</td>\n",
              "    </tr>\n",
              "    <tr>\n",
              "      <th>5</th>\n",
              "      <td>What optimizer is used in QLoRA?</td>\n",
              "      <td>QLoRA uses \"paged optimizers\" to manage memory...</td>\n",
              "      <td>None</td>\n",
              "      <td>[paged, optimizer]</td>\n",
              "      <td>True</td>\n",
              "      <td>6.513946</td>\n",
              "      <td>02d4d334-e7cf-417e-bcae-7e248395aa0a</td>\n",
              "      <td>6cb3cd88-dc0d-4d2c-905e-44819cb751e5</td>\n",
              "    </tr>\n",
              "  </tbody>\n",
              "</table>\n",
              "</div>"
            ]
          },
          "metadata": {},
          "execution_count": 24
        }
      ]
    },
    {
      "cell_type": "markdown",
      "source": [
        "## Part 2: LangGraph with Helpfulness:"
      ],
      "metadata": {
        "id": "jhTNe4kWrplB"
      }
    },
    {
      "cell_type": "markdown",
      "source": [
        "### Task 3: Adding Helpfulness Check and \"Loop\" Limits\n",
        "\n",
        "Now that we've done evaluation - let's see if we can add an extra step where we review the content we've generated to confirm if it fully answers the user's query!\n",
        "\n",
        "We're going to make a few key adjustments to account for this:\n",
        "\n",
        "1. We're going to add an artificial limit on how many \"loops\" the agent can go through - this will help us to avoid the potential situation where we never exit the loop.\n",
        "2. We'll add to our existing conditional edge to obtain the behaviour we desire."
      ],
      "metadata": {
        "id": "w1wKRddbIY_S"
      }
    },
    {
      "cell_type": "markdown",
      "source": [
        "First, let's define our state again - we can check the length of the state object, so we don't need additional state for this."
      ],
      "metadata": {
        "id": "npTYJ8ayR5B3"
      }
    },
    {
      "cell_type": "code",
      "source": [
        "class AgentState(TypedDict):\n",
        "  messages: Annotated[list, add_messages]"
      ],
      "metadata": {
        "id": "-LQ84YhyJG0w"
      },
      "execution_count": 25,
      "outputs": []
    },
    {
      "cell_type": "markdown",
      "source": [
        "Now we can set our graph up! This process will be almost entirely the same - with the inclusion of one additional node/conditional edge!"
      ],
      "metadata": {
        "id": "sD7EV0HqSQcb"
      }
    },
    {
      "cell_type": "markdown",
      "source": [
        "####🏗️ Activity #5:\n",
        "\n",
        "Please write markdown for the following cells to explain what each is doing."
      ],
      "metadata": {
        "id": "oajBwLkFVi1N"
      }
    },
    {
      "cell_type": "markdown",
      "source": [
        "##### YOUR MARKDOWN HERE"
      ],
      "metadata": {
        "id": "M6rN7feNVn9f"
      }
    },
    {
      "cell_type": "code",
      "source": [
        "graph_with_helpfulness_check = StateGraph(AgentState)\n",
        "\n",
        "graph_with_helpfulness_check.add_node(\"agent\", call_model)\n",
        "graph_with_helpfulness_check.add_node(\"action\", tool_node)"
      ],
      "metadata": {
        "id": "6r6XXA5FJbVf",
        "colab": {
          "base_uri": "https://localhost:8080/"
        },
        "outputId": "ff713041-e498-4f0f-a875-a03502b87729"
      },
      "execution_count": 26,
      "outputs": [
        {
          "output_type": "execute_result",
          "data": {
            "text/plain": [
              "<langgraph.graph.state.StateGraph at 0x7cff65caab50>"
            ]
          },
          "metadata": {},
          "execution_count": 26
        }
      ]
    },
    {
      "cell_type": "markdown",
      "source": [
        "##### YOUR MARKDOWN HERE"
      ],
      "metadata": {
        "id": "XZ22o2mWVrfp"
      }
    },
    {
      "cell_type": "code",
      "source": [
        "graph_with_helpfulness_check.set_entry_point(\"agent\")"
      ],
      "metadata": {
        "id": "HNWHwWxuRiLY",
        "colab": {
          "base_uri": "https://localhost:8080/"
        },
        "outputId": "295f5a35-ceff-452a-ffb8-c52eada6a816"
      },
      "execution_count": 27,
      "outputs": [
        {
          "output_type": "execute_result",
          "data": {
            "text/plain": [
              "<langgraph.graph.state.StateGraph at 0x7cff65caab50>"
            ]
          },
          "metadata": {},
          "execution_count": 27
        }
      ]
    },
    {
      "cell_type": "markdown",
      "source": [
        "##### YOUR MARKDOWN HERE"
      ],
      "metadata": {
        "id": "rsXeF6xlaXOZ"
      }
    },
    {
      "cell_type": "code",
      "source": [
        "from langchain_core.prompts import PromptTemplate\n",
        "from langchain_core.output_parsers import StrOutputParser\n",
        "\n",
        "def tool_call_or_helpful(state):\n",
        "  last_message = state[\"messages\"][-1]\n",
        "\n",
        "  if last_message.tool_calls:\n",
        "    return \"action\"\n",
        "\n",
        "  initial_query = state[\"messages\"][0]\n",
        "  final_response = state[\"messages\"][-1]\n",
        "\n",
        "  if len(state[\"messages\"]) > 10:\n",
        "    return \"END\"\n",
        "\n",
        "  prompt_template = \"\"\"\\\n",
        "  Given an initial query and a final response, determine if the final response is extremely helpful or not. Please indicate helpfulness with a 'Y' and unhelpfulness as an 'N'.\n",
        "\n",
        "  Initial Query:\n",
        "  {initial_query}\n",
        "\n",
        "  Final Response:\n",
        "  {final_response}\"\"\"\n",
        "\n",
        "  prompt_template = PromptTemplate.from_template(prompt_template)\n",
        "\n",
        "  helpfulness_check_model = ChatOpenAI(model=\"gpt-4\")\n",
        "\n",
        "  helpfulness_chain = prompt_template | helpfulness_check_model | StrOutputParser()\n",
        "\n",
        "  helpfulness_response = helpfulness_chain.invoke({\"initial_query\" : initial_query.content, \"final_response\" : final_response.content})\n",
        "\n",
        "  if \"Y\" in helpfulness_response:\n",
        "    return \"end\"\n",
        "  else:\n",
        "    return \"continue\""
      ],
      "metadata": {
        "id": "z_Sq3A9SaV1O"
      },
      "execution_count": 28,
      "outputs": []
    },
    {
      "cell_type": "markdown",
      "source": [
        "####🏗️ Activity #4:\n",
        "\n",
        "Please write what is happening in our `tool_call_or_helpful` function!"
      ],
      "metadata": {
        "id": "Fz1u9Vf4SHxJ"
      }
    },
    {
      "cell_type": "markdown",
      "source": [
        "##### YOUR MARKDOWN HERE"
      ],
      "metadata": {
        "id": "6BhnBW2YVsJO"
      }
    },
    {
      "cell_type": "code",
      "source": [
        "graph_with_helpfulness_check.add_conditional_edges(\n",
        "    \"agent\",\n",
        "    tool_call_or_helpful,\n",
        "    {\n",
        "        \"continue\" : \"agent\",\n",
        "        \"action\" : \"action\",\n",
        "        \"end\" : END\n",
        "    }\n",
        ")"
      ],
      "metadata": {
        "id": "aVTKnWMbP_8T",
        "colab": {
          "base_uri": "https://localhost:8080/"
        },
        "outputId": "7f729b1f-311c-4084-ceaf-0da437900c85"
      },
      "execution_count": 29,
      "outputs": [
        {
          "output_type": "execute_result",
          "data": {
            "text/plain": [
              "<langgraph.graph.state.StateGraph at 0x7cff65caab50>"
            ]
          },
          "metadata": {},
          "execution_count": 29
        }
      ]
    },
    {
      "cell_type": "markdown",
      "source": [
        "##### YOUR MARKDOWN HERE"
      ],
      "metadata": {
        "id": "ZGDLEWOIVtK0"
      }
    },
    {
      "cell_type": "code",
      "source": [
        "graph_with_helpfulness_check.add_edge(\"action\", \"agent\")"
      ],
      "metadata": {
        "id": "cbDK2MbuREgU",
        "colab": {
          "base_uri": "https://localhost:8080/"
        },
        "outputId": "21a64c20-27a1-4e0e-afde-a639abaa8b55"
      },
      "execution_count": 30,
      "outputs": [
        {
          "output_type": "execute_result",
          "data": {
            "text/plain": [
              "<langgraph.graph.state.StateGraph at 0x7cff65caab50>"
            ]
          },
          "metadata": {},
          "execution_count": 30
        }
      ]
    },
    {
      "cell_type": "markdown",
      "source": [
        "##### YOUR MARKDOWN HERE"
      ],
      "metadata": {
        "id": "rSI8AOaEVvT-"
      }
    },
    {
      "cell_type": "code",
      "source": [
        "agent_with_helpfulness_check = graph_with_helpfulness_check.compile()"
      ],
      "metadata": {
        "id": "oQldl8ERQ8lf"
      },
      "execution_count": 31,
      "outputs": []
    },
    {
      "cell_type": "markdown",
      "source": [
        "##### YOUR MARKDOWN HERE"
      ],
      "metadata": {
        "id": "F67FGCMRVwGz"
      }
    },
    {
      "cell_type": "code",
      "source": [
        "inputs = {\"messages\" : [HumanMessage(content=\"Related to machine learning, what is LoRA? Also, who is Tim Dettmers? Also, what is Attention?\")]}\n",
        "\n",
        "async for chunk in agent_with_helpfulness_check.astream(inputs, stream_mode=\"updates\"):\n",
        "    for node, values in chunk.items():\n",
        "        print(f\"Receiving update from node: '{node}'\")\n",
        "        print(values[\"messages\"])\n",
        "        print(\"\\n\\n\")"
      ],
      "metadata": {
        "colab": {
          "base_uri": "https://localhost:8080/"
        },
        "id": "B3oo8E-PRK1T",
        "outputId": "f152dea8-96ad-4d29-d8b2-a064c96a8bd3"
      },
      "execution_count": 32,
      "outputs": [
        {
          "output_type": "stream",
          "name": "stdout",
          "text": [
            "Receiving update from node: 'agent'\n",
            "[AIMessage(content='', additional_kwargs={'tool_calls': [{'id': 'call_5RusS9a5OTBrpXAMZlItuNAo', 'function': {'arguments': '{\"query\": \"LoRA in machine learning\"}', 'name': 'tavily_search_results_json'}, 'type': 'function'}, {'id': 'call_YpZhFwpieKG7MeduXwOXbcZY', 'function': {'arguments': '{\"query\": \"Tim Dettmers\"}', 'name': 'tavily_search_results_json'}, 'type': 'function'}, {'id': 'call_4RLFT3RVwqOjGij6gXccysq1', 'function': {'arguments': '{\"query\": \"Attention in machine learning\"}', 'name': 'tavily_search_results_json'}, 'type': 'function'}], 'refusal': None}, response_metadata={'token_usage': {'completion_tokens': 81, 'prompt_tokens': 177, 'total_tokens': 258, 'completion_tokens_details': {'accepted_prediction_tokens': 0, 'audio_tokens': 0, 'reasoning_tokens': 0, 'rejected_prediction_tokens': 0}, 'prompt_tokens_details': {'audio_tokens': 0, 'cached_tokens': 0}}, 'model_name': 'gpt-4o-2024-08-06', 'system_fingerprint': 'fp_50cad350e4', 'finish_reason': 'tool_calls', 'logprobs': None}, id='run-475daa87-692f-42ea-bad5-09a183e02148-0', tool_calls=[{'name': 'tavily_search_results_json', 'args': {'query': 'LoRA in machine learning'}, 'id': 'call_5RusS9a5OTBrpXAMZlItuNAo', 'type': 'tool_call'}, {'name': 'tavily_search_results_json', 'args': {'query': 'Tim Dettmers'}, 'id': 'call_YpZhFwpieKG7MeduXwOXbcZY', 'type': 'tool_call'}, {'name': 'tavily_search_results_json', 'args': {'query': 'Attention in machine learning'}, 'id': 'call_4RLFT3RVwqOjGij6gXccysq1', 'type': 'tool_call'}], usage_metadata={'input_tokens': 177, 'output_tokens': 81, 'total_tokens': 258, 'input_token_details': {'audio': 0, 'cache_read': 0}, 'output_token_details': {'audio': 0, 'reasoning': 0}})]\n",
            "\n",
            "\n",
            "\n",
            "Receiving update from node: 'action'\n",
            "[ToolMessage(content='[{\"url\": \"https://www.cloudflare.com/learning/ai/what-is-lora/\", \"content\": \"LoRA helps make huge and complicated machine learning models much more suited for specific uses. It works by adding lightweight pieces to the original model, as opposed to changing the entire model. LoRA helps developers quickly expand the use cases for the machine learning models they build.\"}, {\"url\": \"https://www.datacamp.com/tutorial/mastering-low-rank-adaptation-lora-enhancing-large-language-models-for-efficient-adaptation\", \"content\": \"LoRA (Low-Rank Adaptation) is a method that reduces the trainable parameters and GPU memory requirements of large language models like GPT-3 by adding small, changeable parts to each layer. Learn how LoRA works, why it is useful, and how to apply it in practice.\"}, {\"url\": \"https://arxiv.org/abs/2106.09685\", \"content\": \"cs arXiv:2106.09685 LoRA: Low-Rank Adaptation of Large Language Models Hu, Yelong Shen, Phillip Wallis, Zeyuan Allen-Zhu, Yuanzhi Li, Shean Wang, Lu Wang, Weizhu Chen We propose Low-Rank Adaptation, or LoRA, which freezes the pre-trained model weights and injects trainable rank decomposition matrices into each layer of the Transformer architecture, greatly reducing the number of trainable parameters for downstream tasks. LoRA performs on-par or better than fine-tuning in model quality on RoBERTa, DeBERTa, GPT-2, and GPT-3, despite having fewer trainable parameters, a higher training throughput, and, unlike adapters, no additional inference latency. Subjects:   Computation and Language (cs.CL); Artificial Intelligence (cs.AI); Machine Learning (cs.LG) Cite as:    arXiv:2106.09685 [cs.CL] (or arXiv:2106.09685v2 [cs.CL] for this version) cs Bibliographic and Citation Tools Connected Papers Toggle\"}, {\"url\": \"https://medium.com/@alexmriggio/lora-low-rank-adaptation-from-scratch-code-and-theory-f31509106650\", \"content\": \"And that is the aim of LoRA — to take the change-in-weight matrix and approximate it with the product of two lower-rank matrices. ... Machine Learning. Lora----1. Follow. Written by AR.\"}, {\"url\": \"https://medium.com/@sandha.iitr/fine-tuning-deep-learning-models-with-low-rank-adaptation-lora-using-google-colab-dac1b4516f71\", \"content\": \"Through LORA_Playground, we aim to provide a practical and insightful resource for the machine learning community, empowering researchers and practitioners to leverage the full potential of LORA\"}]', name='tavily_search_results_json', id='8d9bb40e-2f3e-401c-9ad4-768bd17482c4', tool_call_id='call_5RusS9a5OTBrpXAMZlItuNAo', artifact={'query': 'LoRA in machine learning', 'follow_up_questions': None, 'answer': None, 'images': [], 'results': [{'title': 'What is LoRA? | Low-rank adaptation - Cloudflare', 'url': 'https://www.cloudflare.com/learning/ai/what-is-lora/', 'content': 'LoRA helps make huge and complicated machine learning models much more suited for specific uses. It works by adding lightweight pieces to the original model, as opposed to changing the entire model. LoRA helps developers quickly expand the use cases for the machine learning models they build.', 'score': 0.90810597, 'raw_content': None}, {'title': 'Mastering Low-Rank Adaptation (LoRA): Enhancing Large ... - DataCamp', 'url': 'https://www.datacamp.com/tutorial/mastering-low-rank-adaptation-lora-enhancing-large-language-models-for-efficient-adaptation', 'content': 'LoRA (Low-Rank Adaptation) is a method that reduces the trainable parameters and GPU memory requirements of large language models like GPT-3 by adding small, changeable parts to each layer. Learn how LoRA works, why it is useful, and how to apply it in practice.', 'score': 0.87166095, 'raw_content': None}, {'title': '[2106.09685] LoRA: Low-Rank Adaptation of Large Language Models - arXiv.org', 'url': 'https://arxiv.org/abs/2106.09685', 'content': 'cs arXiv:2106.09685 LoRA: Low-Rank Adaptation of Large Language Models Hu, Yelong Shen, Phillip Wallis, Zeyuan Allen-Zhu, Yuanzhi Li, Shean Wang, Lu Wang, Weizhu Chen We propose Low-Rank Adaptation, or LoRA, which freezes the pre-trained model weights and injects trainable rank decomposition matrices into each layer of the Transformer architecture, greatly reducing the number of trainable parameters for downstream tasks. LoRA performs on-par or better than fine-tuning in model quality on RoBERTa, DeBERTa, GPT-2, and GPT-3, despite having fewer trainable parameters, a higher training throughput, and, unlike adapters, no additional inference latency. Subjects:   Computation and Language (cs.CL); Artificial Intelligence (cs.AI); Machine Learning (cs.LG) Cite as:    arXiv:2106.09685 [cs.CL] (or arXiv:2106.09685v2 [cs.CL] for this version) cs Bibliographic and Citation Tools Connected Papers Toggle', 'score': 0.84948516, 'raw_content': None}, {'title': 'LoRA: Low-Rank Adaptation from Scratch — Code and Theory', 'url': 'https://medium.com/@alexmriggio/lora-low-rank-adaptation-from-scratch-code-and-theory-f31509106650', 'content': 'And that is the aim of LoRA — to take the change-in-weight matrix and approximate it with the product of two lower-rank matrices. ... Machine Learning. Lora----1. Follow. Written by AR.', 'score': 0.80771893, 'raw_content': None}, {'title': 'Fine-Tuning Deep Learning Models with Low-Rank Adaptation (LORA): using ...', 'url': 'https://medium.com/@sandha.iitr/fine-tuning-deep-learning-models-with-low-rank-adaptation-lora-using-google-colab-dac1b4516f71', 'content': 'Through LORA_Playground, we aim to provide a practical and insightful resource for the machine learning community, empowering researchers and practitioners to leverage the full potential of LORA', 'score': 0.7823471, 'raw_content': None}], 'response_time': 2.01}), ToolMessage(content='[{\"url\": \"https://timdettmers.com/about/\", \"content\": \"Tim Dettmers is a research scientist at Ai2 and an incoming assistant professor at CMU. He works on efficient deep learning methods, such as quantization, sparsity, and low-bit inference.\"}, {\"url\": \"https://timdettmers.com/\", \"content\": \"Tim Dettmers is a researcher and teacher in deep learning and natural language processing. His blog covers topics such as hardware, quantization, sparse networks, creativity, and grad school choices.\"}, {\"url\": \"https://github.com/TimDettmers\", \"content\": \"Tim Dettmers is a researcher and developer at the University of Washington. He has 53 repositories on GitHub, mostly related to deep learning, sparse learning, and knowledge graphs.\"}, {\"url\": \"https://ai2050.schmidtsciences.org/fellow/tim-dettmers/\", \"content\": \"Tim Dettmers is an Assistant Professor at Carnegie Mellon University and a Research Scientist at the Allen Institute for AI, and his research focuses on making foundation models, such as ChatGPT, accessible to researchers and practitioners by reducing their resource requirements. AI models like ChatGPT work well for general use but fail in specialized expert domains, such as the medical sciences. To make AI models work in expert domains, one must adapt them, which is costly and requires significant AI expertise. This project overcomes these cost and expertise barriers through two new approaches: (1) use AI models themselves to perform the AI model adaptation process automatically; (2) make the adaptation process cheap so it can be run on regular consumer hardware.\"}, {\"url\": \"https://arxiv.org/abs/2208.07339\", \"content\": \"Tim Dettmers is one of the authors of a paper titled LLM.int8, which proposes a method for 8-bit matrix multiplication for transformers at scale. The paper was published at NeurIPS 2022 and shows how to reduce GPU memory for inference in large language models.\"}]', name='tavily_search_results_json', id='38e55736-21fd-459c-858c-e0640e39fc17', tool_call_id='call_YpZhFwpieKG7MeduXwOXbcZY', artifact={'query': 'Tim Dettmers', 'follow_up_questions': None, 'answer': None, 'images': [], 'results': [{'title': 'About Me — Tim Dettmers', 'url': 'https://timdettmers.com/about/', 'content': 'Tim Dettmers is a research scientist at Ai2 and an incoming assistant professor at CMU. He works on efficient deep learning methods, such as quantization, sparsity, and low-bit inference.', 'score': 0.9407083, 'raw_content': None}, {'title': 'Tim Dettmers — Making deep learning accessible.', 'url': 'https://timdettmers.com/', 'content': 'Tim Dettmers is a researcher and teacher in deep learning and natural language processing. His blog covers topics such as hardware, quantization, sparse networks, creativity, and grad school choices.', 'score': 0.9405774, 'raw_content': None}, {'title': 'TimDettmers (Tim Dettmers) · GitHub', 'url': 'https://github.com/TimDettmers', 'content': 'Tim Dettmers is a researcher and developer at the University of Washington. He has 53 repositories on GitHub, mostly related to deep learning, sparse learning, and knowledge graphs.', 'score': 0.93735445, 'raw_content': None}, {'title': 'Tim Dettmers - AI2050', 'url': 'https://ai2050.schmidtsciences.org/fellow/tim-dettmers/', 'content': 'Tim Dettmers is an Assistant Professor at Carnegie Mellon University and a Research Scientist at the Allen Institute for AI, and his research focuses on making foundation models, such as ChatGPT, accessible to researchers and practitioners by reducing their resource requirements. AI models like ChatGPT work well for general use but fail in specialized expert domains, such as the medical sciences. To make AI models work in expert domains, one must adapt them, which is costly and requires significant AI expertise. This project overcomes these cost and expertise barriers through two new approaches: (1) use AI models themselves to perform the AI model adaptation process automatically; (2) make the adaptation process cheap so it can be run on regular consumer hardware.', 'score': 0.9263638, 'raw_content': None}, {'title': 'LLM.int8(): 8-bit Matrix Multiplication for Transformers at Scale', 'url': 'https://arxiv.org/abs/2208.07339', 'content': 'Tim Dettmers is one of the authors of a paper titled LLM.int8, which proposes a method for 8-bit matrix multiplication for transformers at scale. The paper was published at NeurIPS 2022 and shows how to reduce GPU memory for inference in large language models.', 'score': 0.8638634, 'raw_content': None}], 'response_time': 1.66}), ToolMessage(content='[{\"url\": \"https://pmc.ncbi.nlm.nih.gov/articles/PMC7996841/\", \"content\": \"Generally formulated, attention in machine learning is a sequential process in which a learning task is guided by a set of elements of the input source (or memory). This is achieved by integrating the attention value into the task. Attention mechanisms have provided and will provide a paradigm shift in machine learning.\"}, {\"url\": \"https://www.clrn.org/what-is-attention-in-machine-learning/\", \"content\": \"There are three main types of attention in machine learning: Self-Attention: Self-attention is used within a sequence, such as a sentence or a piece of text, to understand the relationships between different elements.This type of attention is particularly useful for tasks such as language translation, where the model needs to understand the relationships between different words in a sentence.\"}, {\"url\": \"https://www.freecodecamp.org/news/what-are-attention-mechanisms-in-deep-learning/\", \"content\": \"Attention mechanism is a fundamental invention in artificial intelligence and machine learning, redefining the capabilities of deep learning models. This mechanism, inspired by the human mental process of selective focus, has emerged as a pillar in a variety of applications, accelerating developments in natural language processing, computer\"}, {\"url\": \"https://machinelearningmastery.com/what-is-attention/\", \"content\": \"Learn the concept of attention in machine learning and how it relates to biological attention. Explore the components and applications of attention-based systems, such as in machine translation.\"}, {\"url\": \"https://machinelearningmastery.com/the-attention-mechanism-from-scratch/\", \"content\": \"Learn how the attention mechanism improves the performance of sequence-to-sequence models by flexibly focusing on the most relevant parts of the input. See the implementation of the general attention mechanism in Python with NumPy and SciPy.\"}]', name='tavily_search_results_json', id='76d6453e-e9d5-435d-b045-7891d70866ca', tool_call_id='call_4RLFT3RVwqOjGij6gXccysq1', artifact={'query': 'Attention in machine learning', 'follow_up_questions': None, 'answer': None, 'images': [], 'results': [{'title': 'Attention Mechanisms and Their Applications to Complex Systems', 'url': 'https://pmc.ncbi.nlm.nih.gov/articles/PMC7996841/', 'content': 'Generally formulated, attention in machine learning is a sequential process in which a learning task is guided by a set of elements of the input source (or memory). This is achieved by integrating the attention value into the task. Attention mechanisms have provided and will provide a paradigm shift in machine learning.', 'score': 0.94808257, 'raw_content': None}, {'title': 'What is attention in machine learning? - California Learning Resource ...', 'url': 'https://www.clrn.org/what-is-attention-in-machine-learning/', 'content': 'There are three main types of attention in machine learning: Self-Attention: Self-attention is used within a sequence, such as a sentence or a piece of text, to understand the relationships between different elements.This type of attention is particularly useful for tasks such as language translation, where the model needs to understand the relationships between different words in a sentence.', 'score': 0.8941352, 'raw_content': None}, {'title': 'What are Attention Mechanisms in Deep Learning? - freeCodeCamp.org', 'url': 'https://www.freecodecamp.org/news/what-are-attention-mechanisms-in-deep-learning/', 'content': 'Attention mechanism is a fundamental invention in artificial intelligence and machine learning, redefining the capabilities of deep learning models. This mechanism, inspired by the human mental process of selective focus, has emerged as a pillar in a variety of applications, accelerating developments in natural language processing, computer', 'score': 0.8674071, 'raw_content': None}, {'title': 'What Is Attention? - MachineLearningMastery.com', 'url': 'https://machinelearningmastery.com/what-is-attention/', 'content': 'Learn the concept of attention in machine learning and how it relates to biological attention. Explore the components and applications of attention-based systems, such as in machine translation.', 'score': 0.8245895, 'raw_content': None}, {'title': 'The Attention Mechanism from Scratch - Machine Learning Mastery', 'url': 'https://machinelearningmastery.com/the-attention-mechanism-from-scratch/', 'content': 'Learn how the attention mechanism improves the performance of sequence-to-sequence models by flexibly focusing on the most relevant parts of the input. See the implementation of the general attention mechanism in Python with NumPy and SciPy.', 'score': 0.7185356, 'raw_content': None}], 'response_time': 1.87})]\n",
            "\n",
            "\n",
            "\n",
            "Receiving update from node: 'agent'\n",
            "[AIMessage(content='### LoRA in Machine Learning\\nLoRA, or Low-Rank Adaptation, is a method designed to make large and complex machine learning models more adaptable for specific tasks. It achieves this by adding lightweight, trainable components to the existing model layers, rather than modifying the entire model. This approach significantly reduces the number of trainable parameters and the GPU memory requirements, making it efficient for adapting large language models like GPT-3. LoRA maintains or even improves model performance compared to traditional fine-tuning methods, without increasing inference latency. [Learn more](https://arxiv.org/abs/2106.09685).\\n\\n### Tim Dettmers\\nTim Dettmers is a research scientist at the Allen Institute for AI and an incoming assistant professor at Carnegie Mellon University. His work focuses on efficient deep learning methods, including quantization, sparsity, and low-bit inference. He is known for his contributions to making large AI models more accessible by reducing their resource requirements, enabling their use in specialized domains. [More about Tim Dettmers](https://timdettmers.com/about/).\\n\\n### Attention in Machine Learning\\nAttention mechanisms in machine learning are inspired by the human cognitive process of focusing selectively on certain parts of the input data. They are crucial in tasks like language translation, where understanding the relationships between different elements in a sequence is essential. Attention mechanisms allow models to dynamically focus on the most relevant parts of the input, improving the performance of sequence-to-sequence models. This concept has become a fundamental component in various applications, particularly in natural language processing. [Explore more about attention mechanisms](https://machinelearningmastery.com/what-is-attention/).', additional_kwargs={'refusal': None}, response_metadata={'token_usage': {'completion_tokens': 338, 'prompt_tokens': 1672, 'total_tokens': 2010, 'completion_tokens_details': {'accepted_prediction_tokens': 0, 'audio_tokens': 0, 'reasoning_tokens': 0, 'rejected_prediction_tokens': 0}, 'prompt_tokens_details': {'audio_tokens': 0, 'cached_tokens': 0}}, 'model_name': 'gpt-4o-2024-08-06', 'system_fingerprint': 'fp_50cad350e4', 'finish_reason': 'stop', 'logprobs': None}, id='run-a2f620fa-d3f9-46f3-90a1-00def157271b-0', usage_metadata={'input_tokens': 1672, 'output_tokens': 338, 'total_tokens': 2010, 'input_token_details': {'audio': 0, 'cache_read': 0}, 'output_token_details': {'audio': 0, 'reasoning': 0}})]\n",
            "\n",
            "\n",
            "\n"
          ]
        }
      ]
    },
    {
      "cell_type": "markdown",
      "source": [
        "### Task 4: LangGraph for the \"Patterns\" of GenAI\n",
        "\n",
        "Let's ask our system about the 4 patterns of Generative AI:\n",
        "\n",
        "1. Prompt Engineering\n",
        "2. RAG\n",
        "3. Fine-tuning\n",
        "4. Agents"
      ],
      "metadata": {
        "id": "yVmZPs6lnpsM"
      }
    },
    {
      "cell_type": "code",
      "source": [
        "patterns = [\"prompt engineering\", \"RAG\", \"fine-tuning\", \"LLM-based agents\"]"
      ],
      "metadata": {
        "id": "ZoLl7GlXoae-"
      },
      "execution_count": 33,
      "outputs": []
    },
    {
      "cell_type": "code",
      "source": [
        "for pattern in patterns:\n",
        "  what_is_string = f\"What is {pattern} and when did it break onto the scene??\"\n",
        "  inputs = {\"messages\" : [HumanMessage(content=what_is_string)]}\n",
        "  messages = agent_with_helpfulness_check.invoke(inputs)\n",
        "  print(messages[\"messages\"][-1].content)\n",
        "  print(\"\\n\\n\")"
      ],
      "metadata": {
        "colab": {
          "base_uri": "https://localhost:8080/"
        },
        "id": "Zkh0YJuCp3Zl",
        "outputId": "d847426e-71b3-47e6-b1ae-351a78d68d1e"
      },
      "execution_count": 34,
      "outputs": [
        {
          "output_type": "stream",
          "name": "stdout",
          "text": [
            "**Prompt Engineering: Definition and Importance**\n",
            "\n",
            "Prompt engineering is the process of designing and refining prompts to guide AI models in generating accurate and relevant responses. It involves creating input, instructional, and conversational prompts to minimize bias and improve the quality of AI outputs. This technique is crucial in various applications, including customer support, content generation, and data analysis. Prompt engineering is an iterative process that may require repeated prompting to achieve the desired results, ultimately leading to improved outcomes and cost savings ([Techopedia](https://www.techopedia.com/definition/prompt-engineering), [Britannica](https://www.britannica.com/technology/prompt-engineering)).\n",
            "\n",
            "**History of Prompt Engineering**\n",
            "\n",
            "The history of prompt engineering can be traced back to the early days of code generation tools like CodeSmith and MyGeneration, which automated the generation of boilerplate code for common programming tasks. Over time, prompt engineering evolved with advancements in natural language processing (NLP) and reinforcement learning techniques. These developments have enhanced the capabilities of language models, making them more powerful, context-aware, and adaptable for a wide range of NLP applications. The introduction of attention mechanisms and reinforcement learning in 2017 further improved the controllability of prompt-engineered language models, allowing engineers to shape model behavior and address biases ([Promptly Substack](https://promptly.substack.com/p/a-journey-through-the-history-of), [arXiv](https://arxiv.org/abs/2310.04438)).\n",
            "\n",
            "\n",
            "\n",
            "Retrieval-Augmented Generation (RAG) is a technology that enhances generative models by integrating information retrieval capabilities. It allows large language models (LLMs) to respond to user queries by referencing a specified set of documents, thereby augmenting the information drawn from these sources. This approach is particularly useful for generating more accurate and contextually appropriate responses, informative articles, personalized learning content, and improved recommendation systems.\n",
            "\n",
            "RAG was first proposed in 2020, making it a relatively new technology. Since its inception, it has gained popularity due to its ability to enhance the capabilities of LLMs in knowledge-intensive tasks. The technology has evolved to include advanced retrievers and complementary technologies, leading to more complex RAG systems. Recent research has focused on modular RAG frameworks, which decompose complex systems into independent modules, allowing for a more reconfigurable and efficient design.\n",
            "\n",
            "For more detailed insights, you can explore the following resources:\n",
            "- [Medium article on RAG](https://medium.com/@matthasan/all-you-want-to-know-about-rag-e2b4bf832695)\n",
            "- [Makebot.ai overview of RAG](https://www.makebot.ai/blog-en/retrieval-augmented-generation-rag-overview-history-process)\n",
            "- [Wikipedia entry on RAG](https://en.wikipedia.org/wiki/Retrieval-augmented_generation)\n",
            "- [Oracle's explanation of RAG](https://www.oracle.com/artificial-intelligence/generative-ai/retrieval-augmented-generation-rag/)\n",
            "- [Research papers on advanced RAG systems](https://arxiv.org/abs/2407.02695)\n",
            "\n",
            "\n",
            "\n",
            "Fine-tuning is a process in machine learning where a pre-trained model is further trained on a smaller, task-specific dataset. This allows the model to adapt to specific tasks or domains while leveraging the general knowledge it has already acquired during its initial training on a larger dataset. Fine-tuning is particularly useful because it can significantly reduce the amount of data and computational resources required to train a model for a specific task, as the model starts with a strong foundation of general knowledge.\n",
            "\n",
            "Fine-tuning became prominent with the rise of transfer learning techniques, especially in the field of natural language processing (NLP) and computer vision. In NLP, the introduction of models like BERT (Bidirectional Encoder Representations from Transformers) in 2018 popularized the concept of fine-tuning. BERT and similar models are pre-trained on large corpora of text and then fine-tuned on specific tasks such as sentiment analysis, question answering, or named entity recognition.\n",
            "\n",
            "In computer vision, fine-tuning has been used for a longer time, with models like AlexNet, VGG, and ResNet being pre-trained on large datasets like ImageNet and then fine-tuned for specific image classification tasks.\n",
            "\n",
            "Overall, fine-tuning has become a standard practice in machine learning, enabling more efficient and effective model training across various domains.\n",
            "\n",
            "\n",
            "\n",
            "LLM-based agents, or Large Language Model-based agents, are AI systems that utilize large language models to perform tasks, interact, and exhibit behaviors akin to human agents. These agents are designed to perceive their environment, process information, and make decisions or take actions based on their programming and learned data.\n",
            "\n",
            "The emergence of LLM-based agents has been a significant development in the field of artificial intelligence. The field has seen explosive growth in recent years, with researchers exploring various approaches to agent architectures and interaction paradigms. A key breakthrough in their development was the introduction of the ReAct paradigm, which combines reasoning and acting, providing a simple and unifying solution for LLM agents.\n",
            "\n",
            "For more detailed information, you can refer to the following resources:\n",
            "\n",
            "1. [History in the Making: LLM (AI) Agents and How We Got Here](https://ai.gopubby.com/history-in-the-making-llm-ai-agents-and-how-we-got-here-361138829641)\n",
            "2. [A Brief History of LLM Agents](https://medium.com/@wgsjack199213_24772/llm-agents-a-brief-history-and-overview-f73468251179)\n",
            "\n",
            "\n",
            "\n"
          ]
        }
      ]
    }
  ]
}