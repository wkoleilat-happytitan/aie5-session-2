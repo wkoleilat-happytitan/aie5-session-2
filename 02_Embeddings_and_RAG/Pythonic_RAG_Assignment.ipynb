{
  "cells": [
    {
      "cell_type": "markdown",
      "metadata": {
        "id": "lElF3o5PR6ys"
      },
      "source": [
        "# Your First RAG Application\n",
        "\n",
        "In this notebook, we'll walk you through each of the components that are involved in a simple RAG application.\n",
        "\n",
        "We won't be leveraging any fancy tools, just the OpenAI Python SDK, Numpy, and some classic Python.\n",
        "\n",
        "> NOTE: This was done with Python 3.11.4.\n",
        "\n",
        "> NOTE: There might be [compatibility issues](https://github.com/wandb/wandb/issues/7683) if you're on NVIDIA driver >552.44 As an interim solution - you can rollback your drivers to the 552.44."
      ]
    },
    {
      "cell_type": "markdown",
      "metadata": {
        "id": "5CtcL8P8R6yt"
      },
      "source": [
        "## Table of Contents:\n",
        "\n",
        "- Task 1: Imports and Utilities\n",
        "- Task 2: Documents\n",
        "- Task 3: Embeddings and Vectors\n",
        "- Task 4: Prompts\n",
        "- Task 5: Retrieval Augmented Generation\n",
        "  - 🚧 Activity #1: Augment RAG"
      ]
    },
    {
      "cell_type": "markdown",
      "metadata": {
        "id": "1Dz6GYilR6yt"
      },
      "source": [
        "Let's look at a rather complicated looking visual representation of a basic RAG application.\n",
        "\n",
        "<img src=\"https://i.imgur.com/vD8b016.png\" />"
      ]
    },
    {
      "cell_type": "markdown",
      "metadata": {
        "id": "PjmC0KFtR6yt"
      },
      "source": [
        "## Task 1: Imports and Utility\n",
        "\n",
        "We're just doing some imports and enabling `async` to work within the Jupyter environment here, nothing too crazy!"
      ]
    },
    {
      "cell_type": "code",
      "execution_count": 1,
      "metadata": {
        "id": "Z1dyrG4hR6yt"
      },
      "outputs": [],
      "source": [
        "from aimakerspace.text_utils import TextFileLoader, CharacterTextSplitter\n",
        "from aimakerspace.vectordatabase import VectorDatabase\n",
        "\n",
        "import asyncio"
      ]
    },
    {
      "cell_type": "code",
      "execution_count": 2,
      "metadata": {
        "id": "9OrFZRnER6yt"
      },
      "outputs": [],
      "source": [
        "import nest_asyncio\n",
        "nest_asyncio.apply()"
      ]
    },
    {
      "cell_type": "markdown",
      "metadata": {
        "id": "M0jGnpQsR6yu"
      },
      "source": [
        "## Task 2: Documents\n",
        "\n",
        "We'll be concerning ourselves with this part of the flow in the following section:\n",
        "\n",
        "<img src=\"https://i.imgur.com/jTm9gjk.png\" />"
      ]
    },
    {
      "cell_type": "markdown",
      "metadata": {
        "id": "-SFPWvRUR6yu"
      },
      "source": [
        "### Loading Source Documents\n",
        "\n",
        "So, first things first, we need some documents to work with.\n",
        "\n",
        "While we could work directly with the `.txt` files (or whatever file-types you wanted to extend this to) we can instead do some batch processing of those documents at the beginning in order to store them in a more machine compatible format.\n",
        "\n",
        "In this case, we're going to parse our text file into a single document in memory.\n",
        "\n",
        "Let's look at the relevant bits of the `TextFileLoader` class:\n",
        "\n",
        "```python\n",
        "def load_file(self):\n",
        "        with open(self.path, \"r\", encoding=self.encoding) as f:\n",
        "            self.documents.append(f.read())\n",
        "```\n",
        "\n",
        "We're simply loading the document using the built in `open` method, and storing that output in our `self.documents` list.\n"
      ]
    },
    {
      "cell_type": "code",
      "execution_count": 3,
      "metadata": {
        "colab": {
          "base_uri": "https://localhost:8080/"
        },
        "id": "Ia2sUEuGR6yu",
        "outputId": "84937ecc-c35f-4c4a-a4ab-9da72625954c"
      },
      "outputs": [
        {
          "data": {
            "text/plain": [
              "1"
            ]
          },
          "execution_count": 3,
          "metadata": {},
          "output_type": "execute_result"
        }
      ],
      "source": [
        "text_loader = TextFileLoader(\"data/PMarcaBlogs.txt\")\n",
        "documents = text_loader.load_documents()\n",
        "len(documents)"
      ]
    },
    {
      "cell_type": "code",
      "execution_count": 4,
      "metadata": {},
      "outputs": [
        {
          "name": "stdout",
          "output_type": "stream",
          "text": [
            "\n",
            "The Pmarca Blog Archives\n",
            "(select posts from 2007-2009)\n",
            "Marc Andreessen\n",
            "copyright: Andreessen Horow\n"
          ]
        }
      ],
      "source": [
        "print(documents[0][:100])"
      ]
    },
    {
      "cell_type": "markdown",
      "metadata": {
        "id": "nHlTvCzYR6yu"
      },
      "source": [
        "### Splitting Text Into Chunks\n",
        "\n",
        "As we can see, there is one massive document.\n",
        "\n",
        "We'll want to chunk the document into smaller parts so it's easier to pass the most relevant snippets to the LLM.\n",
        "\n",
        "There is no fixed way to split/chunk documents - and you'll need to rely on some intuition as well as knowing your data *very* well in order to build the most robust system.\n",
        "\n",
        "For this toy example, we'll just split blindly on length.\n",
        "\n",
        ">There's an opportunity to clear up some terminology here, for this course we will be stick to the following:\n",
        ">\n",
        ">- \"source documents\" : The `.txt`, `.pdf`, `.html`, ..., files that make up the files and information we start with in its raw format\n",
        ">- \"document(s)\" : single (or more) text object(s)\n",
        ">- \"corpus\" : the combination of all of our documents"
      ]
    },
    {
      "cell_type": "markdown",
      "metadata": {
        "id": "2G6Voc0jR6yv"
      },
      "source": [
        "As you can imagine (though it's not specifically true in this toy example) the idea of splitting documents is to break them into managable sized chunks that retain the most relevant local context."
      ]
    },
    {
      "cell_type": "code",
      "execution_count": 5,
      "metadata": {
        "colab": {
          "base_uri": "https://localhost:8080/"
        },
        "id": "UMC4tsEmR6yv",
        "outputId": "08689c0b-57cd-4040-942a-8193e997f5cb"
      },
      "outputs": [
        {
          "data": {
            "text/plain": [
              "373"
            ]
          },
          "execution_count": 5,
          "metadata": {},
          "output_type": "execute_result"
        }
      ],
      "source": [
        "text_splitter = CharacterTextSplitter()\n",
        "split_documents = text_splitter.split_texts(documents)\n",
        "len(split_documents)"
      ]
    },
    {
      "cell_type": "markdown",
      "metadata": {
        "id": "W2wKT0WLR6yv"
      },
      "source": [
        "Let's take a look at some of the documents we've managed to split."
      ]
    },
    {
      "cell_type": "code",
      "execution_count": 6,
      "metadata": {
        "colab": {
          "base_uri": "https://localhost:8080/"
        },
        "id": "vcYMwWJoR6yv",
        "outputId": "20d69876-feca-4826-b4be-32915276987a"
      },
      "outputs": [
        {
          "data": {
            "text/plain": [
              "['\\ufeff\\nThe Pmarca Blog Archives\\n(select posts from 2007-2009)\\nMarc Andreessen\\ncopyright: Andreessen Horowitz\\ncover design: Jessica Hagy\\nproduced using: Pressbooks\\nContents\\nTHE PMARCA GUIDE TO STARTUPS\\nPart 1: Why not to do a startup 2\\nPart 2: When the VCs say \"no\" 10\\nPart 3: \"But I don\\'t know any VCs!\" 18\\nPart 4: The only thing that matters 25\\nPart 5: The Moby Dick theory of big companies 33\\nPart 6: How much funding is too little? Too much? 41\\nPart 7: Why a startup\\'s initial business plan doesn\\'t\\nmatter that much\\n49\\nTHE PMARCA GUIDE TO HIRING\\nPart 8: Hiring, managing, promoting, and Dring\\nexecutives\\n54\\nPart 9: How to hire a professional CEO 68\\nHow to hire the best people you\\'ve ever worked\\nwith\\n69\\nTHE PMARCA GUIDE TO BIG COMPANIES\\nPart 1: Turnaround! 82\\nPart 2: Retaining great people 86\\nTHE PMARCA GUIDE TO CAREER, PRODUCTIVITY,\\nAND SOME OTHER THINGS\\nIntroduction 97\\nPart 1: Opportunity 99\\nPart 2: Skills and education 107\\nPart 3: Where to go and why 120\\nThe Pmarca Guide to Personal Productivi']"
            ]
          },
          "execution_count": 6,
          "metadata": {},
          "output_type": "execute_result"
        }
      ],
      "source": [
        "split_documents[0:1]"
      ]
    },
    {
      "cell_type": "markdown",
      "metadata": {
        "id": "HOU-RFP_R6yv"
      },
      "source": [
        "## Task 3: Embeddings and Vectors\n",
        "\n",
        "Next, we have to convert our corpus into a \"machine readable\" format as we explored in the Embedding Primer notebook.\n",
        "\n",
        "Today, we're going to talk about the actual process of creating, and then storing, these embeddings, and how we can leverage that to intelligently add context to our queries."
      ]
    },
    {
      "cell_type": "markdown",
      "metadata": {},
      "source": [
        "### OpenAI API Key\n",
        "\n",
        "In order to access OpenAI's APIs, we'll need to provide our OpenAI API Key!\n",
        "\n",
        "You can work through the folder \"OpenAI API Key Setup\" for more information on this process if you don't already have an API Key!"
      ]
    },
    {
      "cell_type": "code",
      "execution_count": 7,
      "metadata": {},
      "outputs": [],
      "source": [
        "import os\n",
        "import openai\n",
        "from getpass import getpass\n",
        "\n",
        "openai.api_key = getpass(\"OpenAI API Key: \")\n",
        "os.environ[\"OPENAI_API_KEY\"] = openai.api_key"
      ]
    },
    {
      "cell_type": "markdown",
      "metadata": {},
      "source": [
        "### Vector Database\n",
        "\n",
        "Let's set up our vector database to hold all our documents and their embeddings!"
      ]
    },
    {
      "cell_type": "markdown",
      "metadata": {
        "id": "kDQrfAR1R6yv"
      },
      "source": [
        "While this is all baked into 1 call - we can look at some of the code that powers this process to get a better understanding:\n",
        "\n",
        "Let's look at our `VectorDatabase().__init__()`:\n",
        "\n",
        "```python\n",
        "def __init__(self, embedding_model: EmbeddingModel = None):\n",
        "        self.vectors = defaultdict(np.array)\n",
        "        self.embedding_model = embedding_model or EmbeddingModel()\n",
        "```\n",
        "\n",
        "As you can see - our vectors are merely stored as a dictionary of `np.array` objects.\n",
        "\n",
        "Secondly, our `VectorDatabase()` has a default `EmbeddingModel()` which is a wrapper for OpenAI's `text-embedding-3-small` model.\n",
        "\n",
        "> **Quick Info About `text-embedding-3-small`**:\n",
        "> - It has a context window of **8191** tokens\n",
        "> - It returns vectors with dimension **1536**"
      ]
    },
    {
      "cell_type": "markdown",
      "metadata": {
        "id": "L273pRdeR6yv"
      },
      "source": [
        "#### ❓Question #1:\n",
        "\n",
        "The default embedding dimension of `text-embedding-3-small` is 1536, as noted above. \n",
        "\n",
        "1. Is there any way to modify this dimension?\n",
        "2. What technique does OpenAI use to achieve this?\n",
        "\n",
        "> NOTE: Check out this [API documentation](https://platform.openai.com/docs/api-reference/embeddings/create) for the answer to question #1, and [this documentation](https://platform.openai.com/docs/guides/embeddings/use-cases) for an answer to question #2!"
      ]
    },
    {
      "attachments": {
        "image.png": {
          "image/png": "[encoded data removed]"
        }
      },
      "cell_type": "markdown",
      "metadata": {},
      "source": [
        "My answers to the homework questions are:\n",
        "\n",
        "📝 #### Answer 1.1. By default, the length of the embedding vector will be 1536 for text-embedding-3-small. It is optional and can be set. The Parameter is dimensions.\n",
        "\n",
        "📝 #### Answer 1.2. They use embedding models to create text embeddings. \n",
        "\n",
        "To get an embedding, send your text string to the embeddings API endpoint along with the embedding model name (e.g. text-embedding-3-small). The response will contain an embedding (list of floating point numbers), which you can extract, save in a vector database, and use for many different use cases:\n",
        "\n",
        "![image.png](attachment:image.png)"
      ]
    },
    {
      "cell_type": "markdown",
      "metadata": {
        "id": "w5FZY7K3R6yv"
      },
      "source": [
        "We can call the `async_get_embeddings` method of our `EmbeddingModel()` on a list of `str` and receive a list of `float` back!\n",
        "\n",
        "```python\n",
        "async def async_get_embeddings(self, list_of_text: List[str]) -> List[List[float]]:\n",
        "        return await aget_embeddings(\n",
        "            list_of_text=list_of_text, engine=self.embeddings_model_name\n",
        "        )\n",
        "```"
      ]
    },
    {
      "cell_type": "markdown",
      "metadata": {
        "id": "cSct6X0aR6yv"
      },
      "source": [
        "We cast those to `np.array` when we build our `VectorDatabase()`:\n",
        "\n",
        "```python\n",
        "async def abuild_from_list(self, list_of_text: List[str]) -> \"VectorDatabase\":\n",
        "        embeddings = await self.embedding_model.async_get_embeddings(list_of_text)\n",
        "        for text, embedding in zip(list_of_text, embeddings):\n",
        "            self.insert(text, np.array(embedding))\n",
        "        return self\n",
        "```\n",
        "\n",
        "And that's all we need to do!"
      ]
    },
    {
      "cell_type": "code",
      "execution_count": 8,
      "metadata": {
        "id": "O4KoLbVDR6yv"
      },
      "outputs": [],
      "source": [
        "vector_db = VectorDatabase()\n",
        "vector_db = asyncio.run(vector_db.abuild_from_list(split_documents))"
      ]
    },
    {
      "cell_type": "markdown",
      "metadata": {
        "id": "SSZwaGvpR6yv"
      },
      "source": [
        "#### ❓Question #2:\n",
        "\n",
        "What are the benefits of using an `async` approach to collecting our embeddings?\n",
        "\n",
        "> NOTE: Determining the core difference between `async` and `sync` will be useful! If you get stuck - ask ChatGPT!\n",
        "\n",
        "📝#### Answer 2.1. When the job or the function call is time-consuming and blocking in nature, 'Async' can unblock the dependency on the long and/or blocking function call. This not only improves the performance of the application by enabling parallel execution but also better experience for the user who can get a response faster."
      ]
    },
    {
      "cell_type": "markdown",
      "metadata": {
        "id": "nRBdIt-xR6yw"
      },
      "source": [
        "So, to review what we've done so far in natural language:\n",
        "\n",
        "1. We load source documents\n",
        "2. We split those source documents into smaller chunks (documents)\n",
        "3. We send each of those documents to the `text-embedding-3-small` OpenAI API endpoint\n",
        "4. We store each of the text representations with the vector representations as keys/values in a dictionary"
      ]
    },
    {
      "cell_type": "markdown",
      "metadata": {
        "id": "4-vWANZyR6yw"
      },
      "source": [
        "### Semantic Similarity\n",
        "\n",
        "The next step is to be able to query our `VectorDatabase()` with a `str` and have it return to us vectors and text that is most relevant from our corpus.\n",
        "\n",
        "We're going to use the following process to achieve this in our toy example:\n",
        "\n",
        "1. We need to embed our query with the same `EmbeddingModel()` as we used to construct our `VectorDatabase()`\n",
        "2. We loop through every vector in our `VectorDatabase()` and use a distance measure to compare how related they are\n",
        "3. We return a list of the top `k` closest vectors, with their text representations\n",
        "\n",
        "There's some very heavy optimization that can be done at each of these steps - but let's just focus on the basic pattern in this notebook.\n",
        "\n",
        "> We are using [cosine similarity](https://www.engati.com/glossary/cosine-similarity) as a distance metric in this example - but there are many many distance metrics you could use - like [these](https://flavien-vidal.medium.com/similarity-distances-for-natural-language-processing-16f63cd5ba55)\n",
        "\n",
        "> We are using a rather inefficient way of calculating relative distance between the query vector and all other vectors - there are more advanced approaches that are much more efficient, like [ANN](https://towardsdatascience.com/comprehensive-guide-to-approximate-nearest-neighbors-algorithms-8b94f057d6b6)"
      ]
    },
    {
      "cell_type": "code",
      "execution_count": 9,
      "metadata": {
        "colab": {
          "base_uri": "https://localhost:8080/"
        },
        "id": "76d96uavR6yw",
        "outputId": "bbfccc31-20a2-41c7-c14d-46554a43ed2d"
      },
      "outputs": [
        {
          "data": {
            "text/plain": [
              "[('ordingly.\\nSeventh, when hiring the executive to run your former specialty, be\\ncareful you don’t hire someone weak on purpose.\\nThis sounds silly, but you wouldn’t believe how oaen it happens.\\nThe CEO who used to be a product manager who has a weak\\nproduct management executive. The CEO who used to be in\\nsales who has a weak sales executive. The CEO who used to be\\nin marketing who has a weak marketing executive.\\nI call this the “Michael Eisner Memorial Weak Executive Problem” — aaer the CEO of Disney who had previously been a brilliant TV network executive. When he bought ABC at Disney, it\\npromptly fell to fourth place. His response? “If I had an extra\\ntwo days a week, I could turn around ABC myself.” Well, guess\\nwhat, he didn’t have an extra two days a week.\\nA CEO — or a startup founder — oaen has a hard time letting\\ngo of the function that brought him to the party. The result: you\\nhire someone weak into the executive role for that function so\\nthat you can continue to be “the man” — cons',\n",
              "  np.float64(0.6538204613004578),\n",
              "  {'text': 'ordingly.\\nSeventh, when hiring the executive to run your former specialty, be\\ncareful you don’t hire someone weak on purpose.\\nThis sounds silly, but you wouldn’t believe how oaen it happens.\\nThe CEO who used to be a product manager who has a weak\\nproduct management executive. The CEO who used to be in\\nsales who has a weak sales executive. The CEO who used to be\\nin marketing who has a weak marketing executive.\\nI call this the “Michael Eisner Memorial Weak Executive Problem” — aaer the CEO of Disney who had previously been a brilliant TV network executive. When he bought ABC at Disney, it\\npromptly fell to fourth place. His response? “If I had an extra\\ntwo days a week, I could turn around ABC myself.” Well, guess\\nwhat, he didn’t have an extra two days a week.\\nA CEO — or a startup founder — oaen has a hard time letting\\ngo of the function that brought him to the party. The result: you\\nhire someone weak into the executive role for that function so\\nthat you can continue to be “the man” — cons'}),\n",
              " ('m. They have areas where they are truly deXcient in judgment or skill set. That’s just life. Almost nobody is brilliant\\nat everything. When hiring and when Hring executives, you\\nmust therefore focus on strength rather than lack of weakness. Everybody has severe weaknesses even if you can’t see\\nthem yet. When managing, it’s oaen useful to micromanage and\\nto provide remedial training around these weaknesses. Doing so\\nmay make the diWerence between an executive succeeding or\\nfailing.\\nFor example, you might have a brilliant engineering executive\\nwho generates excellent team loyalty, has terriXc product judgment and makes the trains run on time. This same executive\\nmay be very poor at relating to the other functions in the company. She may generate far more than her share of cross-functional conYicts, cut herself oW from critical information, and\\nsigniXcantly impede your ability to sell and market eWectively.\\nYour alternatives are:\\n(a) Macro-manage and give her an annual or quarterly object',\n",
              "  np.float64(0.5034655146109437),\n",
              "  {'text': 'm. They have areas where they are truly deXcient in judgment or skill set. That’s just life. Almost nobody is brilliant\\nat everything. When hiring and when Hring executives, you\\nmust therefore focus on strength rather than lack of weakness. Everybody has severe weaknesses even if you can’t see\\nthem yet. When managing, it’s oaen useful to micromanage and\\nto provide remedial training around these weaknesses. Doing so\\nmay make the diWerence between an executive succeeding or\\nfailing.\\nFor example, you might have a brilliant engineering executive\\nwho generates excellent team loyalty, has terriXc product judgment and makes the trains run on time. This same executive\\nmay be very poor at relating to the other functions in the company. She may generate far more than her share of cross-functional conYicts, cut herself oW from critical information, and\\nsigniXcantly impede your ability to sell and market eWectively.\\nYour alternatives are:\\n(a) Macro-manage and give her an annual or quarterly object'}),\n",
              " ('ed?\\nIn reality — as opposed to Marc’s warped view of reality — it will\\nbe extremely helpful for Marc [if he were actually the CEO,\\nwhich he is not] to meet with the new head of engineering daily\\nwhen she comes on board and review all of her thinking and\\ndecisions. This level of micromanagement will accelerate her\\ntraining and improve her long-term eWectiveness. It will make\\nher seem smarter to the rest of the organization which will build\\ncredibility and conXdence while she comes up to speed. Micromanaging new executives is generally a good idea for a limited\\nperiod of time.\\nHowever, that is not the only time that it makes sense to micro66 The Pmarca Blog Archives\\nmanage executives. It turns out that just about every executive\\nin the world has a few things that are seriously wrong with\\nthem. They have areas where they are truly deXcient in judgment or skill set. That’s just life. Almost nobody is brilliant\\nat everything. When hiring and when Hring executives, you\\nmust therefore focus o',\n",
              "  np.float64(0.48130492816907133),\n",
              "  {'text': 'ed?\\nIn reality — as opposed to Marc’s warped view of reality — it will\\nbe extremely helpful for Marc [if he were actually the CEO,\\nwhich he is not] to meet with the new head of engineering daily\\nwhen she comes on board and review all of her thinking and\\ndecisions. This level of micromanagement will accelerate her\\ntraining and improve her long-term eWectiveness. It will make\\nher seem smarter to the rest of the organization which will build\\ncredibility and conXdence while she comes up to speed. Micromanaging new executives is generally a good idea for a limited\\nperiod of time.\\nHowever, that is not the only time that it makes sense to micro66 The Pmarca Blog Archives\\nmanage executives. It turns out that just about every executive\\nin the world has a few things that are seriously wrong with\\nthem. They have areas where they are truly deXcient in judgment or skill set. That’s just life. Almost nobody is brilliant\\nat everything. When hiring and when Hring executives, you\\nmust therefore focus o'})]"
            ]
          },
          "execution_count": 9,
          "metadata": {},
          "output_type": "execute_result"
        }
      ],
      "source": [
        "vector_db.search_by_text(\"What is the Michael Eisner Memorial Weak Executive Problem?\", k=3)"
      ]
    },
    {
      "cell_type": "markdown",
      "metadata": {
        "id": "TehsfIiKR6yw"
      },
      "source": [
        "## Task 4: Prompts\n",
        "\n",
        "In the following section, we'll be looking at the role of prompts - and how they help us to guide our application in the right direction.\n",
        "\n",
        "In this notebook, we're going to rely on the idea of \"zero-shot in-context learning\".\n",
        "\n",
        "This is a lot of words to say: \"We will ask it to perform our desired task in the prompt, and provide no examples.\""
      ]
    },
    {
      "cell_type": "markdown",
      "metadata": {
        "id": "yXpA0UveR6yw"
      },
      "source": [
        "### XYZRolePrompt\n",
        "\n",
        "Before we do that, let's stop and think a bit about how OpenAI's chat models work.\n",
        "\n",
        "We know they have roles - as is indicated in the following API [documentation](https://platform.openai.com/docs/api-reference/chat/create#chat/create-messages)\n",
        "\n",
        "There are three roles, and they function as follows (taken directly from [OpenAI](https://platform.openai.com/docs/guides/gpt/chat-completions-api)):\n",
        "\n",
        "- `{\"role\" : \"system\"}` : The system message helps set the behavior of the assistant. For example, you can modify the personality of the assistant or provide specific instructions about how it should behave throughout the conversation. However note that the system message is optional and the model’s behavior without a system message is likely to be similar to using a generic message such as \"You are a helpful assistant.\"\n",
        "- `{\"role\" : \"user\"}` : The user messages provide requests or comments for the assistant to respond to.\n",
        "- `{\"role\" : \"assistant\"}` : Assistant messages store previous assistant responses, but can also be written by you to give examples of desired behavior.\n",
        "\n",
        "The main idea is this:\n",
        "\n",
        "1. You start with a system message that outlines how the LLM should respond, what kind of behaviours you can expect from it, and more\n",
        "2. Then, you can provide a few examples in the form of \"assistant\"/\"user\" pairs\n",
        "3. Then, you prompt the model with the true \"user\" message.\n",
        "\n",
        "In this example, we'll be forgoing the 2nd step for simplicities sake."
      ]
    },
    {
      "cell_type": "markdown",
      "metadata": {
        "id": "gdZ2KWKSR6yw"
      },
      "source": [
        "#### Utility Functions\n",
        "\n",
        "You'll notice that we're using some utility functions from the `aimakerspace` module - let's take a peek at these and see what they're doing!"
      ]
    },
    {
      "cell_type": "markdown",
      "metadata": {
        "id": "GFbeJDDsR6yw"
      },
      "source": [
        "##### XYZRolePrompt"
      ]
    },
    {
      "cell_type": "markdown",
      "metadata": {
        "id": "5mojJSE3R6yw"
      },
      "source": [
        "Here we have our `system`, `user`, and `assistant` role prompts.\n",
        "\n",
        "Let's take a peek at what they look like:\n",
        "\n",
        "```python\n",
        "class BasePrompt:\n",
        "    def __init__(self, prompt):\n",
        "        \"\"\"\n",
        "        Initializes the BasePrompt object with a prompt template.\n",
        "\n",
        "        :param prompt: A string that can contain placeholders within curly braces\n",
        "        \"\"\"\n",
        "        self.prompt = prompt\n",
        "        self._pattern = re.compile(r\"\\{([^}]+)\\}\")\n",
        "\n",
        "    def format_prompt(self, **kwargs):\n",
        "        \"\"\"\n",
        "        Formats the prompt string using the keyword arguments provided.\n",
        "\n",
        "        :param kwargs: The values to substitute into the prompt string\n",
        "        :return: The formatted prompt string\n",
        "        \"\"\"\n",
        "        matches = self._pattern.findall(self.prompt)\n",
        "        return self.prompt.format(**{match: kwargs.get(match, \"\") for match in matches})\n",
        "\n",
        "    def get_input_variables(self):\n",
        "        \"\"\"\n",
        "        Gets the list of input variable names from the prompt string.\n",
        "\n",
        "        :return: List of input variable names\n",
        "        \"\"\"\n",
        "        return self._pattern.findall(self.prompt)\n",
        "```\n",
        "\n",
        "Then we have our `RolePrompt` which laser focuses us on the role pattern found in most API endpoints for LLMs.\n",
        "\n",
        "```python\n",
        "class RolePrompt(BasePrompt):\n",
        "    def __init__(self, prompt, role: str):\n",
        "        \"\"\"\n",
        "        Initializes the RolePrompt object with a prompt template and a role.\n",
        "\n",
        "        :param prompt: A string that can contain placeholders within curly braces\n",
        "        :param role: The role for the message ('system', 'user', or 'assistant')\n",
        "        \"\"\"\n",
        "        super().__init__(prompt)\n",
        "        self.role = role\n",
        "\n",
        "    def create_message(self, **kwargs):\n",
        "        \"\"\"\n",
        "        Creates a message dictionary with a role and a formatted message.\n",
        "\n",
        "        :param kwargs: The values to substitute into the prompt string\n",
        "        :return: Dictionary containing the role and the formatted message\n",
        "        \"\"\"\n",
        "        return {\"role\": self.role, \"content\": self.format_prompt(**kwargs)}\n",
        "```\n",
        "\n",
        "We'll look at how the `SystemRolePrompt` is constructed to get a better idea of how that extension works:\n",
        "\n",
        "```python\n",
        "class SystemRolePrompt(RolePrompt):\n",
        "    def __init__(self, prompt: str):\n",
        "        super().__init__(prompt, \"system\")\n",
        "```\n",
        "\n",
        "That pattern is repeated for our `UserRolePrompt` and our `AssistantRolePrompt` as well."
      ]
    },
    {
      "cell_type": "markdown",
      "metadata": {
        "id": "D361R6sMR6yw"
      },
      "source": [
        "##### ChatOpenAI"
      ]
    },
    {
      "cell_type": "markdown",
      "metadata": {
        "id": "HJVQ2Pm8R6yw"
      },
      "source": [
        "Next we have our model, which is converted to a format analagous to libraries like LangChain and LlamaIndex.\n",
        "\n",
        "Let's take a peek at how that is constructed:\n",
        "\n",
        "```python\n",
        "class ChatOpenAI:\n",
        "    def __init__(self, model_name: str = \"gpt-4o-mini\"):\n",
        "        self.model_name = model_name\n",
        "        self.openai_api_key = os.getenv(\"OPENAI_API_KEY\")\n",
        "        if self.openai_api_key is None:\n",
        "            raise ValueError(\"OPENAI_API_KEY is not set\")\n",
        "\n",
        "    def run(self, messages, text_only: bool = True):\n",
        "        if not isinstance(messages, list):\n",
        "            raise ValueError(\"messages must be a list\")\n",
        "\n",
        "        openai.api_key = self.openai_api_key\n",
        "        response = openai.ChatCompletion.create(\n",
        "            model=self.model_name, messages=messages\n",
        "        )\n",
        "\n",
        "        if text_only:\n",
        "            return response.choices[0].message.content\n",
        "\n",
        "        return response\n",
        "```"
      ]
    },
    {
      "cell_type": "markdown",
      "metadata": {
        "id": "qCU7FfhIR6yw"
      },
      "source": [
        "#### ❓ Question #3:\n",
        "\n",
        "When calling the OpenAI API - are there any ways we can achieve more reproducible outputs?\n",
        "\n",
        "> NOTE: Check out [this section](https://platform.openai.com/docs/guides/text-generation/) of the OpenAI documentation for the answer!"
      ]
    },
    {
      "cell_type": "markdown",
      "metadata": {},
      "source": [
        "📝 #### Answer 3.1. Yes, we can achieve more reproducible outputs by setting the seed and temperature.\n",
        "\n",
        "temperature\n",
        "number or null\n",
        "\n",
        "Optional\n",
        "Defaults to 1\n",
        "What sampling temperature to use, between 0 and 2. Higher values like 0.8 will make the output more random, while lower values like 0.2 will make it more focused and deterministic. We generally recommend altering this or top_p but not both.\n",
        "\n",
        "seed\n",
        "integer or null\n",
        "\n",
        "Optional\n",
        "This feature is in Beta. If specified, our system will make a best effort to sample deterministically, such that repeated requests with the same seed and parameters should return the same result. Determinism is not guaranteed, and you should refer to the system_fingerprint response parameter to monitor changes in the backend."
      ]
    },
    {
      "cell_type": "markdown",
      "metadata": {
        "id": "c5wcjMLCR6yw"
      },
      "source": [
        "### Creating and Prompting OpenAI's `gpt-4o-mini`!\n",
        "\n",
        "Let's tie all these together and use it to prompt `gpt-4o-mini`!"
      ]
    },
    {
      "cell_type": "code",
      "execution_count": 10,
      "metadata": {
        "id": "WIfpIot7R6yw"
      },
      "outputs": [],
      "source": [
        "from aimakerspace.openai_utils.prompts import (\n",
        "    UserRolePrompt,\n",
        "    SystemRolePrompt,\n",
        "    AssistantRolePrompt,\n",
        ")\n",
        "\n",
        "from aimakerspace.openai_utils.chatmodel import ChatOpenAI\n",
        "\n",
        "chat_openai = ChatOpenAI()\n",
        "user_prompt_template = \"{content}\"\n",
        "user_role_prompt = UserRolePrompt(user_prompt_template)\n",
        "system_prompt_template = (\n",
        "    \"You are an expert in {expertise}, you always answer in a kind way.\"\n",
        ")\n",
        "system_role_prompt = SystemRolePrompt(system_prompt_template)\n",
        "\n",
        "messages = [\n",
        "    system_role_prompt.create_message(expertise=\"Python\"),\n",
        "    user_role_prompt.create_message(\n",
        "        content=\"What is the best way to write a loop?\"\n",
        "    ),\n",
        "]\n",
        "\n",
        "response = chat_openai.run(messages)"
      ]
    },
    {
      "cell_type": "code",
      "execution_count": 11,
      "metadata": {
        "colab": {
          "base_uri": "https://localhost:8080/"
        },
        "id": "dHo7lssNR6yw",
        "outputId": "1d3823fa-bb6b-45f6-ddba-b41686388324"
      },
      "outputs": [
        {
          "name": "stdout",
          "output_type": "stream",
          "text": [
            "The best way to write a loop in Python depends on the specific situation and what you're trying to achieve. However, I can share some general best practices that can help you write clean and efficient loops.\n",
            "\n",
            "### 1. **Use `for` Loops for Iterating Over Sequences**\n",
            "When you want to iterate over a list, tuple, or any iterable, a `for` loop is often the most concise and straightforward way to do it. For example:\n",
            "\n",
            "```python\n",
            "numbers = [1, 2, 3, 4, 5]\n",
            "for number in numbers:\n",
            "    print(number)\n",
            "```\n",
            "\n",
            "### 2. **Use `while` Loops for Conditional Iteration**\n",
            "If you need to continue looping until a certain condition is met, a `while` loop can be a good choice:\n",
            "\n",
            "```python\n",
            "count = 0\n",
            "while count < 5:\n",
            "    print(count)\n",
            "    count += 1\n",
            "```\n",
            "\n",
            "### 3. **Avoid Nested Loops When Possible**\n",
            "Nested loops can make code harder to read and can lead to performance issues. If you find yourself needing to nest loops, consider alternative solutions such as list comprehensions or using built-in functions like `map` or `filter`.\n",
            "\n",
            "### 4. **Keep Loop Bodies Simple**\n",
            "Try to keep the code inside the loop concise and focused on a single task. This improves readability and maintainability. If a loop body becomes complex, consider breaking it out into a separate function.\n",
            "\n",
            "### 5. **Use Enumerate for Index Tracking**\n",
            "If you need to keep track of the index of the items you're looping through, use `enumerate()`:\n",
            "\n",
            "```python\n",
            "fruits = ['apple', 'banana', 'cherry']\n",
            "for index, fruit in enumerate(fruits):\n",
            "    print(f\"{index}: {fruit}\")\n",
            "```\n",
            "\n",
            "### 6. **Leverage List Comprehensions**\n",
            "For operations that can be expressed as a transformation of a list, consider using list comprehensions, which are often more Pythonic and can make your code cleaner:\n",
            "\n",
            "```python\n",
            "squared_numbers = [x**2 for x in range(10)]\n",
            "```\n",
            "\n",
            "### 7. **Use `break` and `continue` Wisely**\n",
            "You can use `break` to exit a loop early or `continue` to skip to the next iteration, but use these sparingly; overusing them can make the logic more difficult to follow.\n",
            "\n",
            "### 8. **Consider Using Iterators**\n",
            "For large datasets, consider using iterators, generators, or libraries like `itertools` to manage memory efficiently.\n",
            "\n",
            "### Example Summary\n",
            "Here’s a simple example combining some of the best practices:\n",
            "\n",
            "```python\n",
            "# Using a for loop with enumerate and list comprehension\n",
            "numbers = [1, 2, 3, 4, 5]\n",
            "\n",
            "squared_numbers = [x**2 for x in numbers]\n",
            "for index, number in enumerate(squared_numbers):\n",
            "    print(f'Index {index} has squared value: {number}')\n",
            "```\n",
            "\n",
            "Feel free to adapt these practices based on your specific use case! If you have any questions about loops or need clarification, just let me know!\n"
          ]
        }
      ],
      "source": [
        "print(response)"
      ]
    },
    {
      "cell_type": "markdown",
      "metadata": {
        "id": "r2nxxhB2R6yy"
      },
      "source": [
        "## Task 5: Retrieval Augmented Generation\n",
        "\n",
        "Now we can create a RAG prompt - which will help our system behave in a way that makes sense!\n",
        "\n",
        "There is much you could do here, many tweaks and improvements to be made!"
      ]
    },
    {
      "cell_type": "code",
      "execution_count": 12,
      "metadata": {
        "id": "D1hamzGaR6yy"
      },
      "outputs": [],
      "source": [
        "RAG_PROMPT_TEMPLATE = \"\"\" \\\n",
        "Use the provided context to answer the user's query.\n",
        "\n",
        "You may not answer the user's query unless there is specific context in the following text.\n",
        "\n",
        "If you do not know the answer, or cannot answer, please respond with \"I don't know\" and why you don't know.\n",
        "\"\"\"\n",
        "\n",
        "rag_prompt = SystemRolePrompt(RAG_PROMPT_TEMPLATE)\n",
        "\n",
        "USER_PROMPT_TEMPLATE = \"\"\" \\\n",
        "Context:\n",
        "{context}\n",
        "\n",
        "User Query:\n",
        "{user_query}\n",
        "\"\"\"\n",
        "\n",
        "\n",
        "user_prompt = UserRolePrompt(USER_PROMPT_TEMPLATE)\n",
        "\n",
        "class RetrievalAugmentedQAPipeline:\n",
        "    def __init__(self, llm: ChatOpenAI(), vector_db_retriever: VectorDatabase) -> None:\n",
        "        self.llm = llm\n",
        "        self.vector_db_retriever = vector_db_retriever\n",
        "\n",
        "    def run_pipeline(self, user_query: str) -> str:\n",
        "        context_list = self.vector_db_retriever.search_by_text(user_query, k=3, return_as_text=True)\n",
        "\n",
        "        context_prompt = \"\"\n",
        "        for context in context_list:\n",
        "            context_prompt += context[0] + \"\\n\"\n",
        "\n",
        "        formatted_system_prompt = rag_prompt.create_message()\n",
        "\n",
        "        formatted_user_prompt = user_prompt.create_message(user_query=user_query, context=context_prompt)\n",
        "\n",
        "        return {\"response\" : self.llm.run([formatted_system_prompt, formatted_user_prompt]), \"context\" : context_list}"
      ]
    },
    {
      "cell_type": "markdown",
      "metadata": {
        "id": "zZIJI19uR6yz"
      },
      "source": [
        "#### ❓ Question #4:\n",
        "\n",
        "What prompting strategies could you use to make the LLM have a more thoughtful, detailed response?\n",
        "\n",
        "What is that strategy called?\n",
        "\n",
        "> NOTE: You can look through the Week 1 Day 1 \"Prompting OpenAI Like A Developer\" material for an answer to this question!"
      ]
    },
    {
      "cell_type": "markdown",
      "metadata": {},
      "source": [
        "📝 #### Answer 4.1. Implement Chaint of Thought prompting strategy.\n",
        "\n",
        "In the prompt, tell the LLM to think step by step. You can also tell LLM to detail the response.\n",
        "\n",
        "Another strategy is to do few shot prompting, give examples of the desired output."
      ]
    },
    {
      "cell_type": "code",
      "execution_count": 13,
      "metadata": {
        "id": "kqbE9fZ6R6yz"
      },
      "outputs": [],
      "source": [
        "retrieval_augmented_qa_pipeline = RetrievalAugmentedQAPipeline(\n",
        "    vector_db_retriever=vector_db,\n",
        "    llm=chat_openai\n",
        ")"
      ]
    },
    {
      "cell_type": "code",
      "execution_count": 14,
      "metadata": {
        "colab": {
          "base_uri": "https://localhost:8080/"
        },
        "id": "jAGhaCGOR6yz",
        "outputId": "e4fb3a1b-d2bc-4e18-ec31-dc0adf767163"
      },
      "outputs": [
        {
          "data": {
            "text/plain": [
              "{'response': \"The 'Michael Eisner Memorial Weak Executive Problem' refers to the tendency of some CEOs or startup founders, who have a strong background in a particular area (like product management, sales, or marketing), to hire weak executives for that same function. This is done on purpose, allowing them to maintain control and not fully let go of the area that brought them success. The name comes from Michael Eisner, the former CEO of Disney, who, despite being a skilled TV network executive, encountered challenges when he brought on a weak executive for ABC, which led to poor performance. The problem highlights the importance of hiring strong leaders for critical roles rather than allowing personal insecurities to dictate those hiring decisions.\",\n",
              " 'context': [('ordingly.\\nSeventh, when hiring the executive to run your former specialty, be\\ncareful you don’t hire someone weak on purpose.\\nThis sounds silly, but you wouldn’t believe how oaen it happens.\\nThe CEO who used to be a product manager who has a weak\\nproduct management executive. The CEO who used to be in\\nsales who has a weak sales executive. The CEO who used to be\\nin marketing who has a weak marketing executive.\\nI call this the “Michael Eisner Memorial Weak Executive Problem” — aaer the CEO of Disney who had previously been a brilliant TV network executive. When he bought ABC at Disney, it\\npromptly fell to fourth place. His response? “If I had an extra\\ntwo days a week, I could turn around ABC myself.” Well, guess\\nwhat, he didn’t have an extra two days a week.\\nA CEO — or a startup founder — oaen has a hard time letting\\ngo of the function that brought him to the party. The result: you\\nhire someone weak into the executive role for that function so\\nthat you can continue to be “the man” — cons',\n",
              "   'ordingly.\\nSeventh, when hiring the executive to run your former specialty, be\\ncareful you don’t hire someone weak on purpose.\\nThis sounds silly, but you wouldn’t believe how oaen it happens.\\nThe CEO who used to be a product manager who has a weak\\nproduct management executive. The CEO who used to be in\\nsales who has a weak sales executive. The CEO who used to be\\nin marketing who has a weak marketing executive.\\nI call this the “Michael Eisner Memorial Weak Executive Problem” — aaer the CEO of Disney who had previously been a brilliant TV network executive. When he bought ABC at Disney, it\\npromptly fell to fourth place. His response? “If I had an extra\\ntwo days a week, I could turn around ABC myself.” Well, guess\\nwhat, he didn’t have an extra two days a week.\\nA CEO — or a startup founder — oaen has a hard time letting\\ngo of the function that brought him to the party. The result: you\\nhire someone weak into the executive role for that function so\\nthat you can continue to be “the man” — cons',\n",
              "   {'text': 'ordingly.\\nSeventh, when hiring the executive to run your former specialty, be\\ncareful you don’t hire someone weak on purpose.\\nThis sounds silly, but you wouldn’t believe how oaen it happens.\\nThe CEO who used to be a product manager who has a weak\\nproduct management executive. The CEO who used to be in\\nsales who has a weak sales executive. The CEO who used to be\\nin marketing who has a weak marketing executive.\\nI call this the “Michael Eisner Memorial Weak Executive Problem” — aaer the CEO of Disney who had previously been a brilliant TV network executive. When he bought ABC at Disney, it\\npromptly fell to fourth place. His response? “If I had an extra\\ntwo days a week, I could turn around ABC myself.” Well, guess\\nwhat, he didn’t have an extra two days a week.\\nA CEO — or a startup founder — oaen has a hard time letting\\ngo of the function that brought him to the party. The result: you\\nhire someone weak into the executive role for that function so\\nthat you can continue to be “the man” — cons'}),\n",
              "  ('m. They have areas where they are truly deXcient in judgment or skill set. That’s just life. Almost nobody is brilliant\\nat everything. When hiring and when Hring executives, you\\nmust therefore focus on strength rather than lack of weakness. Everybody has severe weaknesses even if you can’t see\\nthem yet. When managing, it’s oaen useful to micromanage and\\nto provide remedial training around these weaknesses. Doing so\\nmay make the diWerence between an executive succeeding or\\nfailing.\\nFor example, you might have a brilliant engineering executive\\nwho generates excellent team loyalty, has terriXc product judgment and makes the trains run on time. This same executive\\nmay be very poor at relating to the other functions in the company. She may generate far more than her share of cross-functional conYicts, cut herself oW from critical information, and\\nsigniXcantly impede your ability to sell and market eWectively.\\nYour alternatives are:\\n(a) Macro-manage and give her an annual or quarterly object',\n",
              "   'm. They have areas where they are truly deXcient in judgment or skill set. That’s just life. Almost nobody is brilliant\\nat everything. When hiring and when Hring executives, you\\nmust therefore focus on strength rather than lack of weakness. Everybody has severe weaknesses even if you can’t see\\nthem yet. When managing, it’s oaen useful to micromanage and\\nto provide remedial training around these weaknesses. Doing so\\nmay make the diWerence between an executive succeeding or\\nfailing.\\nFor example, you might have a brilliant engineering executive\\nwho generates excellent team loyalty, has terriXc product judgment and makes the trains run on time. This same executive\\nmay be very poor at relating to the other functions in the company. She may generate far more than her share of cross-functional conYicts, cut herself oW from critical information, and\\nsigniXcantly impede your ability to sell and market eWectively.\\nYour alternatives are:\\n(a) Macro-manage and give her an annual or quarterly object',\n",
              "   {'text': 'm. They have areas where they are truly deXcient in judgment or skill set. That’s just life. Almost nobody is brilliant\\nat everything. When hiring and when Hring executives, you\\nmust therefore focus on strength rather than lack of weakness. Everybody has severe weaknesses even if you can’t see\\nthem yet. When managing, it’s oaen useful to micromanage and\\nto provide remedial training around these weaknesses. Doing so\\nmay make the diWerence between an executive succeeding or\\nfailing.\\nFor example, you might have a brilliant engineering executive\\nwho generates excellent team loyalty, has terriXc product judgment and makes the trains run on time. This same executive\\nmay be very poor at relating to the other functions in the company. She may generate far more than her share of cross-functional conYicts, cut herself oW from critical information, and\\nsigniXcantly impede your ability to sell and market eWectively.\\nYour alternatives are:\\n(a) Macro-manage and give her an annual or quarterly object'}),\n",
              "  ('ed?\\nIn reality — as opposed to Marc’s warped view of reality — it will\\nbe extremely helpful for Marc [if he were actually the CEO,\\nwhich he is not] to meet with the new head of engineering daily\\nwhen she comes on board and review all of her thinking and\\ndecisions. This level of micromanagement will accelerate her\\ntraining and improve her long-term eWectiveness. It will make\\nher seem smarter to the rest of the organization which will build\\ncredibility and conXdence while she comes up to speed. Micromanaging new executives is generally a good idea for a limited\\nperiod of time.\\nHowever, that is not the only time that it makes sense to micro66 The Pmarca Blog Archives\\nmanage executives. It turns out that just about every executive\\nin the world has a few things that are seriously wrong with\\nthem. They have areas where they are truly deXcient in judgment or skill set. That’s just life. Almost nobody is brilliant\\nat everything. When hiring and when Hring executives, you\\nmust therefore focus o',\n",
              "   'ed?\\nIn reality — as opposed to Marc’s warped view of reality — it will\\nbe extremely helpful for Marc [if he were actually the CEO,\\nwhich he is not] to meet with the new head of engineering daily\\nwhen she comes on board and review all of her thinking and\\ndecisions. This level of micromanagement will accelerate her\\ntraining and improve her long-term eWectiveness. It will make\\nher seem smarter to the rest of the organization which will build\\ncredibility and conXdence while she comes up to speed. Micromanaging new executives is generally a good idea for a limited\\nperiod of time.\\nHowever, that is not the only time that it makes sense to micro66 The Pmarca Blog Archives\\nmanage executives. It turns out that just about every executive\\nin the world has a few things that are seriously wrong with\\nthem. They have areas where they are truly deXcient in judgment or skill set. That’s just life. Almost nobody is brilliant\\nat everything. When hiring and when Hring executives, you\\nmust therefore focus o',\n",
              "   {'text': 'ed?\\nIn reality — as opposed to Marc’s warped view of reality — it will\\nbe extremely helpful for Marc [if he were actually the CEO,\\nwhich he is not] to meet with the new head of engineering daily\\nwhen she comes on board and review all of her thinking and\\ndecisions. This level of micromanagement will accelerate her\\ntraining and improve her long-term eWectiveness. It will make\\nher seem smarter to the rest of the organization which will build\\ncredibility and conXdence while she comes up to speed. Micromanaging new executives is generally a good idea for a limited\\nperiod of time.\\nHowever, that is not the only time that it makes sense to micro66 The Pmarca Blog Archives\\nmanage executives. It turns out that just about every executive\\nin the world has a few things that are seriously wrong with\\nthem. They have areas where they are truly deXcient in judgment or skill set. That’s just life. Almost nobody is brilliant\\nat everything. When hiring and when Hring executives, you\\nmust therefore focus o'})]}"
            ]
          },
          "execution_count": 14,
          "metadata": {},
          "output_type": "execute_result"
        }
      ],
      "source": [
        "retrieval_augmented_qa_pipeline.run_pipeline(\"What is the 'Michael Eisner Memorial Weak Executive Problem'?\")"
      ]
    },
    {
      "cell_type": "markdown",
      "metadata": {},
      "source": [
        "### 🏗️ Activity #1:\n",
        "\n",
        "Enhance your RAG application in some way! \n",
        "\n",
        "Suggestions are: \n",
        "\n",
        "- Allow it to work with PDF files\n",
        "- Implement a new distance metric\n",
        "- Add metadata support to the vector database\n",
        "\n",
        "While these are suggestions, you should feel free to make whatever augmentations you desire! \n",
        "\n",
        "> NOTE: These additions might require you to work within the `aimakerspace` library - that's expected!"
      ]
    },
    {
      "cell_type": "markdown",
      "metadata": {},
      "source": [
        "I change text_utils.py to load pdf files and split them into chunks."
      ]
    },
    {
      "cell_type": "code",
      "execution_count": 15,
      "metadata": {},
      "outputs": [
        {
          "data": {
            "text/plain": [
              "1"
            ]
          },
          "execution_count": 15,
          "metadata": {},
          "output_type": "execute_result"
        }
      ],
      "source": [
        "text_loader = TextFileLoader(\"data/2024trends.pdf\")\n",
        "documents = text_loader.load_documents()\n",
        "len(documents)"
      ]
    },
    {
      "cell_type": "markdown",
      "metadata": {},
      "source": [
        "I loaded a sample pdf file and split it into chunks."
      ]
    },
    {
      "cell_type": "code",
      "execution_count": 16,
      "metadata": {},
      "outputs": [
        {
          "name": "stdout",
          "output_type": "stream",
          "text": [
            "AI Is Disrupting the Legal Industry\n",
            "| 1\n",
            "Introduction\n",
            "Lawyers are wasting time—and losing endless Art\n"
          ]
        }
      ],
      "source": [
        "print(documents[0][:100])"
      ]
    },
    {
      "cell_type": "markdown",
      "metadata": {},
      "source": [
        "I am adding the two files to the vector database."
      ]
    },
    {
      "cell_type": "code",
      "execution_count": 17,
      "metadata": {},
      "outputs": [
        {
          "data": {
            "text/plain": [
              "486"
            ]
          },
          "execution_count": 17,
          "metadata": {},
          "output_type": "execute_result"
        }
      ],
      "source": [
        "text_splitter = CharacterTextSplitter()\n",
        "split_documents += text_splitter.split_texts(documents)\n",
        "len(split_documents)"
      ]
    },
    {
      "cell_type": "code",
      "execution_count": 18,
      "metadata": {},
      "outputs": [
        {
          "data": {
            "text/plain": [
              "[' you do get a “yes”, half the time you’ll get a call two\\ndays later and it’ll turn out the answer has morphed into “no”.\\nBetter start working on your fake smile.\\nFourth, hiring is a huge pain in the ass.\\nYou will be amazed how many windowshoppers you’ll deal with.\\nA lot of people think they want to be part of a startup, but when\\nthe time comes to leave their cushy job at HP or Apple, they\\nYinch — and stay.\\nGoing through the recruiting process and being seduced by a\\nstartup is heady stuW for your typical engineer or midlevel manager at a big company — you get to participate vicariously in the\\nthrill of a startup without actually having to join or do any of the\\nhard work.\\nAs a founder of a startup trying to hire your team, you’ll run into\\nthis again and again.\\nWhen Jim Clark decided to start a new company in 1994, I was\\none of about a dozen people at various Silicon Valley companies\\nhe was talking to about joining him in what became Netscape.\\nI was the only one who went all the way to sa',\n",
              " ' a new company in 1994, I was\\none of about a dozen people at various Silicon Valley companies\\nhe was talking to about joining him in what became Netscape.\\nI was the only one who went all the way to saying “yes” (largely\\nbecause I was 22 and had no reason not to do it).\\nThe rest Yinched and didn’t do it.\\nAnd this was Jim Clark, a legend in the industry who was coming\\noW of the most successful company in Silicon Valley in 1994 —\\nSilicon Graphics Inc.\\nHow easy do you think it’s going to be for you?\\nThen, once you do get through the windowshoppers and actually hire some people, your success rate on hiring is probably\\nnot going to be higher than 50%, and that’s if you’re good at it.\\nBy that I mean that half or more of the people you hire aren’t\\n6 The Pmarca Blog Archives\\ngoing to work out. They’re going to be too lazy, too slow, easily\\nrattled, political, bipolar, or psychotic.\\nAnd then you have to either live with them, or Xre them.\\nWhich ones of those sounds like fun?\\nFiah, God help you, ',\n",
              " '’re going to be too lazy, too slow, easily\\nrattled, political, bipolar, or psychotic.\\nAnd then you have to either live with them, or Xre them.\\nWhich ones of those sounds like fun?\\nFiah, God help you, at some point you’re going to have to hire executives.\\nYou think hiring employees is hard and risky — wait until you\\nstart hiring for VP Engineering, VP Marketing, VP Sales, VP HR,\\nGeneral Counsel, and CFO.\\nSixth, the hours.\\nThere’s been a lot of talk in Silicon Valley lately about work/life\\nbalance — about how you should be able to do a startup and\\nsimultaneously live a full and fulXlling outside life.\\nNow, personally, I have a lot of sympathy for that point of view.\\nAnd I try hard in my companies (well, at least my last two companies) to do whatever I can to help make sure that people aren’t\\nground down to little tiny spots on the Yoor by the workload\\nand the hours.\\nBut, it’s really diZcult.\\nThe fact is that startups are incredibly intense experiences and\\ntake a lot out of people in the ',\n",
              " '\\nground down to little tiny spots on the Yoor by the workload\\nand the hours.\\nBut, it’s really diZcult.\\nThe fact is that startups are incredibly intense experiences and\\ntake a lot out of people in the best of circumstances.\\nAnd just because you want people to have work/life balance, it’s\\nnot so easy when you’re close to running out of cash, your product hasn’t shipped yet, your VC is mad at you, and your Kleiner\\nPerkins-backed competitor in Menlo Park — you know, the one\\nwhose employees’ average age seems to be about 19 — is kicking\\nyour butt.\\nWhich is what it’s going to be like most of the time.\\nAnd even if you can help your employees have proper work/life\\nbalance, as a founder you certainly won’t.\\nPart 1: Why not to do a startup 7\\n(In case you were wondering, by the way, the hours do compound the stress.)\\nSeventh, it’s really easy for the culture of a startup to go sideways.\\nThis combines the Xrst and second items above.\\nThis is the emotional rollercoaster wreaking havoc on not just\\ny',\n",
              " 'ound the stress.)\\nSeventh, it’s really easy for the culture of a startup to go sideways.\\nThis combines the Xrst and second items above.\\nThis is the emotional rollercoaster wreaking havoc on not just\\nyou but your whole company.\\nIt takes time for the culture of any company to become “set” —\\nfor the team of people who have come together for the Xrst time\\nto decide collectively what they’re all about, what they value —\\nand how they look at challenge and adversity.\\nIn the best case, you get an amazing dynamic of people really\\npulling together, supporting one another, and working their collective tails oW in pursuit of a dream.\\nIn the worst case, you end up with widespread, self-reinforcing\\nbitterness, disillusionment, cynicism, bad morale, contempt for\\nmanagement, and depression.\\nAnd you as the founder have much less inYuence over this than\\nyou’ll think you do.\\nGuess which way it usually goes.\\nEighth, there are lots of X factors that can come along and whup\\nyou right upside the head, and th',\n",
              " ' founder have much less inYuence over this than\\nyou’ll think you do.\\nGuess which way it usually goes.\\nEighth, there are lots of X factors that can come along and whup\\nyou right upside the head, and there’s absolutely nothing you\\ncan do about them.\\nStock market crashes.\\nTerrorist attacks.\\nNatural disasters.\\nA better funded startup with a more experienced team that’s\\nbeen hard at work longer than you have, in stealth mode, that\\nunexpectedly releases a product that swialy comes to dominate\\nyour market, completely closing oW your opportunity, and you\\nhad no idea they were even working on it.\\n8 The Pmarca Blog Archives\\nAt best, any given X factor might slam shut the fundraising\\nwindow, cause customers to delay or cancel purchases — or, at\\nworst, shut down your whole company.\\nRussian mobsters laundering millions of dollars of dirty money\\nthrough your service, resulting in the credit card companies\\nclosing you down.\\nYou think I’m joking about that one?\\nOK, now here’s the best part:\\nI haven’t ',\n",
              " 'undering millions of dollars of dirty money\\nthrough your service, resulting in the credit card companies\\nclosing you down.\\nYou think I’m joking about that one?\\nOK, now here’s the best part:\\nI haven’t even talked about Xguring out what product to build,\\nbuilding it, taking it to market, and standing out from the crowd.\\nAll the risks in the core activities of what your company actually\\ndoes are yet to come, and to be discussed in future posts in this\\nseries.\\nPart 1: Why not to do a startup 9\\nPart 2: When the VCs say \"no\"\\nThis post is about what to do between when the VCs say “no” to\\nfunding your startup, and when you either change their minds\\nor Xnd some other path.\\nI’m going to assume that you’ve done all the basics: developed a\\nplan and a pitch, decided that venture Xnancing is right for you\\nand you are right for venture Xnancing, lined up meetings with\\nproperly qualiXed VCs, and made your pitch.\\nAnd the answer has come back and it’s “no”.\\nOne “no” doesn’t mean anything — the VC could ',\n",
              " 'ou\\nand you are right for venture Xnancing, lined up meetings with\\nproperly qualiXed VCs, and made your pitch.\\nAnd the answer has come back and it’s “no”.\\nOne “no” doesn’t mean anything — the VC could just be having\\na bad day, or she had a bad experience with another company in\\nyour category, or she had a bad experience with another company with a similar name, or she had a bad experience with\\nanother founder who kind of looks like you, or her Mercedes\\nSLR McLaren’s engine could have blown up on the freeway that\\nmorning — it could be anything. Go meet with more VCs.\\nIf you meet with three VCs and they all say “no”, it could just be\\na big coincidence. Go meet with more VCs.\\nIf you meet with Xve, or six, or eight VCs and they all say no, it’s\\nnot a coincidence.\\nThere is something wrong with your plan.\\nOr, even if there isn’t, there might as well be, because you’re still\\nnot getting funded.\\nMeeting with more VCs aaer a bunch have said no is probably\\na waste of time. Instead, retool your pl',\n",
              " 'our plan.\\nOr, even if there isn’t, there might as well be, because you’re still\\nnot getting funded.\\nMeeting with more VCs aaer a bunch have said no is probably\\na waste of time. Instead, retool your plan — which is what this\\npost is about.\\nBut Hrst, lay the groundwork to go back in later.\\nIt’s an old — and true — cliche that VCs rarely actually say “no”\\n— more oaen they say “maybe”, or “not right now”, or “my partners aren’t sure”, or “that’s interesting, let me think about it”.\\nThey do that because they don’t want to invest in your company\\ngiven the current facts, but they want to keep the door open in\\ncase the facts change.\\nAnd that’s exactly what you want — you want to be able to go\\nback to them with a new set of facts, and change their minds,\\nand get to “yes”.\\nSo be sure to take “no” gracefully — politely ask them for feedback (which they probably won’t give you, at least not completely honestly — nobody likes calling someone else’s baby\\nugly — believe me, I’ve done it), thank them ',\n",
              " 'acefully — politely ask them for feedback (which they probably won’t give you, at least not completely honestly — nobody likes calling someone else’s baby\\nugly — believe me, I’ve done it), thank them for their time, and\\nask if you can call them again if things change.\\nTrust me — they’d much rather be saying “yes” than “no” —\\nthey need all the good investments they can get.\\nSecond, consider the environment.\\nBeing told “no” by VCs in 1999 is a lot diWerent than being told\\n“no” in 2002.\\nIf you were told “no” in 1999, I’m sure you’re a wonderful person and you have huge potential and your mother loves you\\nvery much, but your plan really was seriously Yawed.\\nIf you were told “no” in 2002, you probably actually were the\\nnext Google, but most of the VCs were hiding under their desks\\nand they just missed it.\\nIn my opinion, we’re now in a much more rational environment\\nthan either of those extremes — a lot of good plans are being\\nfunded, along with some bad ones, but not all the bad ones.\\nPart ',\n",
              " ' missed it.\\nIn my opinion, we’re now in a much more rational environment\\nthan either of those extremes — a lot of good plans are being\\nfunded, along with some bad ones, but not all the bad ones.\\nPart 2: When the VCs say \"no\" 11\\nI’ll proceed under the assumption that we’re in normal times.\\nBut if things get truly euphoric or truly funereal again, the rest\\nof this post will probably not be very helpful — in either case.\\nThird, retool your plan.\\nThis is the hard part — changing the facts of your plan and what\\nyou are trying to do, to make your company more fundable.\\nTo describe the dimensions that you should consider as you\\ncontemplate retooling your plan, let me introduce the onion\\ntheory of risk.\\nIf you’re an investor, you look at the risk around an investment\\nas if it’s an onion. Just like you peel an onion and remove each\\nlayer in turn, risk in a startup investment comes in layers that\\nget peeled away — reduced — one by one.\\nYour challenge as an entrepreneur trying to raise venture ca',\n",
              " ' you peel an onion and remove each\\nlayer in turn, risk in a startup investment comes in layers that\\nget peeled away — reduced — one by one.\\nYour challenge as an entrepreneur trying to raise venture capital\\nis to keep peeling layers of risk oW of your particular onion until\\nthe VCs say “yes” — until the risk in your startup is reduced to\\nthe point where investing in your startup doesn’t look terrifying\\nand merely looks risky.\\nWhat are the layers of risk for a high-tech\\nstartup?\\nIt depends on the startup, but here are some of the common\\nones:\\nFounder risk — does the startup have the right founding team?\\nA common founding team might include a great technologist,\\nplus someone who can run the company, at least to start. Is the\\ntechnologist really all that? Is the business person capable of\\nrunning the company? Is the business person missing from the\\nteam altogether? Is it a business person or business people with\\nno technologist, and therefore virtually unfundable?\\nMarket risk — is there a ',\n",
              " 'ing the company? Is the business person missing from the\\nteam altogether? Is it a business person or business people with\\nno technologist, and therefore virtually unfundable?\\nMarket risk — is there a market for the product (using the term\\nproduct and service interchangeably)? Will anyone want it? Will\\nthey pay for it? How much will they pay? How do we know?\\n12 The Pmarca Blog Archives\\nCompetition risk — are there too many other startups already\\ndoing this? Is this startup suZciently diWerentiated from the\\nother startups, and also diWerentiated from any large incumbents?\\nTiming risk — is it too early? Is it too late?\\nFinancing risk — aaer we invest in this round, how many additional rounds of Xnancing will be required for the company to\\nbecome proXtable, and what will the dollar total be? How certain\\nare we about these estimates? How do we know?\\nMarketing risk — will this startup be able to cut through the\\nnoise? How much will marketing cost? Do the economics of customer acquisition — t',\n",
              " 'ow certain\\nare we about these estimates? How do we know?\\nMarketing risk — will this startup be able to cut through the\\nnoise? How much will marketing cost? Do the economics of customer acquisition — the cost to acquire a customer, and the revenue that customer will generate — work?\\nDistribution risk — does this startup need certain distribution\\npartners to succeed? Will it be able to get them? How? (For\\nexample, this is a common problem with mobile startups that\\nneed deals with major mobile carriers to succeed.)\\nTechnology risk — can the product be built? Does it involve rocket\\nscience — or an equivalent, like artiXcial intelligence or natural\\nlanguage processing? Are there fundamental breakthroughs that\\nneed to happen? If so, how certain are we that they will happen,\\nor that this team will be able to make them?\\nProduct risk — even assuming the product can in theory be built,\\ncan this team build it?\\nHiring risk — what positions does the startup need to hire for in\\norder to execute its ',\n",
              " 'l be able to make them?\\nProduct risk — even assuming the product can in theory be built,\\ncan this team build it?\\nHiring risk — what positions does the startup need to hire for in\\norder to execute its plan? E.g. a startup planning to build a highscale web service will need a VP of Operations — will the founding team be able to hire a good one?\\nLocation risk — where is the startup located? Can it hire the right\\ntalent in that location? And will I as the VC need to drive more\\nthan 20 minutes in my Mercedes SLR McLaren to get there?\\nYou know, when you stack up all these layers and look at the\\nPart 2: When the VCs say \"no\" 13\\nfull onion, you realize it’s amazing that any venture investments\\never get made.\\nWhat you need to do is take a hard-headed look at each of these\\nrisks — and any others that are speciXc to your startup and its\\ncategory — and put yourself in the VC’s shoes: what could this\\nstartup do to minimize or eliminate enough of these risks to\\nmake the company fundable?\\nThen do tho',\n",
              " 't are speciXc to your startup and its\\ncategory — and put yourself in the VC’s shoes: what could this\\nstartup do to minimize or eliminate enough of these risks to\\nmake the company fundable?\\nThen do those things.\\nThis isn’t very much fun, since it will probably involve making\\nsigniXcant changes to your plan, but look on the bright side: it’s\\nexcellent practice for when your company ultimately goes public and has to Xle an S1 registration statement with the SEC, in\\nwhich you have to itemize in huge detail every conceivable risk\\nand bad thing that could ever possibly happen to you, up to and\\nincluding global warming.\\nSome ideas on reducing risk\\nFounder risk — the tough one. If you’re the technologist on a\\nfounding team with a business person, you have to consider the\\npossibility that the VCs don’t think the business person is strong\\nenough to be the founding CEO. Or vice versa, maybe they\\nthink the technologist isn’t strong enough to build the product.\\nYou may have to swap out one or more ',\n",
              " 'on’t think the business person is strong\\nenough to be the founding CEO. Or vice versa, maybe they\\nthink the technologist isn’t strong enough to build the product.\\nYou may have to swap out one or more founders, and/or add\\none or more founders.\\nI put this one right up front because it can be a huge issue and\\nthe odds of someone being honest with you about it in the speciXc are not that high.\\nMarket risk — you probably need to validate the market, at a\\npractical level. Sometimes more detailed and analytical market\\nresearch will solve the problem, but more oaen you actually\\nneed to go get some customers to demonstrate that the market\\nexists. Preferably, paying customers. Or at least credible\\nprospects who will talk to VCs to validate the market hypothesis.\\nCompetition risk — is your diWerentiation really sharp enough?\\n14 The Pmarca Blog Archives\\nRethink this one from the ground up. Lots of startups do not\\nhave strong enough diWerentiation out of the gate, even aaer\\nthey get funded. If you ',\n",
              " 'tion really sharp enough?\\n14 The Pmarca Blog Archives\\nRethink this one from the ground up. Lots of startups do not\\nhave strong enough diWerentiation out of the gate, even aaer\\nthey get funded. If you don’t have a really solid idea as to how\\nyou’re dramatically diWerent from or advantaged over known\\nand unknown competitors, you might not want to start a company in the Xrst place.\\nTwo additional points on competition risk that founders routinely screw up in VC pitches:\\nNever, ever say that you have no competitors. That signals\\nnaivete. Great markets draw competitors, and so if you really\\nhave no competition, you must not be in a great market. Even\\nif you really believe you have no competitors, create a competitive landscape slide with adjacent companies in related market\\nsegments and be ready to talk crisply about how you are like and\\nunlike those adjacent companies.\\nAnd never, ever say your market projections indicate you’re\\ngoing to be hugely successful if you get only 2% of your\\n(extr',\n",
              " 'y to talk crisply about how you are like and\\nunlike those adjacent companies.\\nAnd never, ever say your market projections indicate you’re\\ngoing to be hugely successful if you get only 2% of your\\n(extremely large) market. That also signals naivete. If you’re\\ngoing aaer 2% of a large market, that means the presumably\\nlarger companies that are going to take the other 98% are going\\nto kill you. You have to have a theory for how you’re going to get\\na signiXcantly higher market share than 2%. (I pick 2% because\\nthat’s the cliche, but if you’re a VC, you’ve probably heard someone use it.)\\nTiming risk — the only thing to do here is to make more\\nprogress, and demonstrate that you’re not too early or too late.\\nGetting customers in the bag is the most valuable thing you can\\ndo on this one.\\nFinancing risk — rethink very carefully how much money you\\nwill need to raise aaer this round of Xnancing, and try to change\\nthe plan in plausible ways to require less money. For example,\\nonly serve Cristal at ',\n",
              " 'risk — rethink very carefully how much money you\\nwill need to raise aaer this round of Xnancing, and try to change\\nthe plan in plausible ways to require less money. For example,\\nonly serve Cristal at your launch party, and not Remy Martin\\n“Black Pearl” Louis XIII cognac.\\nMarketing risk — Xrst, make sure your diWerentiation is superPart 2: When the VCs say \"no\" 15\\nsharp, because without that, you probably won’t be able to stand\\nout from the noise.\\nThen, model out your customer acquisition economics in detail\\nand make sure that you can show how you’ll get more revenue\\nfrom a customer than it will cost in sales and marketing expense\\nto acquire that customer. This is a common problem for startups pursuing the small business market, for example.\\nIf it turns out you need a lot of money in absolute terms for\\nmarketing, look for alternate approaches — perhaps guerilla\\nmarketing, or some form of virality.\\nDistribution risk — this is a very tough one — if your plan has\\ndistribution risk, which i',\n",
              " 'te terms for\\nmarketing, look for alternate approaches — perhaps guerilla\\nmarketing, or some form of virality.\\nDistribution risk — this is a very tough one — if your plan has\\ndistribution risk, which is to say you need a key distribution\\npartner to make it work, personally I’d recommend shelving the\\nplan and doing something else. Otherwise, you may need to go\\nget the distribution deal before you can raise money, which is\\nalmost impossible.\\nTechnology risk — there’s only one way around this, which is to\\nbuild the product, or at least get it to beta, and then raise money.\\nProduct risk — same answer — build it.\\nHiring risk — the best way to address this is to Xgure out which\\nposition/positions the VCs are worried about, and add it/them\\nto the founding team. This will mean additional dilution for\\nyou, but it’s probably the only way to solve the problem.\\nLocation risk — this is the one you’re really not going to like. If\\nyou’re not in a major center of entrepreneurialism and you’re\\nhaving tr',\n",
              " 'or\\nyou, but it’s probably the only way to solve the problem.\\nLocation risk — this is the one you’re really not going to like. If\\nyou’re not in a major center of entrepreneurialism and you’re\\nhaving trouble raising money, you probably need to move.\\nThere’s a reason why most Xlms get made in Los Angeles, and\\nthere’s a reason most venture-backed US tech startups happen\\nin Silicon Valley and handful of other places — that’s where the\\nmoney is. You can start a company wherever you want, but you\\nmay not be able to get it funded there.\\nYou’ll notice that a lot of what you may need to do is kick the ball\\nfurther down the road — make more progress against your plan\\nbefore you raise venture capital.\\n16 The Pmarca Blog Archives\\nThis obviously raises the issue of how you’re supposed to do\\nthat before you’ve raised money.\\nTry to raise angel money, or bootstrap oW of initial customers\\nor consulting contracts, or work on it aaer hours while keeping\\nyour current job, or quit your job and live oW of cr',\n",
              " 'you’ve raised money.\\nTry to raise angel money, or bootstrap oW of initial customers\\nor consulting contracts, or work on it aaer hours while keeping\\nyour current job, or quit your job and live oW of credit cards for\\na while.\\nLots of entrepreneurs have done these things and succeeded —\\nand of course, many have failed.\\nNobody said this would be easy.\\nThe most valuable thing you can do is actually build your product. When in doubt, focus on that.\\nThe next most valuable thing you can do is get customers — or,\\nfor a consumer Internet service, establish a pattern of page view\\ngrowth.\\nThe whole theory of venture capital is that VCs are investing\\nin risk — another term for venture capital is “risk capital” —\\nbut the reality is that VCs will only take on so much risk, and\\nthe best thing you can do to optimize your chances of raising\\nmoney is to take out risk.\\nPeel away at the onion.\\nThen, once you’ve done that, recraa the pitch around the new\\nfacts. Go do the pitches again. And repeat as necessa',\n",
              " 'o optimize your chances of raising\\nmoney is to take out risk.\\nPeel away at the onion.\\nThen, once you’ve done that, recraa the pitch around the new\\nfacts. Go do the pitches again. And repeat as necessary.\\nAnd to end on a happy note, remember that “yes” can turn into\\n“no” at any point up until the cash hits your company’s bank\\naccount.\\nSo keep your options open all the way to the end.\\nPart 2: When the VCs say \"no\" 17\\nPart 3: \"But I don\\'t know any VCs!\"\\nIn my last post in this series, When the VCs say “no”, I discussed\\nwhat to do once you have been turned down for venture funding for the Xrst time.\\nHowever, this presupposes you’ve been able to pitch VCs in the\\nXrst place. What if you have a startup for which you’d like to\\nraise venture funding, but you don’t know any VCs?\\nI can certainly sympathize with this problem — when I was in\\ncollege working on Mosaic at the University of Illinois, the term\\n“venture capital” might as well have been “klaatu barada nikto”\\nfor all I knew. I had never m',\n",
              " 'athize with this problem — when I was in\\ncollege working on Mosaic at the University of Illinois, the term\\n“venture capital” might as well have been “klaatu barada nikto”\\nfor all I knew. I had never met a venture capitalist, no venture\\ncapitalist had ever talked to me, and I wouldn’t have recognized\\none if I’d stumbled over his checkbook on the sidewalk. Without\\nJim Clark, I’m not at all certain I would have been able to raise\\nmoney to start a company like Netscape, had it even occured to\\nme to start a company in the Xrst place.\\nThe starting point for raising money from VCs when you don’t\\nknow any VCs is to realize that VCs work mostly through referrals — they hear about a promising startup or entrepreneur\\nfrom someone they have worked with before, like another\\nentrepreneur, an executive or engineer at one of the startups\\nthey have funded, or an angel investor with whom they have\\npreviously co-invested.\\nThe reason for this is simply the math: any individual VC can\\nonly fund a few compa',\n",
              " 'r engineer at one of the startups\\nthey have funded, or an angel investor with whom they have\\npreviously co-invested.\\nThe reason for this is simply the math: any individual VC can\\nonly fund a few companies per year, and for every one she\\nfunds, she probably meets with 15 or 20, and there are hundreds\\nmore that would like to meet with her that she doesn’t possibly\\nhave time to meet with. She has to rely on her network to help\\nher screen the hundreds down to 15 or 20, so she can spend her\\ntime Xnding the right one out of the 15 or 20.\\nTherefore, submitting a business plan “over the transom”, or\\nunsolicited, to a venture Xrm is likely to amount to just as much\\nas submitting a screenplay “over the transom” to a Hollywood\\ntalent agency — that is, precisely nothing.\\nSo the primary trick becomes getting yourself into a position\\nwhere you’re one of the 15 or 20 a particular venture capitalist\\nis meeting with based on referrals from her network, not one of\\nthe hundreds of people who don’t come r',\n",
              " 'etting yourself into a position\\nwhere you’re one of the 15 or 20 a particular venture capitalist\\nis meeting with based on referrals from her network, not one of\\nthe hundreds of people who don’t come recommended by anyone and whom she has no intention of meeting.\\nBut before you think about doing that, the Xrst order of business\\nis to (paraphrasing for a family audience) “have your stuG\\ntogether” — create and develop your plan, your presentation,\\nand your supporting materials so that when you do meet with a\\nVC, you impress her right out of the gate as bringing her a fundable startup founded by someone who knows what he — that’s\\nyou — is doing.\\nMy recommendation is to read up on all the things you should\\ndo to put together a really eWective business plan and presentation, and then pretend you have already been turned down once\\n— then go back to my last post and go through all the diWerent\\nthings you should anticipate and Xx before you actually do walk\\nthrough the door.\\nOne of the reason V',\n",
              " ' have already been turned down once\\n— then go back to my last post and go through all the diWerent\\nthings you should anticipate and Xx before you actually do walk\\nthrough the door.\\nOne of the reason VCs only meet with startups through their\\nnetworks is because too many of the hundreds of other startups\\nthat they could meet with come across as amateurish and uninformed, and therefore not fundable, when they do take meetings with them. So you have a big opportunity to cut through\\nthe noise by making a great Hrst impression — which requires\\nreally thinking things through ahead of time and doing all the\\nhard work up front to really make your pitch and plan a masterpiece.\\nPart 3: \"But I don\\'t know any VCs!\" 19\\nWorking backwards from that, the best thing you can walk in\\nwith is a working product. Or, if you can’t get to a working\\nproduct without raising venture funding, then at least a beta\\nor prototype of some form — a web site that works but hasn’t\\nlaunched, or a soaware mockup with partia',\n",
              " '. Or, if you can’t get to a working\\nproduct without raising venture funding, then at least a beta\\nor prototype of some form — a web site that works but hasn’t\\nlaunched, or a soaware mockup with partial functionality,\\nor something. And of course it’s even better if you walk in with\\nexisting “traction” of some form — customers, beta customers,\\nsome evidence of adoption by Internet users, whatever is appropriate for your particular startup.\\nWith a working product that could be the foundation of a fundable startup, you have a much better chance of getting funded\\nonce you do get in the door. Back to my rule of thumb from\\nthe last post: when in doubt, work on the product.\\nFailing a working product and ideally customers or users, be\\nsure to have as Ieshed out a presentation as you possibly can\\n— including mockups, screenshots, market analyses, customer\\nresearch such as interviews with real prospects, and the like.\\nDon’t bother with a long detailed written business plan. Most\\nVCs will either f',\n",
              " 'including mockups, screenshots, market analyses, customer\\nresearch such as interviews with real prospects, and the like.\\nDon’t bother with a long detailed written business plan. Most\\nVCs will either fund a startup based on a Yeshed out Powerpoint\\npresentation of about 20 slides, or they won’t fund it at all.\\nCorollary: any VC who requires a long detailed written business\\nplan is probably not the right VC to be working with.\\nNext: qualify, qualify, qualify. Do extensive research on venture capitalists and Xnd the ones who focus on the sector relevant to your startup. It is completely counterproductive to\\neveryone involved for you to pitch a health care VC on a consumer Internet startup, or vice versa. Individual VCs are usually\\nquite focused in the kinds of companies they are looking for,\\nand identifying those VCs and screening out all the others is\\nabsolutely key.\\nNow, on to developing contacts\\nThe best way to develop contacts with VCs, in my opinion, is to\\nwork at a venture-backed sta',\n",
              " 'nd identifying those VCs and screening out all the others is\\nabsolutely key.\\nNow, on to developing contacts\\nThe best way to develop contacts with VCs, in my opinion, is to\\nwork at a venture-backed startup, kick butt, get promoted, and\\nnetwork the whole way.\\n20 The Pmarca Blog Archives\\nIf you can’t get hired by a venture-backed startup right now,\\nwork at a well-regarded large tech company that employs a lot\\nof people like Google or Apple, gain experience, and then go to\\nwork at a venture-backed startup, kick butt, get promoted, and\\nnetwork the whole way.\\nAnd if you can’t get hired by a well-regarded large tech company, go get a bachelor’s or master’s degree at a major research\\nuniversity from which well-regarded large tech companies regularly recruit, then work at a well-regarded large tech company\\nthat employs a lot of people like Google or Apple, gain experience, and then go to work at a venture-backed startup, kick butt,\\nget promoted, and network the whole way.\\nI sound like I’m jokin',\n",
              " ' company\\nthat employs a lot of people like Google or Apple, gain experience, and then go to work at a venture-backed startup, kick butt,\\nget promoted, and network the whole way.\\nI sound like I’m joking, but I’m completely serious — this is the\\npath taken by many venture-backed entrepreneurs I know.\\nSome alternate techniques that don’t take\\nquite as long\\nIf you’re still in school, immediately transfer to, or plan on\\ngoing to graduate school at, a large research university with\\nwell-known connections to the venture capital community, like\\nStanford or MIT.\\nGraduate students at Stanford are directly responsible for such\\ncompanies as Sun, Cisco, Yahoo, and Google, so needless to say,\\nSilicon Valley VCs are continually on the prowl on the Stanford\\nengineering campus for the next Jerry Yang or Larry Page.\\n(In contrast, the University of Illinois, where I went to school, is\\nmostly prowled by mutant cold-weather cows.)\\nAlternately, jump all over Y Combinator. This program, created by entreprene',\n",
              " 'rry Page.\\n(In contrast, the University of Illinois, where I went to school, is\\nmostly prowled by mutant cold-weather cows.)\\nAlternately, jump all over Y Combinator. This program, created by entrepreneur Paul Graham and his partners, funds\\nearly-stage startups in an organized program in Silicon Valley\\nand Boston and then makes sure the good ones get in front of\\nventure capitalists for follow-on funding. It’s a great idea and a\\nhuge opportunity for the people who participate in it.\\nPart 3: \"But I don\\'t know any VCs!\" 21\\nRead VC blogs — read them all, and read them very very carefully. VCs who blog are doing entrepreneurs a huge service both\\nin conveying highly useful information as well as frequently\\nputting themselves out there to be contacted by entrepreneurs\\nin various ways including email, comments, and even uploaded\\npodcasts. Each VC is diWerent in terms of how she wants to\\nengage with people online, but by all means read as many VC\\nblogs as you can and interact with as many of them',\n",
              " 'l, comments, and even uploaded\\npodcasts. Each VC is diWerent in terms of how she wants to\\nengage with people online, but by all means read as many VC\\nblogs as you can and interact with as many of them as you can\\nin appropriate ways.\\nAt the very least you will start to get a really good sense of which\\nVCs who blog are interested in which kinds of companies.\\nAt best, a VC blogger may encourage her readers to communicate with her in various ways, including soliciting email pitches\\nin certain startup categories of interest to her.\\nFred Wilson of Union Square Ventures has even gone so far as\\nto encourage entrepreneurs to record and upload audio pitches\\nfor new ventures so he can listen to them on his IPod. I don’t\\nknow if he’s still doing that, but it’s worth reading his blog and\\nXnding out.\\nAlong those lines, some VCs are aggressive early adopters of\\nnew forms of communication and interaction — current examples being Facebook and Twitter. Observationally, when a VC is\\nexploring a new commu',\n",
              " 'ong those lines, some VCs are aggressive early adopters of\\nnew forms of communication and interaction — current examples being Facebook and Twitter. Observationally, when a VC is\\nexploring a new communiation medium like Facebook or Twitter, she can be more interested in interacting with various people over that new medium than she might otherwise be. So,\\nwhen such a new thing comes out — like, hint hint, Facebook or\\nTwitter — jump all over it, see which VCs are using it, and interact with them that way — sensibly, of course.\\nMore generally, it’s a good idea for entrepreneurs who are\\nlooking for funding to blog — about their startup, about interesting things going on, about their point of view. This puts an\\nentrepreneur in the Yow of conversation, which can lead to\\ninteraction with VCs through the normal medium of blogging.\\nAnd, when a VC does decide to take a look at you and your company, she can read your blog to get a sense of who you are and\\n22 The Pmarca Blog Archives\\nhow you think',\n",
              " 'ugh the normal medium of blogging.\\nAnd, when a VC does decide to take a look at you and your company, she can read your blog to get a sense of who you are and\\n22 The Pmarca Blog Archives\\nhow you think. It’s another great opportunity to put forward a\\nfantastic Xrst impression.\\nFinally, if you are a programmer, I highly encourage you, if you\\nhave time, to create or contribute to a meaningful open source\\nproject. The open source movement is an amazing opportunity\\nfor programmers all over the world to not only build useful\\nsoaware that lots of people can use, but also build their own reputations completely apart from whatever day jobs they happen\\nto have. Being able to email a VC and say, “I’m the creator of\\nopen source program X which has 50,000 users worldwide, and\\nI want to tell you about my new startup” is a lot more eWective\\nthan your normal pitch.\\nIf you engage in a set of these techniques over time,\\nyou should be able to interact with at least a few VCs in ways that\\nthey Xnd useful ',\n",
              " 'y new startup” is a lot more eWective\\nthan your normal pitch.\\nIf you engage in a set of these techniques over time,\\nyou should be able to interact with at least a few VCs in ways that\\nthey Xnd useful and that might lead to further conversations\\nabout funding, or even introductions to other VCs.\\nI’m personally hoping that the next Google comes out of a VC\\nbeing sent an email pitch aaer the entrepreneur read that VC’s\\nblog. Then every VC on the planet will suddenly start blogging,\\novernight.\\nIf none of those ideas work for you\\nYour alternatives in reverse (declining) order of preference for\\nfunding are, in my view: angel funding, bootstrapping via consulting contracts or early customers, keeping your day job and\\nworking on your startup in your spare time, and credit card\\ndebt.\\nAngel funding — funding from individuals who like to invest\\nsmall amounts of money in early-stage startups, oaen before\\nVCs come in — can be a great way to go since good angels know\\ngood VCs and will be eager to in',\n",
              " '— funding from individuals who like to invest\\nsmall amounts of money in early-stage startups, oaen before\\nVCs come in — can be a great way to go since good angels know\\ngood VCs and will be eager to introduce you to them so that\\nyour company goes on to be successful for the angel as well as\\nfor you.\\nPart 3: \"But I don\\'t know any VCs!\" 23\\nThis of course begs the question of how to raise angel money,\\nwhich is another topic altogether!\\nI am not encouraging the other three alternatives — bootstrapping, working on it part time, or credit card debt. Each has\\nserious problems. But, it is easy to name highly successful entrepreneurs who have followed each of those paths, so they are\\nworth noting.\\n24 The Pmarca Blog Archives\\nPart 4: The only thing that matters\\nThis post is all about the only thing that matters for a new\\nstartup.\\nBut Xrst, some theory:\\nIf you look at a broad cross-section of startups — say, 30 or 40\\nor more; enough to screen out the pure Yukes and look for patterns — two obvious ',\n",
              " 'hat matters for a new\\nstartup.\\nBut Xrst, some theory:\\nIf you look at a broad cross-section of startups — say, 30 or 40\\nor more; enough to screen out the pure Yukes and look for patterns — two obvious facts will jump out at you.\\nFirst obvious fact: there is an incredibly wide divergence of success — some of those startups are insanely successful, some\\nhighly successful, many somewhat successful, and quite a few of\\ncourse outright fail.\\nSecond obvious fact: there is an incredibly wide divergence of\\ncaliber and quality for the three core elements of each startup\\n— team, product, and market.\\nAt any given startup, the team will range from outstanding to\\nremarkably Yawed; the product will range from a masterpiece\\nof engineering to barely functional; and the market will range\\nfrom booming to comatose.\\nAnd so you start to wonder — what correlates the most to success — team, product, or market? Or, more bluntly, what causes\\nsuccess? And, for those of us who are students of startup failure\\n— wha',\n",
              " 'tose.\\nAnd so you start to wonder — what correlates the most to success — team, product, or market? Or, more bluntly, what causes\\nsuccess? And, for those of us who are students of startup failure\\n— what’s most dangerous: a bad team, a weak product, or a\\npoor market?\\nLet’s start by deXning terms.\\nThe caliber of a startup team can be deXned as the suitability of\\nthe CEO, senior staW, engineers, and other key staW relative to\\nthe opportunity in front of them.\\nYou look at a startup and ask, will this team be able to optimally\\nexecute against their opportunity? I focus on eWectiveness as\\nopposed to experience, since the history of the tech industry is\\nfull of highly successful startups that were staWed primarily by\\npeople who had never “done it before”.\\nThe quality of a startup’s product can be deXned as how impressive the product is to one customer or user who actually uses\\nit: How easy is the product to use? How feature rich is it? How\\nfast is it? How extensible is it? How polished is it? ']"
            ]
          },
          "execution_count": 18,
          "metadata": {},
          "output_type": "execute_result"
        }
      ],
      "source": [
        "split_documents[10:50]"
      ]
    },
    {
      "cell_type": "markdown",
      "metadata": {},
      "source": [
        "Building the vector database."
      ]
    },
    {
      "cell_type": "code",
      "execution_count": 19,
      "metadata": {},
      "outputs": [],
      "source": [
        "vector_db = VectorDatabase()\n",
        "vector_db = asyncio.run(vector_db.abuild_from_list(split_documents))"
      ]
    },
    {
      "cell_type": "markdown",
      "metadata": {},
      "source": [
        "Testing the vector database with the legal trends pdf file."
      ]
    },
    {
      "cell_type": "code",
      "execution_count": 20,
      "metadata": {},
      "outputs": [
        {
          "data": {
            "text/plain": [
              "[('remendous potential for law firms—if\\nthey’re prepared to adopt it. But how do law firms\\nfeel about AI at this time?\\nWhen we last researched AI in 2023, 19% of law firms were\\nusing AI in their practice.\\nOver the last year, that number has skyrocketed: a whopping\\n79% of surveyed legal professionals are now using AI in some\\ncapacity in their practice, while 25% have adopted AI widely\\nor universally.\\nSurprisingly, lawyers are adopting AI at a faster rate than in other industries.\\nA recent survey by McKinsey & Company that looked at the full spectrum of\\nindustries and professions found that 72% of organizations have adopted AI\\nin at least one business function. This average falls below what we’re seeing\\namong law firms, which means we may be seeing a historical first wherein\\nthe legal profession is leading the way in the adoption of new technology.\\nAI adoption is no longer limited to legal trailblazers—it’s the new normal in law\\nfirms. Regardless of where firms stand on AI adoption, it’s ti',\n",
              "  np.float64(0.4799986535254587),\n",
              "  {'text': 'remendous potential for law firms—if\\nthey’re prepared to adopt it. But how do law firms\\nfeel about AI at this time?\\nWhen we last researched AI in 2023, 19% of law firms were\\nusing AI in their practice.\\nOver the last year, that number has skyrocketed: a whopping\\n79% of surveyed legal professionals are now using AI in some\\ncapacity in their practice, while 25% have adopted AI widely\\nor universally.\\nSurprisingly, lawyers are adopting AI at a faster rate than in other industries.\\nA recent survey by McKinsey & Company that looked at the full spectrum of\\nindustries and professions found that 72% of organizations have adopted AI\\nin at least one business function. This average falls below what we’re seeing\\namong law firms, which means we may be seeing a historical first wherein\\nthe legal profession is leading the way in the adoption of new technology.\\nAI adoption is no longer limited to legal trailblazers—it’s the new normal in law\\nfirms. Regardless of where firms stand on AI adoption, it’s ti'}),\n",
              " ('firms not using AI.\\nCumulatively, 70% of clients are either agnostic or would prefer to work\\nThe majority of clients across generations would either be open to or\\nwith firms that use AI—meaning that the vast majority of clients either want\\neven prefer lawyers using AI. Younger generations are more amenable\\ntheir lawyers to use AI or are amenable.\\nto AI usage, with the vast majority of Gen Z and Millennial clients either\\npreferring or having no objections to hiring a law firm that has adopted\\nThis number is likely to increase when we consider how quickly consumer\\nAI-powered software.\\nattitudes surrounding AI use have shifted. In the 2023 Legal Trends Report,\\nonly 46% of consumers said they were open to working with law firms that\\nAccording to the most recent national census in 2020, Millennials are the\\nused AI-powered software. largest generation group in the United States at 22% of the total population.\\nGen Z follows closely behind at approximately 20% of the total population.\\nAltogeth',\n",
              "  np.float64(0.47690867419185917),\n",
              "  {'text': 'firms not using AI.\\nCumulatively, 70% of clients are either agnostic or would prefer to work\\nThe majority of clients across generations would either be open to or\\nwith firms that use AI—meaning that the vast majority of clients either want\\neven prefer lawyers using AI. Younger generations are more amenable\\ntheir lawyers to use AI or are amenable.\\nto AI usage, with the vast majority of Gen Z and Millennial clients either\\npreferring or having no objections to hiring a law firm that has adopted\\nThis number is likely to increase when we consider how quickly consumer\\nAI-powered software.\\nattitudes surrounding AI use have shifted. In the 2023 Legal Trends Report,\\nonly 46% of consumers said they were open to working with law firms that\\nAccording to the most recent national census in 2020, Millennials are the\\nused AI-powered software. largest generation group in the United States at 22% of the total population.\\nGen Z follows closely behind at approximately 20% of the total population.\\nAltogeth'}),\n",
              " (' success.\\nfirms in overcoming these challenges.\\nChange doesn’t happen overnight, though. Building new habits—whether\\nit’s integrating automation into your law firm’s daily operations, improving\\nclient intake, or expanding your payment offerings—requires commitment.\\nBut, in building these new habits, firms can position themselves on a path to\\nsuccess, and with time, these practices become ingrained in the background\\nof your firm.\\n| 3\\nIntroduction\\nDATA SOURCES\\nThe Legal Trends Report uses a range of methodological approaches\\nand data sources to deliver the best insights about the state of legal practice\\nand strategies for future growth.\\nClio data\\nWe’ve analyzed aggregated and anonymized data from tens of thousands\\nof legal professionals in the U.S. This data provides important insights about\\nhow technology is currently being used by legal professionals, as well as its\\nimpact on firm performance.\\nSurvey of legal professionals\\nWe surveyed 1,028 U.S. legal professionals from June 5 to June ',\n",
              "  np.float64(0.47306009585329406),\n",
              "  {'text': ' success.\\nfirms in overcoming these challenges.\\nChange doesn’t happen overnight, though. Building new habits—whether\\nit’s integrating automation into your law firm’s daily operations, improving\\nclient intake, or expanding your payment offerings—requires commitment.\\nBut, in building these new habits, firms can position themselves on a path to\\nsuccess, and with time, these practices become ingrained in the background\\nof your firm.\\n| 3\\nIntroduction\\nDATA SOURCES\\nThe Legal Trends Report uses a range of methodological approaches\\nand data sources to deliver the best insights about the state of legal practice\\nand strategies for future growth.\\nClio data\\nWe’ve analyzed aggregated and anonymized data from tens of thousands\\nof legal professionals in the U.S. This data provides important insights about\\nhow technology is currently being used by legal professionals, as well as its\\nimpact on firm performance.\\nSurvey of legal professionals\\nWe surveyed 1,028 U.S. legal professionals from June 5 to June '})]"
            ]
          },
          "execution_count": 20,
          "metadata": {},
          "output_type": "execute_result"
        }
      ],
      "source": [
        "vector_db.search_by_text(\"What are the legal trends in 2024?\", k=3)"
      ]
    },
    {
      "cell_type": "markdown",
      "metadata": {},
      "source": [
        "Testing the retrieval augmented generation pipeline with the legal trends pdf file."
      ]
    },
    {
      "cell_type": "code",
      "execution_count": 21,
      "metadata": {},
      "outputs": [
        {
          "data": {
            "text/plain": [
              "{'response': 'Yes, the legal profession can be partially automated. According to a study by Goldman Sachs, 44% of work tasks performed in the legal industry could potentially be automated by AI. However, while many routine and information-heavy tasks are ripe for automation, such as documenting, recording information, and analyzing data, the legal profession still requires human involvement for high-level work, advocacy, and client relationship management. This means that while aspects of legal work can be automated, there will always be a need for human professionals to handle tasks that require a personal touch.',\n",
              " 'context': [('ly exposed to automation by AI.\\nimpact. Legal professionals—from lawyers to paralegals and\\nTo that end, automation can offer firms the space to focus on the tasks that\\nadministrative assistants—are devoting a significant portion of\\nrequire a human touch—like high-level legal work, advocacy, and fostering\\ntheir time to tasks that may not be bringing value to their firms. client relationships—while maintaining a high level of service.\\nMeanwhile, prospective clients are waiting on emails and phone\\nIncremental changes lead to an outsized impact\\ncalls that go unanswered while existing clients want to use\\npayment options that law firms don’t offer.\\nThe vast majority of firms have already adopted AI in their practices—\\nbut to truly change how the legal profession services clients, firms need\\nto focus on mindset.\\nIn other words, something is broken in the legal profession—\\nparticularly in the ways that firms are servicing their clients. Many firms find themselves stuck in assumptive decision-m',\n",
              "   'ly exposed to automation by AI.\\nimpact. Legal professionals—from lawyers to paralegals and\\nTo that end, automation can offer firms the space to focus on the tasks that\\nadministrative assistants—are devoting a significant portion of\\nrequire a human touch—like high-level legal work, advocacy, and fostering\\ntheir time to tasks that may not be bringing value to their firms. client relationships—while maintaining a high level of service.\\nMeanwhile, prospective clients are waiting on emails and phone\\nIncremental changes lead to an outsized impact\\ncalls that go unanswered while existing clients want to use\\npayment options that law firms don’t offer.\\nThe vast majority of firms have already adopted AI in their practices—\\nbut to truly change how the legal profession services clients, firms need\\nto focus on mindset.\\nIn other words, something is broken in the legal profession—\\nparticularly in the ways that firms are servicing their clients. Many firms find themselves stuck in assumptive decision-m',\n",
              "   {'text': 'ly exposed to automation by AI.\\nimpact. Legal professionals—from lawyers to paralegals and\\nTo that end, automation can offer firms the space to focus on the tasks that\\nadministrative assistants—are devoting a significant portion of\\nrequire a human touch—like high-level legal work, advocacy, and fostering\\ntheir time to tasks that may not be bringing value to their firms. client relationships—while maintaining a high level of service.\\nMeanwhile, prospective clients are waiting on emails and phone\\nIncremental changes lead to an outsized impact\\ncalls that go unanswered while existing clients want to use\\npayment options that law firms don’t offer.\\nThe vast majority of firms have already adopted AI in their practices—\\nbut to truly change how the legal profession services clients, firms need\\nto focus on mindset.\\nIn other words, something is broken in the legal profession—\\nparticularly in the ways that firms are servicing their clients. Many firms find themselves stuck in assumptive decision-m'}),\n",
              "  ('e AI adoption will require many in legal to\\nreconsider their roles within law firms and how they provide legal services, it\\nalso presents a unique opportunity to create a new and better vision for the\\npractice of law.\\nTo understand this opportunity, we’ve analyzed how AI is fast becoming\\nintegral to the legal industry and the untold automation potential of everyday\\nlegal tasks, offering a refined analysis of its impact on the legal profession.\\n| 9\\nAI Is Disrupting the Legal Industry\\nCan the legal\\nprofession be\\nHow did we assess\\nautomation potential?\\nautomated?\\nWe utilized an internally-hosted large\\nlanguage model (LLM) to assess the work\\nactivities in the O*NET Database that are\\napplicable to the practice of law. We used\\nIn 2023, Goldman Sachs published a study saying that\\nthis LLM to determine to what extent\\n44% of work tasks performed in the legal industry could each activity could be automated with AI.\\nThe LLM assigned an automation score\\nbe automated by AI, and AI could potentially',\n",
              "   'e AI adoption will require many in legal to\\nreconsider their roles within law firms and how they provide legal services, it\\nalso presents a unique opportunity to create a new and better vision for the\\npractice of law.\\nTo understand this opportunity, we’ve analyzed how AI is fast becoming\\nintegral to the legal industry and the untold automation potential of everyday\\nlegal tasks, offering a refined analysis of its impact on the legal profession.\\n| 9\\nAI Is Disrupting the Legal Industry\\nCan the legal\\nprofession be\\nHow did we assess\\nautomation potential?\\nautomated?\\nWe utilized an internally-hosted large\\nlanguage model (LLM) to assess the work\\nactivities in the O*NET Database that are\\napplicable to the practice of law. We used\\nIn 2023, Goldman Sachs published a study saying that\\nthis LLM to determine to what extent\\n44% of work tasks performed in the legal industry could each activity could be automated with AI.\\nThe LLM assigned an automation score\\nbe automated by AI, and AI could potentially',\n",
              "   {'text': 'e AI adoption will require many in legal to\\nreconsider their roles within law firms and how they provide legal services, it\\nalso presents a unique opportunity to create a new and better vision for the\\npractice of law.\\nTo understand this opportunity, we’ve analyzed how AI is fast becoming\\nintegral to the legal industry and the untold automation potential of everyday\\nlegal tasks, offering a refined analysis of its impact on the legal profession.\\n| 9\\nAI Is Disrupting the Legal Industry\\nCan the legal\\nprofession be\\nHow did we assess\\nautomation potential?\\nautomated?\\nWe utilized an internally-hosted large\\nlanguage model (LLM) to assess the work\\nactivities in the O*NET Database that are\\napplicable to the practice of law. We used\\nIn 2023, Goldman Sachs published a study saying that\\nthis LLM to determine to what extent\\n44% of work tasks performed in the legal industry could each activity could be automated with AI.\\nThe LLM assigned an automation score\\nbe automated by AI, and AI could potentially'}),\n",
              "  ('ness development that\\ncannot easily be automated.\\n▶ As firms and their legal staff grow more efficient and productive in\\naccomplishing legal work with AI, firm staff can devote more time\\nto marketing their services and attracting new clients to strengthen\\ntheir pipeline.\\n▶ AI’s effectiveness depends on whether staff have the knowledge and\\nskills to make the most of it. Focusing on AI training can help firms\\nensure all staff members leverage AI to its fullest potential, including\\nnavigating tools, using effective prompts, and avoiding\\n(or identifying) AI-created errors.\\n| 15\\nAI Is Disrupting the Legal Industry\\nWhich legal\\ntasks are ripe for\\nautomation?\\nWhen we look closer at which types of work have the most\\npotential for automation, it’s no surprise that the most\\ninformation-heavy tasks are the most automatable, such as:\\n• Documenting and recording information\\n• Getting information\\n• Analyzing data or information\\nAs it happens, the most automatable activities are also the three\\nlargest',\n",
              "   'ness development that\\ncannot easily be automated.\\n▶ As firms and their legal staff grow more efficient and productive in\\naccomplishing legal work with AI, firm staff can devote more time\\nto marketing their services and attracting new clients to strengthen\\ntheir pipeline.\\n▶ AI’s effectiveness depends on whether staff have the knowledge and\\nskills to make the most of it. Focusing on AI training can help firms\\nensure all staff members leverage AI to its fullest potential, including\\nnavigating tools, using effective prompts, and avoiding\\n(or identifying) AI-created errors.\\n| 15\\nAI Is Disrupting the Legal Industry\\nWhich legal\\ntasks are ripe for\\nautomation?\\nWhen we look closer at which types of work have the most\\npotential for automation, it’s no surprise that the most\\ninformation-heavy tasks are the most automatable, such as:\\n• Documenting and recording information\\n• Getting information\\n• Analyzing data or information\\nAs it happens, the most automatable activities are also the three\\nlargest',\n",
              "   {'text': 'ness development that\\ncannot easily be automated.\\n▶ As firms and their legal staff grow more efficient and productive in\\naccomplishing legal work with AI, firm staff can devote more time\\nto marketing their services and attracting new clients to strengthen\\ntheir pipeline.\\n▶ AI’s effectiveness depends on whether staff have the knowledge and\\nskills to make the most of it. Focusing on AI training can help firms\\nensure all staff members leverage AI to its fullest potential, including\\nnavigating tools, using effective prompts, and avoiding\\n(or identifying) AI-created errors.\\n| 15\\nAI Is Disrupting the Legal Industry\\nWhich legal\\ntasks are ripe for\\nautomation?\\nWhen we look closer at which types of work have the most\\npotential for automation, it’s no surprise that the most\\ninformation-heavy tasks are the most automatable, such as:\\n• Documenting and recording information\\n• Getting information\\n• Analyzing data or information\\nAs it happens, the most automatable activities are also the three\\nlargest'})]}"
            ]
          },
          "execution_count": 21,
          "metadata": {},
          "output_type": "execute_result"
        }
      ],
      "source": [
        "\n",
        "retrieval_augmented_qa_pipeline = RetrievalAugmentedQAPipeline(\n",
        "    vector_db_retriever=vector_db,\n",
        "    llm=chat_openai\n",
        ")\n",
        "\n",
        "retrieval_augmented_qa_pipeline.run_pipeline(\"Can the legal profession be automated?\")"
      ]
    },
    {
      "cell_type": "markdown",
      "metadata": {},
      "source": [
        "Implemented the jaccard and cosine similarity distance metrics. \n"
      ]
    },
    {
      "cell_type": "code",
      "execution_count": 28,
      "metadata": {},
      "outputs": [
        {
          "data": {
            "text/plain": [
              "[('data/PMarcaBlogs.txt_0',\n",
              "  np.float64(1.0),\n",
              "  {'source': 'data/PMarcaBlogs.txt',\n",
              "   'file_type': 'txt',\n",
              "   'created_date': '2025-01-19T12:28:40.707860',\n",
              "   'modified_date': '2025-01-16T19:31:08.153237',\n",
              "   'file_size': 302838,\n",
              "   'total_chars': 297904,\n",
              "   'chunk_index': 0,\n",
              "   'chunk_start': 0,\n",
              "   'chunk_end': 1000,\n",
              "   'chunk_size': 1000}),\n",
              " ('data/PMarcaBlogs.txt_1',\n",
              "  np.float64(1.0),\n",
              "  {'source': 'data/PMarcaBlogs.txt',\n",
              "   'file_type': 'txt',\n",
              "   'created_date': '2025-01-19T12:28:40.707860',\n",
              "   'modified_date': '2025-01-16T19:31:08.153237',\n",
              "   'file_size': 302838,\n",
              "   'total_chars': 297904,\n",
              "   'chunk_index': 1,\n",
              "   'chunk_start': 800,\n",
              "   'chunk_end': 1800,\n",
              "   'chunk_size': 1000}),\n",
              " ('data/PMarcaBlogs.txt_2',\n",
              "  np.float64(1.0),\n",
              "  {'source': 'data/PMarcaBlogs.txt',\n",
              "   'file_type': 'txt',\n",
              "   'created_date': '2025-01-19T12:28:40.707860',\n",
              "   'modified_date': '2025-01-16T19:31:08.153237',\n",
              "   'file_size': 302838,\n",
              "   'total_chars': 297904,\n",
              "   'chunk_index': 2,\n",
              "   'chunk_start': 1600,\n",
              "   'chunk_end': 2600,\n",
              "   'chunk_size': 1000})]"
            ]
          },
          "execution_count": 28,
          "metadata": {},
          "output_type": "execute_result"
        }
      ],
      "source": [
        "from aimakerspace.vectordatabase import jaccard_similarity\n",
        "from aimakerspace.vectordatabase import cosine_similarity\n",
        "\n",
        "vector_db.search_by_text(\"What is the 'Michael Eisner Memorial Weak Executive Problem'?\", k=3, distance_measure=jaccard_similarity)\n",
        "\n"
      ]
    },
    {
      "cell_type": "markdown",
      "metadata": {},
      "source": [
        "Testing the results from both distance metrics."
      ]
    },
    {
      "cell_type": "code",
      "execution_count": 23,
      "metadata": {},
      "outputs": [
        {
          "data": {
            "text/plain": [
              "[('ordingly.\\nSeventh, when hiring the executive to run your former specialty, be\\ncareful you don’t hire someone weak on purpose.\\nThis sounds silly, but you wouldn’t believe how oaen it happens.\\nThe CEO who used to be a product manager who has a weak\\nproduct management executive. The CEO who used to be in\\nsales who has a weak sales executive. The CEO who used to be\\nin marketing who has a weak marketing executive.\\nI call this the “Michael Eisner Memorial Weak Executive Problem” — aaer the CEO of Disney who had previously been a brilliant TV network executive. When he bought ABC at Disney, it\\npromptly fell to fourth place. His response? “If I had an extra\\ntwo days a week, I could turn around ABC myself.” Well, guess\\nwhat, he didn’t have an extra two days a week.\\nA CEO — or a startup founder — oaen has a hard time letting\\ngo of the function that brought him to the party. The result: you\\nhire someone weak into the executive role for that function so\\nthat you can continue to be “the man” — cons',\n",
              "  np.float64(0.6582125113300628),\n",
              "  {'text': 'ordingly.\\nSeventh, when hiring the executive to run your former specialty, be\\ncareful you don’t hire someone weak on purpose.\\nThis sounds silly, but you wouldn’t believe how oaen it happens.\\nThe CEO who used to be a product manager who has a weak\\nproduct management executive. The CEO who used to be in\\nsales who has a weak sales executive. The CEO who used to be\\nin marketing who has a weak marketing executive.\\nI call this the “Michael Eisner Memorial Weak Executive Problem” — aaer the CEO of Disney who had previously been a brilliant TV network executive. When he bought ABC at Disney, it\\npromptly fell to fourth place. His response? “If I had an extra\\ntwo days a week, I could turn around ABC myself.” Well, guess\\nwhat, he didn’t have an extra two days a week.\\nA CEO — or a startup founder — oaen has a hard time letting\\ngo of the function that brought him to the party. The result: you\\nhire someone weak into the executive role for that function so\\nthat you can continue to be “the man” — cons'}),\n",
              " ('m. They have areas where they are truly deXcient in judgment or skill set. That’s just life. Almost nobody is brilliant\\nat everything. When hiring and when Hring executives, you\\nmust therefore focus on strength rather than lack of weakness. Everybody has severe weaknesses even if you can’t see\\nthem yet. When managing, it’s oaen useful to micromanage and\\nto provide remedial training around these weaknesses. Doing so\\nmay make the diWerence between an executive succeeding or\\nfailing.\\nFor example, you might have a brilliant engineering executive\\nwho generates excellent team loyalty, has terriXc product judgment and makes the trains run on time. This same executive\\nmay be very poor at relating to the other functions in the company. She may generate far more than her share of cross-functional conYicts, cut herself oW from critical information, and\\nsigniXcantly impede your ability to sell and market eWectively.\\nYour alternatives are:\\n(a) Macro-manage and give her an annual or quarterly object',\n",
              "  np.float64(0.5088372362539734),\n",
              "  {'text': 'm. They have areas where they are truly deXcient in judgment or skill set. That’s just life. Almost nobody is brilliant\\nat everything. When hiring and when Hring executives, you\\nmust therefore focus on strength rather than lack of weakness. Everybody has severe weaknesses even if you can’t see\\nthem yet. When managing, it’s oaen useful to micromanage and\\nto provide remedial training around these weaknesses. Doing so\\nmay make the diWerence between an executive succeeding or\\nfailing.\\nFor example, you might have a brilliant engineering executive\\nwho generates excellent team loyalty, has terriXc product judgment and makes the trains run on time. This same executive\\nmay be very poor at relating to the other functions in the company. She may generate far more than her share of cross-functional conYicts, cut herself oW from critical information, and\\nsigniXcantly impede your ability to sell and market eWectively.\\nYour alternatives are:\\n(a) Macro-manage and give her an annual or quarterly object'}),\n",
              " ('ed?\\nIn reality — as opposed to Marc’s warped view of reality — it will\\nbe extremely helpful for Marc [if he were actually the CEO,\\nwhich he is not] to meet with the new head of engineering daily\\nwhen she comes on board and review all of her thinking and\\ndecisions. This level of micromanagement will accelerate her\\ntraining and improve her long-term eWectiveness. It will make\\nher seem smarter to the rest of the organization which will build\\ncredibility and conXdence while she comes up to speed. Micromanaging new executives is generally a good idea for a limited\\nperiod of time.\\nHowever, that is not the only time that it makes sense to micro66 The Pmarca Blog Archives\\nmanage executives. It turns out that just about every executive\\nin the world has a few things that are seriously wrong with\\nthem. They have areas where they are truly deXcient in judgment or skill set. That’s just life. Almost nobody is brilliant\\nat everything. When hiring and when Hring executives, you\\nmust therefore focus o',\n",
              "  np.float64(0.47903669405979216),\n",
              "  {'text': 'ed?\\nIn reality — as opposed to Marc’s warped view of reality — it will\\nbe extremely helpful for Marc [if he were actually the CEO,\\nwhich he is not] to meet with the new head of engineering daily\\nwhen she comes on board and review all of her thinking and\\ndecisions. This level of micromanagement will accelerate her\\ntraining and improve her long-term eWectiveness. It will make\\nher seem smarter to the rest of the organization which will build\\ncredibility and conXdence while she comes up to speed. Micromanaging new executives is generally a good idea for a limited\\nperiod of time.\\nHowever, that is not the only time that it makes sense to micro66 The Pmarca Blog Archives\\nmanage executives. It turns out that just about every executive\\nin the world has a few things that are seriously wrong with\\nthem. They have areas where they are truly deXcient in judgment or skill set. That’s just life. Almost nobody is brilliant\\nat everything. When hiring and when Hring executives, you\\nmust therefore focus o'})]"
            ]
          },
          "execution_count": 23,
          "metadata": {},
          "output_type": "execute_result"
        }
      ],
      "source": [
        "vector_db.search_by_text(\"What is the 'Michael Eisner Memorial Weak Executive Problem'?\", k=3, distance_measure=cosine_similarity)"
      ]
    },
    {
      "cell_type": "code",
      "execution_count": 24,
      "metadata": {},
      "outputs": [
        {
          "name": "stdout",
          "output_type": "stream",
          "text": [
            "Text: RCA GUIDE TO CAREER, PRODUCTIVITY,\n",
            "AND SOME OTHER THINGS\n",
            "Introduction 97\n",
            "Part 1: Opportunity 99\n",
            "Part 2: Skills and education 107\n",
            "Part 3: Where to go and why 120\n",
            "The Pmarca Guide to Personal Productivity 127\n",
            "PSYCHOLOGY AND ENTREPRENEURSHIP\n",
            "The Psychology of Entrepreneurial Misjudgment:\n",
            "Biases 1-6\n",
            "142\n",
            "Age and the Entrepreneur: Some data 154\n",
            "Luck and the entrepreneur: The four kinds of luck 162\n",
            "Serial Entrepreneurs 168\n",
            "THE BACK PAGES\n",
            "Top 10 science Dction novelists of the '00s ... so far\n",
            "(June 2007...\n",
            "Metadata: {'source': 'data/PMarcaBlogs.txt', 'file_type': 'txt', 'created_date': '2025-01-19T12:28:40.707860', 'modified_date': '2025-01-16T19:31:08.153237', 'file_size': 302838, 'total_chars': 297904, 'chunk_index': 1, 'chunk_start': 800, 'chunk_end': 1800, 'chunk_size': 1000}\n"
          ]
        }
      ],
      "source": [
        "# Load documents with metadata\n",
        "text_loader = TextFileLoader(\"data/PMarcaBlogs.txt\")\n",
        "documents = text_loader.load_documents()\n",
        "metadata_list = text_loader.metadata\n",
        "\n",
        "# Split documents and include metadata\n",
        "text_splitter = CharacterTextSplitter()\n",
        "split_documents = text_splitter.split_texts_with_metadata(documents, metadata_list)\n",
        "\n",
        "# Example of accessing a chunk with its metadata\n",
        "first_chunk = split_documents[1]\n",
        "print(f\"Text: {first_chunk['text'][:500]}...\")\n",
        "print(f\"Metadata: {first_chunk['metadata']}\")"
      ]
    },
    {
      "cell_type": "code",
      "execution_count": 25,
      "metadata": {},
      "outputs": [],
      "source": [
        "vector_db = VectorDatabase()\n",
        "vector_db = asyncio.run(vector_db.abuild_from_list(split_documents))"
      ]
    },
    {
      "cell_type": "markdown",
      "metadata": {},
      "source": [
        "I expanded the vector database to include metadata."
      ]
    },
    {
      "cell_type": "code",
      "execution_count": 26,
      "metadata": {},
      "outputs": [
        {
          "data": {
            "text/plain": [
              "[('data/PMarcaBlogs.txt_115',\n",
              "  np.float64(0.6582125113300628),\n",
              "  {'source': 'data/PMarcaBlogs.txt',\n",
              "   'file_type': 'txt',\n",
              "   'created_date': '2025-01-19T12:28:40.707860',\n",
              "   'modified_date': '2025-01-16T19:31:08.153237',\n",
              "   'file_size': 302838,\n",
              "   'total_chars': 297904,\n",
              "   'chunk_index': 115,\n",
              "   'chunk_start': 92000,\n",
              "   'chunk_end': 93000,\n",
              "   'chunk_size': 1000}),\n",
              " ('data/PMarcaBlogs.txt_133',\n",
              "  np.float64(0.5088372362539734),\n",
              "  {'source': 'data/PMarcaBlogs.txt',\n",
              "   'file_type': 'txt',\n",
              "   'created_date': '2025-01-19T12:28:40.707860',\n",
              "   'modified_date': '2025-01-16T19:31:08.153237',\n",
              "   'file_size': 302838,\n",
              "   'total_chars': 297904,\n",
              "   'chunk_index': 133,\n",
              "   'chunk_start': 106400,\n",
              "   'chunk_end': 107400,\n",
              "   'chunk_size': 1000}),\n",
              " ('data/PMarcaBlogs.txt_132',\n",
              "  np.float64(0.47903669405979216),\n",
              "  {'source': 'data/PMarcaBlogs.txt',\n",
              "   'file_type': 'txt',\n",
              "   'created_date': '2025-01-19T12:28:40.707860',\n",
              "   'modified_date': '2025-01-16T19:31:08.153237',\n",
              "   'file_size': 302838,\n",
              "   'total_chars': 297904,\n",
              "   'chunk_index': 132,\n",
              "   'chunk_start': 105600,\n",
              "   'chunk_end': 106600,\n",
              "   'chunk_size': 1000})]"
            ]
          },
          "execution_count": 26,
          "metadata": {},
          "output_type": "execute_result"
        }
      ],
      "source": [
        "vector_db.search_by_text(\"What is the 'Michael Eisner Memorial Weak Executive Problem'?\", k=3)"
      ]
    },
    {
      "cell_type": "markdown",
      "metadata": {},
      "source": [
        "Run the search with a combined text and metadata."
      ]
    },
    {
      "cell_type": "code",
      "execution_count": 27,
      "metadata": {},
      "outputs": [
        {
          "data": {
            "text/plain": [
              "{'response': \"The 'Michael Eisner Memorial Weak Executive Problem' refers to a situation where a CEO or startup founder, who has a strong background in a particular function (like product management, sales, or marketing), hires a weak executive to manage that same function. This often occurs because the CEO struggles to let go of the role they were successful in and may prefer to have a less competent executive in place so they can retain control and continue to be the prominent figure in that area. The term is named after Michael Eisner, the former CEO of Disney, who, despite being a successful television executive, oversaw a period when ABC fell to fourth place in the ratings. Eisner's claim that he could turn ABC around if he had more time illustrates the tendency of leaders to underestimate the challenges of effectively managing areas outside their direct expertise.\",\n",
              " 'context': [('ordingly.\\nSeventh, when hiring the executive to run your former specialty, be\\ncareful you don’t hire someone weak on purpose.\\nThis sounds silly, but you wouldn’t believe how oaen it happens.\\nThe CEO who used to be a product manager who has a weak\\nproduct management executive. The CEO who used to be in\\nsales who has a weak sales executive. The CEO who used to be\\nin marketing who has a weak marketing executive.\\nI call this the “Michael Eisner Memorial Weak Executive Problem” — aaer the CEO of Disney who had previously been a brilliant TV network executive. When he bought ABC at Disney, it\\npromptly fell to fourth place. His response? “If I had an extra\\ntwo days a week, I could turn around ABC myself.” Well, guess\\nwhat, he didn’t have an extra two days a week.\\nA CEO — or a startup founder — oaen has a hard time letting\\ngo of the function that brought him to the party. The result: you\\nhire someone weak into the executive role for that function so\\nthat you can continue to be “the man” — cons',\n",
              "   'ordingly.\\nSeventh, when hiring the executive to run your former specialty, be\\ncareful you don’t hire someone weak on purpose.\\nThis sounds silly, but you wouldn’t believe how oaen it happens.\\nThe CEO who used to be a product manager who has a weak\\nproduct management executive. The CEO who used to be in\\nsales who has a weak sales executive. The CEO who used to be\\nin marketing who has a weak marketing executive.\\nI call this the “Michael Eisner Memorial Weak Executive Problem” — aaer the CEO of Disney who had previously been a brilliant TV network executive. When he bought ABC at Disney, it\\npromptly fell to fourth place. His response? “If I had an extra\\ntwo days a week, I could turn around ABC myself.” Well, guess\\nwhat, he didn’t have an extra two days a week.\\nA CEO — or a startup founder — oaen has a hard time letting\\ngo of the function that brought him to the party. The result: you\\nhire someone weak into the executive role for that function so\\nthat you can continue to be “the man” — cons',\n",
              "   {'text': 'ordingly.\\nSeventh, when hiring the executive to run your former specialty, be\\ncareful you don’t hire someone weak on purpose.\\nThis sounds silly, but you wouldn’t believe how oaen it happens.\\nThe CEO who used to be a product manager who has a weak\\nproduct management executive. The CEO who used to be in\\nsales who has a weak sales executive. The CEO who used to be\\nin marketing who has a weak marketing executive.\\nI call this the “Michael Eisner Memorial Weak Executive Problem” — aaer the CEO of Disney who had previously been a brilliant TV network executive. When he bought ABC at Disney, it\\npromptly fell to fourth place. His response? “If I had an extra\\ntwo days a week, I could turn around ABC myself.” Well, guess\\nwhat, he didn’t have an extra two days a week.\\nA CEO — or a startup founder — oaen has a hard time letting\\ngo of the function that brought him to the party. The result: you\\nhire someone weak into the executive role for that function so\\nthat you can continue to be “the man” — cons'}),\n",
              "  ('m. They have areas where they are truly deXcient in judgment or skill set. That’s just life. Almost nobody is brilliant\\nat everything. When hiring and when Hring executives, you\\nmust therefore focus on strength rather than lack of weakness. Everybody has severe weaknesses even if you can’t see\\nthem yet. When managing, it’s oaen useful to micromanage and\\nto provide remedial training around these weaknesses. Doing so\\nmay make the diWerence between an executive succeeding or\\nfailing.\\nFor example, you might have a brilliant engineering executive\\nwho generates excellent team loyalty, has terriXc product judgment and makes the trains run on time. This same executive\\nmay be very poor at relating to the other functions in the company. She may generate far more than her share of cross-functional conYicts, cut herself oW from critical information, and\\nsigniXcantly impede your ability to sell and market eWectively.\\nYour alternatives are:\\n(a) Macro-manage and give her an annual or quarterly object',\n",
              "   'm. They have areas where they are truly deXcient in judgment or skill set. That’s just life. Almost nobody is brilliant\\nat everything. When hiring and when Hring executives, you\\nmust therefore focus on strength rather than lack of weakness. Everybody has severe weaknesses even if you can’t see\\nthem yet. When managing, it’s oaen useful to micromanage and\\nto provide remedial training around these weaknesses. Doing so\\nmay make the diWerence between an executive succeeding or\\nfailing.\\nFor example, you might have a brilliant engineering executive\\nwho generates excellent team loyalty, has terriXc product judgment and makes the trains run on time. This same executive\\nmay be very poor at relating to the other functions in the company. She may generate far more than her share of cross-functional conYicts, cut herself oW from critical information, and\\nsigniXcantly impede your ability to sell and market eWectively.\\nYour alternatives are:\\n(a) Macro-manage and give her an annual or quarterly object',\n",
              "   {'text': 'm. They have areas where they are truly deXcient in judgment or skill set. That’s just life. Almost nobody is brilliant\\nat everything. When hiring and when Hring executives, you\\nmust therefore focus on strength rather than lack of weakness. Everybody has severe weaknesses even if you can’t see\\nthem yet. When managing, it’s oaen useful to micromanage and\\nto provide remedial training around these weaknesses. Doing so\\nmay make the diWerence between an executive succeeding or\\nfailing.\\nFor example, you might have a brilliant engineering executive\\nwho generates excellent team loyalty, has terriXc product judgment and makes the trains run on time. This same executive\\nmay be very poor at relating to the other functions in the company. She may generate far more than her share of cross-functional conYicts, cut herself oW from critical information, and\\nsigniXcantly impede your ability to sell and market eWectively.\\nYour alternatives are:\\n(a) Macro-manage and give her an annual or quarterly object'}),\n",
              "  ('ed?\\nIn reality — as opposed to Marc’s warped view of reality — it will\\nbe extremely helpful for Marc [if he were actually the CEO,\\nwhich he is not] to meet with the new head of engineering daily\\nwhen she comes on board and review all of her thinking and\\ndecisions. This level of micromanagement will accelerate her\\ntraining and improve her long-term eWectiveness. It will make\\nher seem smarter to the rest of the organization which will build\\ncredibility and conXdence while she comes up to speed. Micromanaging new executives is generally a good idea for a limited\\nperiod of time.\\nHowever, that is not the only time that it makes sense to micro66 The Pmarca Blog Archives\\nmanage executives. It turns out that just about every executive\\nin the world has a few things that are seriously wrong with\\nthem. They have areas where they are truly deXcient in judgment or skill set. That’s just life. Almost nobody is brilliant\\nat everything. When hiring and when Hring executives, you\\nmust therefore focus o',\n",
              "   'ed?\\nIn reality — as opposed to Marc’s warped view of reality — it will\\nbe extremely helpful for Marc [if he were actually the CEO,\\nwhich he is not] to meet with the new head of engineering daily\\nwhen she comes on board and review all of her thinking and\\ndecisions. This level of micromanagement will accelerate her\\ntraining and improve her long-term eWectiveness. It will make\\nher seem smarter to the rest of the organization which will build\\ncredibility and conXdence while she comes up to speed. Micromanaging new executives is generally a good idea for a limited\\nperiod of time.\\nHowever, that is not the only time that it makes sense to micro66 The Pmarca Blog Archives\\nmanage executives. It turns out that just about every executive\\nin the world has a few things that are seriously wrong with\\nthem. They have areas where they are truly deXcient in judgment or skill set. That’s just life. Almost nobody is brilliant\\nat everything. When hiring and when Hring executives, you\\nmust therefore focus o',\n",
              "   {'text': 'ed?\\nIn reality — as opposed to Marc’s warped view of reality — it will\\nbe extremely helpful for Marc [if he were actually the CEO,\\nwhich he is not] to meet with the new head of engineering daily\\nwhen she comes on board and review all of her thinking and\\ndecisions. This level of micromanagement will accelerate her\\ntraining and improve her long-term eWectiveness. It will make\\nher seem smarter to the rest of the organization which will build\\ncredibility and conXdence while she comes up to speed. Micromanaging new executives is generally a good idea for a limited\\nperiod of time.\\nHowever, that is not the only time that it makes sense to micro66 The Pmarca Blog Archives\\nmanage executives. It turns out that just about every executive\\nin the world has a few things that are seriously wrong with\\nthem. They have areas where they are truly deXcient in judgment or skill set. That’s just life. Almost nobody is brilliant\\nat everything. When hiring and when Hring executives, you\\nmust therefore focus o'})]}"
            ]
          },
          "execution_count": 27,
          "metadata": {},
          "output_type": "execute_result"
        }
      ],
      "source": [
        "eval_augmented_qa_pipeline = RetrievalAugmentedQAPipeline(\n",
        "    vector_db_retriever=vector_db,\n",
        "    llm=chat_openai\n",
        ")\n",
        "\n",
        "retrieval_augmented_qa_pipeline.run_pipeline(\"What is the 'Michael Eisner Memorial Weak Executive Problem'?\")"
      ]
    }
  ],
  "metadata": {
    "colab": {
      "provenance": []
    },
    "kernelspec": {
      "display_name": ".venv",
      "language": "python",
      "name": "python3"
    },
    "language_info": {
      "codemirror_mode": {
        "name": "ipython",
        "version": 3
      },
      "file_extension": ".py",
      "mimetype": "text/x-python",
      "name": "python",
      "nbconvert_exporter": "python",
      "pygments_lexer": "ipython3",
      "version": "3.13.0"
    },
    "orig_nbformat": 4,
    "widgets": {
      "application/vnd.jupyter.widget-state+json": {
        "1ce393d9afcf427d9d352259c5d32678": {
          "model_module": "@jupyter-widgets/controls",
          "model_module_version": "1.5.0",
          "model_name": "FloatProgressModel",
          "state": {
            "_dom_classes": [],
            "_model_module": "@jupyter-widgets/controls",
            "_model_module_version": "1.5.0",
            "_model_name": "FloatProgressModel",
            "_view_count": null,
            "_view_module": "@jupyter-widgets/controls",
            "_view_module_version": "1.5.0",
            "_view_name": "ProgressView",
            "bar_style": "",
            "description": "",
            "description_tooltip": null,
            "layout": "IPY_MODEL_4e6efd99f7d346e485b002fb0fa85cc7",
            "max": 1,
            "min": 0,
            "orientation": "horizontal",
            "style": "IPY_MODEL_3dfb67c39958461da6071e4c19c3fa41",
            "value": 1
          }
        },
        "3a4ba348cb004f8ab7b2b1395539c81b": {
          "model_module": "@jupyter-widgets/controls",
          "model_module_version": "1.5.0",
          "model_name": "LabelModel",
          "state": {
            "_dom_classes": [],
            "_model_module": "@jupyter-widgets/controls",
            "_model_module_version": "1.5.0",
            "_model_name": "LabelModel",
            "_view_count": null,
            "_view_module": "@jupyter-widgets/controls",
            "_view_module_version": "1.5.0",
            "_view_name": "LabelView",
            "description": "",
            "description_tooltip": null,
            "layout": "IPY_MODEL_d2ea5009dd16442cb5d8a0ac468e50a8",
            "placeholder": "​",
            "style": "IPY_MODEL_5f00135fe1044051a50ee5e841cbb8e3",
            "value": "0.018 MB of 0.018 MB uploaded\r"
          }
        },
        "3dfb67c39958461da6071e4c19c3fa41": {
          "model_module": "@jupyter-widgets/controls",
          "model_module_version": "1.5.0",
          "model_name": "ProgressStyleModel",
          "state": {
            "_model_module": "@jupyter-widgets/controls",
            "_model_module_version": "1.5.0",
            "_model_name": "ProgressStyleModel",
            "_view_count": null,
            "_view_module": "@jupyter-widgets/base",
            "_view_module_version": "1.2.0",
            "_view_name": "StyleView",
            "bar_color": null,
            "description_width": ""
          }
        },
        "4e6efd99f7d346e485b002fb0fa85cc7": {
          "model_module": "@jupyter-widgets/base",
          "model_module_version": "1.2.0",
          "model_name": "LayoutModel",
          "state": {
            "_model_module": "@jupyter-widgets/base",
            "_model_module_version": "1.2.0",
            "_model_name": "LayoutModel",
            "_view_count": null,
            "_view_module": "@jupyter-widgets/base",
            "_view_module_version": "1.2.0",
            "_view_name": "LayoutView",
            "align_content": null,
            "align_items": null,
            "align_self": null,
            "border": null,
            "bottom": null,
            "display": null,
            "flex": null,
            "flex_flow": null,
            "grid_area": null,
            "grid_auto_columns": null,
            "grid_auto_flow": null,
            "grid_auto_rows": null,
            "grid_column": null,
            "grid_gap": null,
            "grid_row": null,
            "grid_template_areas": null,
            "grid_template_columns": null,
            "grid_template_rows": null,
            "height": null,
            "justify_content": null,
            "justify_items": null,
            "left": null,
            "margin": null,
            "max_height": null,
            "max_width": null,
            "min_height": null,
            "min_width": null,
            "object_fit": null,
            "object_position": null,
            "order": null,
            "overflow": null,
            "overflow_x": null,
            "overflow_y": null,
            "padding": null,
            "right": null,
            "top": null,
            "visibility": null,
            "width": null
          }
        },
        "56a8e24025594e5e9ff3b8581c344691": {
          "model_module": "@jupyter-widgets/base",
          "model_module_version": "1.2.0",
          "model_name": "LayoutModel",
          "state": {
            "_model_module": "@jupyter-widgets/base",
            "_model_module_version": "1.2.0",
            "_model_name": "LayoutModel",
            "_view_count": null,
            "_view_module": "@jupyter-widgets/base",
            "_view_module_version": "1.2.0",
            "_view_name": "LayoutView",
            "align_content": null,
            "align_items": null,
            "align_self": null,
            "border": null,
            "bottom": null,
            "display": null,
            "flex": null,
            "flex_flow": null,
            "grid_area": null,
            "grid_auto_columns": null,
            "grid_auto_flow": null,
            "grid_auto_rows": null,
            "grid_column": null,
            "grid_gap": null,
            "grid_row": null,
            "grid_template_areas": null,
            "grid_template_columns": null,
            "grid_template_rows": null,
            "height": null,
            "justify_content": null,
            "justify_items": null,
            "left": null,
            "margin": null,
            "max_height": null,
            "max_width": null,
            "min_height": null,
            "min_width": null,
            "object_fit": null,
            "object_position": null,
            "order": null,
            "overflow": null,
            "overflow_x": null,
            "overflow_y": null,
            "padding": null,
            "right": null,
            "top": null,
            "visibility": null,
            "width": null
          }
        },
        "5f00135fe1044051a50ee5e841cbb8e3": {
          "model_module": "@jupyter-widgets/controls",
          "model_module_version": "1.5.0",
          "model_name": "DescriptionStyleModel",
          "state": {
            "_model_module": "@jupyter-widgets/controls",
            "_model_module_version": "1.5.0",
            "_model_name": "DescriptionStyleModel",
            "_view_count": null,
            "_view_module": "@jupyter-widgets/base",
            "_view_module_version": "1.2.0",
            "_view_name": "StyleView",
            "description_width": ""
          }
        },
        "bb904e05ece143c79ecc4f20de482f45": {
          "model_module": "@jupyter-widgets/controls",
          "model_module_version": "1.5.0",
          "model_name": "VBoxModel",
          "state": {
            "_dom_classes": [],
            "_model_module": "@jupyter-widgets/controls",
            "_model_module_version": "1.5.0",
            "_model_name": "VBoxModel",
            "_view_count": null,
            "_view_module": "@jupyter-widgets/controls",
            "_view_module_version": "1.5.0",
            "_view_name": "VBoxView",
            "box_style": "",
            "children": [
              "IPY_MODEL_3a4ba348cb004f8ab7b2b1395539c81b",
              "IPY_MODEL_1ce393d9afcf427d9d352259c5d32678"
            ],
            "layout": "IPY_MODEL_56a8e24025594e5e9ff3b8581c344691"
          }
        },
        "d2ea5009dd16442cb5d8a0ac468e50a8": {
          "model_module": "@jupyter-widgets/base",
          "model_module_version": "1.2.0",
          "model_name": "LayoutModel",
          "state": {
            "_model_module": "@jupyter-widgets/base",
            "_model_module_version": "1.2.0",
            "_model_name": "LayoutModel",
            "_view_count": null,
            "_view_module": "@jupyter-widgets/base",
            "_view_module_version": "1.2.0",
            "_view_name": "LayoutView",
            "align_content": null,
            "align_items": null,
            "align_self": null,
            "border": null,
            "bottom": null,
            "display": null,
            "flex": null,
            "flex_flow": null,
            "grid_area": null,
            "grid_auto_columns": null,
            "grid_auto_flow": null,
            "grid_auto_rows": null,
            "grid_column": null,
            "grid_gap": null,
            "grid_row": null,
            "grid_template_areas": null,
            "grid_template_columns": null,
            "grid_template_rows": null,
            "height": null,
            "justify_content": null,
            "justify_items": null,
            "left": null,
            "margin": null,
            "max_height": null,
            "max_width": null,
            "min_height": null,
            "min_width": null,
            "object_fit": null,
            "object_position": null,
            "order": null,
            "overflow": null,
            "overflow_x": null,
            "overflow_y": null,
            "padding": null,
            "right": null,
            "top": null,
            "visibility": null,
            "width": null
          }
        }
      }
    }
  },
  "nbformat": 4,
  "nbformat_minor": 0
}
